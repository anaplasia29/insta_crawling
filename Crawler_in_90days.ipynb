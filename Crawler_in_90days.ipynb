{
 "cells": [
  {
   "cell_type": "code",
   "execution_count": 1,
   "id": "be58353b-90ca-43dd-9150-987056817e94",
   "metadata": {},
   "outputs": [],
   "source": [
    "from urllib.request import urlopen\n",
    "from urllib.parse import quote_plus # 아스키 코드로 변환시켜준다.\n",
    "import urllib.request\n",
    "import re\n",
    "from bs4 import BeautifulSoup\n",
    "from selenium import webdriver\n",
    "from selenium.webdriver.common.keys import Keys\n",
    "from selenium.common.exceptions import StaleElementReferenceException, NoSuchElementException, NoSuchWindowException\n",
    "from requests.exceptions import ConnectionError\n",
    "import unicodedata\n",
    "from webdriver_manager.chrome import ChromeDriverManager\n",
    "import time\n",
    "import requests\n",
    "import os\n",
    "import urllib.request        \n",
    "import filecmp\n",
    "import pandas as pd\n",
    "import numpy as np\n",
    "from tqdm import tqdm\n",
    "import datetime\n",
    "from glob import glob"
   ]
  },
  {
   "cell_type": "code",
   "execution_count": 2,
   "id": "2162cf46-1e82-4cdf-8109-5d9fe4dc69c6",
   "metadata": {},
   "outputs": [],
   "source": [
    "MONTH_STR_TO_INT = {\n",
    "    'January' : 1,\n",
    "    'February' : 2,\n",
    "    'March' : 3,\n",
    "    'April' : 4,\n",
    "    'May' : 5,\n",
    "    'June' : 6,\n",
    "    'July' : 7,\n",
    "    'August' : 8,\n",
    "    'September' : 9,\n",
    "    'October' : 10,\n",
    "    'November' : 11,\n",
    "    'December' : 12\n",
    "    \n",
    "}"
   ]
  },
  {
   "cell_type": "code",
   "execution_count": 3,
   "id": "9e80df68-184f-473b-a96a-9e45feb80c65",
   "metadata": {},
   "outputs": [],
   "source": [
    "def isKorean(text):\n",
    "    hangul = re.compile('[\\u3131-\\u3163\\uac00-\\ud7a3]+')  \n",
    "    result = hangul.findall(text)\n",
    "    return len(result)"
   ]
  },
  {
   "cell_type": "code",
   "execution_count": 4,
   "id": "d3d9dbd7-eac6-4ade-a06f-e598412b61b7",
   "metadata": {},
   "outputs": [],
   "source": [
    "def upload_date_check():\n",
    "    html = driver.page_source\n",
    "    soup = BeautifulSoup(html)\n",
    "    # driver.find_element_by_xpath('.//time [@class = \"_aaqe\"]').text# datetime\n",
    "    # time.sleep(1)\n",
    "    \n",
    "\n",
    "    for idx, i in enumerate(soup.findAll('time')):\n",
    "        if i.has_attr('datetime'):\n",
    "            TIME = i['datetime']\n",
    "\n",
    "            p = re.search('(\\d+)-(\\d+)-(\\d+)', TIME)\n",
    "            if p:\n",
    "                yyyy, mm, dd = [int(x) for x in p.groups()]\n",
    "                print(datetime.datetime.now().date() - datetime.date(yyyy, mm, dd), end='\\r')\n",
    "                return yyyy, mm, dd\n",
    "        \n",
    "    return False"
   ]
  },
  {
   "cell_type": "code",
   "execution_count": 5,
   "id": "9f52bc5a-67a3-4197-9ff5-038ea92c9c54",
   "metadata": {},
   "outputs": [],
   "source": [
    "def crawl_influencers():\n",
    "    driver.find_element_by_partial_link_text(\"팔로우\").click()\n",
    "    #driver.find_element_by_css_selector('a').click()\n",
    "    time.sleep(5)\n",
    "\n",
    "    SCROLL_PAUSE = 0.5  # Pause to allow loading of content\n",
    "    driver.execute_script(\"followingbox = document.getElementsByClassName('_aano')[0];\")\n",
    "    last_height = driver.execute_script(\"return followingbox.scrollHeight;\")\n",
    "\n",
    "    # We need to scroll the following modal to ensure that all following are loaded\n",
    "    while True:\n",
    "        driver.execute_script(\"followingbox.scrollTo(0, followingbox.scrollHeight);\")\n",
    "\n",
    "        # Wait for page to load\n",
    "        time.sleep(SCROLL_PAUSE)\n",
    "\n",
    "        # Calculate new scrollHeight and compare with the previous\n",
    "        new_height = driver.execute_script(\"return followingbox.scrollHeight;\")\n",
    "        if new_height == last_height:\n",
    "            time.sleep(3)\n",
    "            driver.execute_script(\"followingbox.scrollTo(0, followingbox.scrollHeight);\")\n",
    "            if new_height == last_height:\n",
    "                break\n",
    "        last_height = new_height\n",
    "\n",
    "    soup = BeautifulSoup(driver.page_source, 'html.parser')\n",
    "    followings = soup.findAll('a',['FPmhX','notranslate','_0imsa'])\n",
    "    followings_text = []\n",
    "    for following in followings:\n",
    "        followings_text.append(following.get_text())\n",
    "            \n",
    "    rest= requests.get(url)\n",
    "    soup =BeautifulSoup(rest.content, 'html.parser')\n",
    "    \n",
    "    close_following_bttn = driver.find_element_by_class_name('_ac7b._ac7d')\n",
    "    close_following_bttn.click()\n",
    "\n",
    "    influencer_following = [ x.split('인증됨')[0] for x in followings_text if len(x.split('인증됨'))==2 ]\n",
    "    \n",
    "    return influencer_following"
   ]
  },
  {
   "cell_type": "code",
   "execution_count": 6,
   "id": "dd129bcf-a574-4a42-82b5-15cab2764a2e",
   "metadata": {},
   "outputs": [],
   "source": [
    "def image_save(SRC, PATH, UPLOAD_DATE):\n",
    "    yyyy, mm, dd = UPLOAD_DATE\n",
    "    exists_files = glob(f'{download_directory}/{datetime.date(yyyy, mm, dd)}*')\n",
    "    with open(f'{PATH}/{datetime.date(yyyy, mm, dd)}_{len(exists_files)+1}.jpg', 'wb') as handler: \n",
    "        handler.write(SRC)"
   ]
  },
  {
   "cell_type": "code",
   "execution_count": 7,
   "id": "9f735ff5-fffc-4451-98b8-71bd7627a150",
   "metadata": {},
   "outputs": [],
   "source": [
    "personal_info = pd.read_csv('personal_info.csv')\n",
    "ID, PW = personal_info['ID'], personal_info['PW']"
   ]
  },
  {
   "cell_type": "code",
   "execution_count": 8,
   "id": "4b618d87-a5c3-4248-b579-2e67dcf0e247",
   "metadata": {},
   "outputs": [],
   "source": [
    "influencers = pd.read_csv('new_influencer.csv', index_col=0)\n",
    "# influencers = [x.strip() for x in influencers['influencer'].values]\n",
    "exists_df = influencers.index.isin(os.listdir('./img'))\n",
    "influencers = influencers[~exists_df]"
   ]
  },
  {
   "cell_type": "code",
   "execution_count": 9,
   "id": "999ed767-0538-4d86-af73-dd5995539132",
   "metadata": {},
   "outputs": [
    {
     "name": "stdout",
     "output_type": "stream",
     "text": [
      "https://www.instagram.com/nizinanjjang\n"
     ]
    }
   ],
   "source": [
    "baseUrl = 'https://www.instagram.com/'\n",
    "plusUrl = influencers.index[0]# 'jin_a_nana'# influencers['influencer'][9].strip()\n",
    "url = baseUrl + quote_plus(plusUrl)\n",
    "\n",
    "print(url)"
   ]
  },
  {
   "cell_type": "code",
   "execution_count": 10,
   "id": "26bf6bbf-3a56-4598-82e8-3c96ed683e78",
   "metadata": {},
   "outputs": [],
   "source": [
    "driver = webdriver.Chrome(ChromeDriverManager().install())\n",
    "driver.get(baseUrl) # 드라이버를 띄운다. (크롬 웹 페이지를 연다.)\n",
    "driver.implicitly_wait(5)\n",
    "\n",
    "driver.find_element_by_name('username').send_keys(ID)\n",
    "driver.implicitly_wait(5)\n",
    "elem_pw = driver.find_element_by_name('password') # .submit()\n",
    "elem_pw.send_keys(PW)\n",
    "driver.implicitly_wait(5)\n",
    "elem_pw.submit()\n",
    "driver.implicitly_wait(5)\n",
    "time.sleep(5)"
   ]
  },
  {
   "cell_type": "code",
   "execution_count": 11,
   "id": "6945ff66-60c0-4fb8-a1d8-147d75cadfc9",
   "metadata": {},
   "outputs": [
    {
     "data": {
      "text/plain": [
       "'nizinanjjang'"
      ]
     },
     "execution_count": 11,
     "metadata": {},
     "output_type": "execute_result"
    }
   ],
   "source": [
    "influencers.index[0]"
   ]
  },
  {
   "cell_type": "code",
   "execution_count": 12,
   "id": "015c675c-ef7c-456d-8b84-cf875dea9605",
   "metadata": {
    "scrolled": true,
    "tags": []
   },
   "outputs": [
    {
     "name": "stdout",
     "output_type": "stream",
     "text": [
      "https://www.instagram.com/nizinanjjang\n",
      "https://www.instagram.com/davikah\n",
      "https://www.instagram.com/collagevintage2\n",
      "https://www.instagram.com/songdani\n",
      "https://www.instagram.com/carodaur\n",
      "https://www.instagram.com/stylebop\n",
      "https://www.instagram.com/hikari\n",
      "https://www.instagram.com/korea_grandma\n",
      "https://www.instagram.com/yoyokulala\n",
      "https://www.instagram.com/thesartorialist\n"
     ]
    }
   ],
   "source": [
    "baseUrl = 'https://www.instagram.com/'\n",
    "plusUrl = influencers.index[0]# 'jin_a_nana'# influencers['influencer'][9].strip()\n",
    "url = baseUrl + quote_plus(plusUrl)\n",
    "download_directory = os.path.join('./img', plusUrl)\n",
    "\n",
    "for plusUrl in influencers.index[:10]:\n",
    "    url = baseUrl + quote_plus(plusUrl)\n",
    "    print(url)"
   ]
  },
  {
   "cell_type": "code",
   "execution_count": 13,
   "id": "37d9560b-bf9a-46de-bc94-834303f53c8a",
   "metadata": {},
   "outputs": [
    {
     "data": {
      "text/plain": [
       "'nizinanjjang'"
      ]
     },
     "execution_count": 13,
     "metadata": {},
     "output_type": "execute_result"
    }
   ],
   "source": [
    "influencers.index[0]"
   ]
  },
  {
   "cell_type": "code",
   "execution_count": 14,
   "id": "9c11487c-ce8d-418f-b2cf-4dd13205d35b",
   "metadata": {},
   "outputs": [],
   "source": [
    "# influencers = influencers.drop(influencers.index[0])\n",
    "\n",
    "# influencers.to_csv('new_influencer.csv')"
   ]
  },
  {
   "cell_type": "code",
   "execution_count": 15,
   "id": "a8c156c7-e4a9-47a9-96c3-ac6f1f482d42",
   "metadata": {},
   "outputs": [],
   "source": [
    "influencers = pd.read_csv('new_influencer.csv', index_col=0)"
   ]
  },
  {
   "cell_type": "code",
   "execution_count": null,
   "id": "5fe8ad56-800c-4488-bffb-d1b855c039a4",
   "metadata": {
    "scrolled": true,
    "tags": []
   },
   "outputs": [
    {
     "name": "stdout",
     "output_type": "stream",
     "text": [
      "nizinanjjang Make Directory\n",
      "Photo shared by nanjeong Lee 이난정 on July 07, 2021 tagging @tabithasimmons, @matchesfashion, and @tannerkrolle.\n",
      "https://scontent-gmp1-1.cdninstagram.com/v/t51.2885-15/211483641_216490953674258_6632226716910889316_n.jpg?stp=dst-jpg_e35&_nc_ht=scontent-gmp1-1.cdninstagram.com&_nc_cat=102&_nc_ohc=zErZsL_g5TIAX-Axmme&edm=ALQROFkBAAAA&ccb=7-5&ig_cache_key=MjYxMjYwNDQ2MDU3MjQyNTQ5NQ%3D%3D.2-ccb7-5&oh=00_AfD8vZUFhkmbv5sCumRnIqkcH3Mzyfjm1zOfAngk8d8VTQ&oe=637EE416&_nc_sid=30a2ef\n",
      "Photo by nanjeong Lee 이난정 on July 07, 2021.\n",
      "https://scontent-gmp1-1.cdninstagram.com/v/t51.2885-15/210835504_1212880919160392_1729989204473320470_n.jpg?stp=dst-jpg_e35&_nc_ht=scontent-gmp1-1.cdninstagram.com&_nc_cat=108&_nc_ohc=7CEqqIMnAh0AX9fa2De&edm=ALQROFkBAAAA&ccb=7-5&ig_cache_key=MjYxMjYwNDQ2MDUzMDQ5NDAwMA%3D%3D.2-ccb7-5&oh=00_AfCXcS29GhlsynRPNsnCrGAgYFNppou8y7pDzyN7Sunm5Q&oe=637F5027&_nc_sid=30a2ef\n",
      "Photo shared by nanjeong Lee 이난정 on July 07, 2021 tagging @tabithasimmons, @matchesfashion, and @tannerkrolle.\n",
      "https://scontent-gmp1-1.cdninstagram.com/v/t51.2885-15/211483641_216490953674258_6632226716910889316_n.jpg?stp=dst-jpg_e35&_nc_ht=scontent-gmp1-1.cdninstagram.com&_nc_cat=102&_nc_ohc=zErZsL_g5TIAX-Axmme&edm=ALQROFkBAAAA&ccb=7-5&ig_cache_key=MjYxMjYwNDQ2MDU3MjQyNTQ5NQ%3D%3D.2-ccb7-5&oh=00_AfD8vZUFhkmbv5sCumRnIqkcH3Mzyfjm1zOfAngk8d8VTQ&oe=637EE416&_nc_sid=30a2ef\n",
      "Photo by nanjeong Lee 이난정 on July 07, 2021.\n",
      "https://scontent-gmp1-1.cdninstagram.com/v/t51.2885-15/210835504_1212880919160392_1729989204473320470_n.jpg?stp=dst-jpg_e35&_nc_ht=scontent-gmp1-1.cdninstagram.com&_nc_cat=108&_nc_ohc=7CEqqIMnAh0AX9fa2De&edm=ALQROFkBAAAA&ccb=7-5&ig_cache_key=MjYxMjYwNDQ2MDUzMDQ5NDAwMA%3D%3D.2-ccb7-5&oh=00_AfCXcS29GhlsynRPNsnCrGAgYFNppou8y7pDzyN7Sunm5Q&oe=637F5027&_nc_sid=30a2ef\n",
      "Photo by nanjeong Lee 이난정 on July 07, 2021.\n",
      "https://scontent-gmp1-1.cdninstagram.com/v/t51.2885-15/214133002_792584981440038_19704811035387988_n.jpg?stp=dst-jpg_e35&_nc_ht=scontent-gmp1-1.cdninstagram.com&_nc_cat=106&_nc_ohc=vYM3tqqy8KAAX81xm3J&tn=BdiKrCMbl_HsizPL&edm=ALQROFkBAAAA&ccb=7-5&ig_cache_key=MjYxMjYwNDQ2MDU0NzI0NzMzNA%3D%3D.2-ccb7-5&oh=00_AfCuOIMRQJrP9JtkTNIsaO5FwIonXRP0Ih99V2A_CNx5Zw&oe=63804013&_nc_sid=30a2ef\n",
      "Photo by nanjeong Lee 이난정 on July 07, 2021.\n",
      "https://scontent-gmp1-1.cdninstagram.com/v/t51.2885-15/210835504_1212880919160392_1729989204473320470_n.jpg?stp=dst-jpg_e35&_nc_ht=scontent-gmp1-1.cdninstagram.com&_nc_cat=108&_nc_ohc=7CEqqIMnAh0AX9fa2De&edm=ALQROFkBAAAA&ccb=7-5&ig_cache_key=MjYxMjYwNDQ2MDUzMDQ5NDAwMA%3D%3D.2-ccb7-5&oh=00_AfCXcS29GhlsynRPNsnCrGAgYFNppou8y7pDzyN7Sunm5Q&oe=637F5027&_nc_sid=30a2ef\n",
      "Photo by nanjeong Lee 이난정 on July 07, 2021.\n",
      "https://scontent-gmp1-1.cdninstagram.com/v/t51.2885-15/214133002_792584981440038_19704811035387988_n.jpg?stp=dst-jpg_e35&_nc_ht=scontent-gmp1-1.cdninstagram.com&_nc_cat=106&_nc_ohc=vYM3tqqy8KAAX81xm3J&tn=BdiKrCMbl_HsizPL&edm=ALQROFkBAAAA&ccb=7-5&ig_cache_key=MjYxMjYwNDQ2MDU0NzI0NzMzNA%3D%3D.2-ccb7-5&oh=00_AfCuOIMRQJrP9JtkTNIsaO5FwIonXRP0Ih99V2A_CNx5Zw&oe=63804013&_nc_sid=30a2ef\n",
      "Photo shared by nanjeong Lee 이난정 on July 07, 2021 tagging @12storeez_com.\n",
      "https://scontent-gmp1-1.cdninstagram.com/v/t51.2885-15/211360834_535539320909106_6979567496767518850_n.jpg?stp=dst-jpg_e35&_nc_ht=scontent-gmp1-1.cdninstagram.com&_nc_cat=106&_nc_ohc=OnpSnymdZHEAX8HekBq&edm=ALQROFkBAAAA&ccb=7-5&ig_cache_key=MjYxMjYwNDQ2MDUxMzY2ODc2OQ%3D%3D.2-ccb7-5&oh=00_AfBhvQmGHsdJ1KxQmCm17plJE4J2vkw2DTlhkEvrPI-YnQ&oe=638079F3&_nc_sid=30a2ef\n",
      "Photo by nanjeong Lee 이난정 on July 07, 2021.\n",
      "https://scontent-gmp1-1.cdninstagram.com/v/t51.2885-15/214133002_792584981440038_19704811035387988_n.jpg?stp=dst-jpg_e35&_nc_ht=scontent-gmp1-1.cdninstagram.com&_nc_cat=106&_nc_ohc=vYM3tqqy8KAAX81xm3J&tn=BdiKrCMbl_HsizPL&edm=ALQROFkBAAAA&ccb=7-5&ig_cache_key=MjYxMjYwNDQ2MDU0NzI0NzMzNA%3D%3D.2-ccb7-5&oh=00_AfCuOIMRQJrP9JtkTNIsaO5FwIonXRP0Ih99V2A_CNx5Zw&oe=63804013&_nc_sid=30a2ef\n",
      "Photo shared by nanjeong Lee 이난정 on July 07, 2021 tagging @12storeez_com.\n",
      "https://scontent-gmp1-1.cdninstagram.com/v/t51.2885-15/211360834_535539320909106_6979567496767518850_n.jpg?stp=dst-jpg_e35&_nc_ht=scontent-gmp1-1.cdninstagram.com&_nc_cat=106&_nc_ohc=OnpSnymdZHEAX8HekBq&edm=ALQROFkBAAAA&ccb=7-5&ig_cache_key=MjYxMjYwNDQ2MDUxMzY2ODc2OQ%3D%3D.2-ccb7-5&oh=00_AfBhvQmGHsdJ1KxQmCm17plJE4J2vkw2DTlhkEvrPI-YnQ&oe=638079F3&_nc_sid=30a2ef\n",
      "Photo shared by nanjeong Lee 이난정 on July 07, 2021 tagging @12storeez.\n",
      "https://scontent-gmp1-1.cdninstagram.com/v/t51.2885-15/210858434_1251610061940718_3137769307494931477_n.jpg?stp=dst-jpg_e35&_nc_ht=scontent-gmp1-1.cdninstagram.com&_nc_cat=110&_nc_ohc=vG3-fuZbgK8AX8SVeM3&edm=ALQROFkBAAAA&ccb=7-5&ig_cache_key=MjYxMjYwNDQ2MDUzODg1MTgxNg%3D%3D.2-ccb7-5&oh=00_AfBgyGlFGIshtnFaCUri9FPP53rc9NNXuvKkcF1qZQOtYg&oe=638093AB&_nc_sid=30a2ef\n",
      "Photo shared by nanjeong Lee 이난정 on July 07, 2021 tagging @12storeez_com.\n",
      "https://scontent-gmp1-1.cdninstagram.com/v/t51.2885-15/211360834_535539320909106_6979567496767518850_n.jpg?stp=dst-jpg_e35&_nc_ht=scontent-gmp1-1.cdninstagram.com&_nc_cat=106&_nc_ohc=OnpSnymdZHEAX8HekBq&edm=ALQROFkBAAAA&ccb=7-5&ig_cache_key=MjYxMjYwNDQ2MDUxMzY2ODc2OQ%3D%3D.2-ccb7-5&oh=00_AfBhvQmGHsdJ1KxQmCm17plJE4J2vkw2DTlhkEvrPI-YnQ&oe=638079F3&_nc_sid=30a2ef\n",
      "Photo shared by nanjeong Lee 이난정 on July 07, 2021 tagging @12storeez.\n",
      "https://scontent-gmp1-1.cdninstagram.com/v/t51.2885-15/210858434_1251610061940718_3137769307494931477_n.jpg?stp=dst-jpg_e35&_nc_ht=scontent-gmp1-1.cdninstagram.com&_nc_cat=110&_nc_ohc=vG3-fuZbgK8AX8SVeM3&edm=ALQROFkBAAAA&ccb=7-5&ig_cache_key=MjYxMjYwNDQ2MDUzODg1MTgxNg%3D%3D.2-ccb7-5&oh=00_AfBgyGlFGIshtnFaCUri9FPP53rc9NNXuvKkcF1qZQOtYg&oe=638093AB&_nc_sid=30a2ef\n",
      "\n",
      "\n",
      "NO KOREAN 2357\n",
      "\n",
      "NO KOREAN 2353\n",
      "\n",
      "NO KOREAN 2350\n",
      "\n",
      "NO KOREAN 2347\n",
      "\n",
      "NO KOREAN 2343\n",
      "\n",
      "NO KOREAN 2340\n",
      "korea_grandma Make Directory\n",
      "Photo by 박막례 🇰🇷 on September 29, 2022.\n",
      "https://scontent-gmp1-1.cdninstagram.com/v/t51.2885-15/309364363_1126808248248190_8420792084364862922_n.jpg?stp=dst-jpg_e35&_nc_ht=scontent-gmp1-1.cdninstagram.com&_nc_cat=110&_nc_ohc=NFF0b2YtLpgAX_BWuTM&tn=BdiKrCMbl_HsizPL&edm=ABmJApABAAAA&ccb=7-5&ig_cache_key=MjkzODQ5Mzk4MzMwODc4Mzk0NA%3D%3D.2-ccb7-5&oh=00_AfB8eHQo-5wD-M_R60xsObLmZO2b0Upveu_ki6Fpbroj8A&oe=63801E4B&_nc_sid=6136e7\n",
      "Photo by 박막례 🇰🇷 on September 29, 2022.\n",
      "https://scontent-gmp1-1.cdninstagram.com/v/t51.2885-15/309364363_1126808248248190_8420792084364862922_n.jpg?stp=dst-jpg_e35&_nc_ht=scontent-gmp1-1.cdninstagram.com&_nc_cat=110&_nc_ohc=NFF0b2YtLpgAX_BWuTM&tn=BdiKrCMbl_HsizPL&edm=ABmJApABAAAA&ccb=7-5&ig_cache_key=MjkzODQ5Mzk4MzMwODc4Mzk0NA%3D%3D.2-ccb7-5&oh=00_AfB8eHQo-5wD-M_R60xsObLmZO2b0Upveu_ki6Fpbroj8A&oe=63801E4B&_nc_sid=6136e7\n",
      "Photo by 박막례 🇰🇷 on September 29, 2022.\n",
      "https://scontent-gmp1-1.cdninstagram.com/v/t51.2885-15/309364363_1126808248248190_8420792084364862922_n.jpg?stp=dst-jpg_e35&_nc_ht=scontent-gmp1-1.cdninstagram.com&_nc_cat=110&_nc_ohc=NFF0b2YtLpgAX_BWuTM&tn=BdiKrCMbl_HsizPL&edm=ABmJApABAAAA&ccb=7-5&ig_cache_key=MjkzODQ5Mzk4MzMwODc4Mzk0NA%3D%3D.2-ccb7-5&oh=00_AfB8eHQo-5wD-M_R60xsObLmZO2b0Upveu_ki6Fpbroj8A&oe=63801E4B&_nc_sid=6136e7\n",
      "Photo by 박막례 🇰🇷 on November 17, 2022. May be an image of 5 people, people standing and outdoors.\n",
      "https://scontent-gmp1-1.cdninstagram.com/v/t51.2885-15/315896655_5688532124541545_2141371176241456640_n.jpg?stp=dst-jpg_e35&_nc_ht=scontent-gmp1-1.cdninstagram.com&_nc_cat=105&_nc_ohc=Xcbx-GekN9QAX_ELKnE&edm=ALQROFkBAAAA&ccb=7-5&ig_cache_key=Mjk3Mzk0NzIyMjQyMzE0MzMwOA%3D%3D.2-ccb7-5&oh=00_AfDrddy2oRLbfEDV6bGro5S6zAfvAxtQY_MM33xu5ng8nw&oe=63805663&_nc_sid=30a2ef\n",
      "Photo by 박막례 🇰🇷 on November 17, 2022. May be an image of 5 people, people standing and outdoors.\n",
      "https://scontent-gmp1-1.cdninstagram.com/v/t51.2885-15/315896655_5688532124541545_2141371176241456640_n.jpg?stp=dst-jpg_e35&_nc_ht=scontent-gmp1-1.cdninstagram.com&_nc_cat=105&_nc_ohc=Xcbx-GekN9QAX_ELKnE&edm=ALQROFkBAAAA&ccb=7-5&ig_cache_key=Mjk3Mzk0NzIyMjQyMzE0MzMwOA%3D%3D.2-ccb7-5&oh=00_AfDrddy2oRLbfEDV6bGro5S6zAfvAxtQY_MM33xu5ng8nw&oe=63805663&_nc_sid=30a2ef\n",
      "Photo by 박막례 🇰🇷 on September 29, 2022.\n",
      "https://scontent-gmp1-1.cdninstagram.com/v/t51.2885-15/309364363_1126808248248190_8420792084364862922_n.jpg?stp=dst-jpg_e35&_nc_ht=scontent-gmp1-1.cdninstagram.com&_nc_cat=110&_nc_ohc=NFF0b2YtLpgAX_BWuTM&tn=BdiKrCMbl_HsizPL&edm=ABmJApABAAAA&ccb=7-5&ig_cache_key=MjkzODQ5Mzk4MzMwODc4Mzk0NA%3D%3D.2-ccb7-5&oh=00_AfB8eHQo-5wD-M_R60xsObLmZO2b0Upveu_ki6Fpbroj8A&oe=63801E4B&_nc_sid=6136e7\n",
      "Photo by 박막례 🇰🇷 on November 17, 2022. May be an image of 5 people, people standing and outdoors.\n",
      "https://scontent-gmp1-1.cdninstagram.com/v/t51.2885-15/315896655_5688532124541545_2141371176241456640_n.jpg?stp=dst-jpg_e35&_nc_ht=scontent-gmp1-1.cdninstagram.com&_nc_cat=105&_nc_ohc=Xcbx-GekN9QAX_ELKnE&edm=ALQROFkBAAAA&ccb=7-5&ig_cache_key=Mjk3Mzk0NzIyMjQyMzE0MzMwOA%3D%3D.2-ccb7-5&oh=00_AfDrddy2oRLbfEDV6bGro5S6zAfvAxtQY_MM33xu5ng8nw&oe=63805663&_nc_sid=30a2ef\n",
      "Photo by 박막례 🇰🇷 on September 29, 2022.\n",
      "https://scontent-gmp1-1.cdninstagram.com/v/t51.2885-15/309364363_1126808248248190_8420792084364862922_n.jpg?stp=dst-jpg_e35&_nc_ht=scontent-gmp1-1.cdninstagram.com&_nc_cat=110&_nc_ohc=NFF0b2YtLpgAX_BWuTM&tn=BdiKrCMbl_HsizPL&edm=ABmJApABAAAA&ccb=7-5&ig_cache_key=MjkzODQ5Mzk4MzMwODc4Mzk0NA%3D%3D.2-ccb7-5&oh=00_AfB8eHQo-5wD-M_R60xsObLmZO2b0Upveu_ki6Fpbroj8A&oe=63801E4B&_nc_sid=6136e7\n",
      "Photo by 박막례 🇰🇷 on September 29, 2022.\n",
      "https://scontent-gmp1-1.cdninstagram.com/v/t51.2885-15/309364363_1126808248248190_8420792084364862922_n.jpg?stp=dst-jpg_e35&_nc_ht=scontent-gmp1-1.cdninstagram.com&_nc_cat=110&_nc_ohc=NFF0b2YtLpgAX_BWuTM&tn=BdiKrCMbl_HsizPL&edm=ABmJApABAAAA&ccb=7-5&ig_cache_key=MjkzODQ5Mzk4MzMwODc4Mzk0NA%3D%3D.2-ccb7-5&oh=00_AfB8eHQo-5wD-M_R60xsObLmZO2b0Upveu_ki6Fpbroj8A&oe=63801E4B&_nc_sid=6136e7\n",
      "Photo by 박막례 🇰🇷 on September 29, 2022.\n",
      "https://scontent-gmp1-1.cdninstagram.com/v/t51.2885-15/309364363_1126808248248190_8420792084364862922_n.jpg?stp=dst-jpg_e35&_nc_ht=scontent-gmp1-1.cdninstagram.com&_nc_cat=110&_nc_ohc=NFF0b2YtLpgAX_BWuTM&tn=BdiKrCMbl_HsizPL&edm=ABmJApABAAAA&ccb=7-5&ig_cache_key=MjkzODQ5Mzk4MzMwODc4Mzk0NA%3D%3D.2-ccb7-5&oh=00_AfB8eHQo-5wD-M_R60xsObLmZO2b0Upveu_ki6Fpbroj8A&oe=63801E4B&_nc_sid=6136e7\n",
      "Photo by 박막례 🇰🇷 on September 29, 2022.\n",
      "https://scontent-gmp1-1.cdninstagram.com/v/t51.2885-15/309364363_1126808248248190_8420792084364862922_n.jpg?stp=dst-jpg_e35&_nc_ht=scontent-gmp1-1.cdninstagram.com&_nc_cat=110&_nc_ohc=NFF0b2YtLpgAX_BWuTM&tn=BdiKrCMbl_HsizPL&edm=ABmJApABAAAA&ccb=7-5&ig_cache_key=MjkzODQ5Mzk4MzMwODc4Mzk0NA%3D%3D.2-ccb7-5&oh=00_AfB8eHQo-5wD-M_R60xsObLmZO2b0Upveu_ki6Fpbroj8A&oe=63801E4B&_nc_sid=6136e7\n",
      "Photo by 박막례 🇰🇷 on September 29, 2022.\n",
      "https://scontent-gmp1-1.cdninstagram.com/v/t51.2885-15/309364363_1126808248248190_8420792084364862922_n.jpg?stp=dst-jpg_e35&_nc_ht=scontent-gmp1-1.cdninstagram.com&_nc_cat=110&_nc_ohc=NFF0b2YtLpgAX_BWuTM&tn=BdiKrCMbl_HsizPL&edm=ABmJApABAAAA&ccb=7-5&ig_cache_key=MjkzODQ5Mzk4MzMwODc4Mzk0NA%3D%3D.2-ccb7-5&oh=00_AfB8eHQo-5wD-M_R60xsObLmZO2b0Upveu_ki6Fpbroj8A&oe=63801E4B&_nc_sid=6136e7\n",
      "Photo by 박막례 🇰🇷 on November 17, 2022. May be an image of 1 person and standing.\n",
      "https://scontent-gmp1-1.cdninstagram.com/v/t51.2885-15/315972036_130282346490766_5977289194919214353_n.jpg?stp=dst-jpg_e35&_nc_ht=scontent-gmp1-1.cdninstagram.com&_nc_cat=110&_nc_ohc=MxVd-K5wKcMAX9woBpK&edm=ALQROFkBAAAA&ccb=7-5&ig_cache_key=Mjk3Mzk0NzIyMjU0MDYzNjg4Mw%3D%3D.2-ccb7-5&oh=00_AfAAAUXP6Z7aN6_LMR8FeR_ZtY3dpa7qqLDUhDt9kUEZ_Q&oe=637FD13B&_nc_sid=30a2ef\n",
      "Photo by 박막례 🇰🇷 on September 29, 2022.\n",
      "https://scontent-gmp1-1.cdninstagram.com/v/t51.2885-15/309364363_1126808248248190_8420792084364862922_n.jpg?stp=dst-jpg_e35&_nc_ht=scontent-gmp1-1.cdninstagram.com&_nc_cat=110&_nc_ohc=NFF0b2YtLpgAX_BWuTM&tn=BdiKrCMbl_HsizPL&edm=ABmJApABAAAA&ccb=7-5&ig_cache_key=MjkzODQ5Mzk4MzMwODc4Mzk0NA%3D%3D.2-ccb7-5&oh=00_AfB8eHQo-5wD-M_R60xsObLmZO2b0Upveu_ki6Fpbroj8A&oe=63801E4B&_nc_sid=6136e7\n",
      "Photo by 박막례 🇰🇷 on November 17, 2022. May be an image of 1 person and standing.\n",
      "https://scontent-gmp1-1.cdninstagram.com/v/t51.2885-15/315972036_130282346490766_5977289194919214353_n.jpg?stp=dst-jpg_e35&_nc_ht=scontent-gmp1-1.cdninstagram.com&_nc_cat=110&_nc_ohc=MxVd-K5wKcMAX9woBpK&edm=ALQROFkBAAAA&ccb=7-5&ig_cache_key=Mjk3Mzk0NzIyMjU0MDYzNjg4Mw%3D%3D.2-ccb7-5&oh=00_AfAAAUXP6Z7aN6_LMR8FeR_ZtY3dpa7qqLDUhDt9kUEZ_Q&oe=637FD13B&_nc_sid=30a2ef\n",
      "Photo by 박막례 🇰🇷 on September 29, 2022.\n",
      "https://scontent-gmp1-1.cdninstagram.com/v/t51.2885-15/309364363_1126808248248190_8420792084364862922_n.jpg?stp=dst-jpg_e35&_nc_ht=scontent-gmp1-1.cdninstagram.com&_nc_cat=110&_nc_ohc=NFF0b2YtLpgAX_BWuTM&tn=BdiKrCMbl_HsizPL&edm=ABmJApABAAAA&ccb=7-5&ig_cache_key=MjkzODQ5Mzk4MzMwODc4Mzk0NA%3D%3D.2-ccb7-5&oh=00_AfB8eHQo-5wD-M_R60xsObLmZO2b0Upveu_ki6Fpbroj8A&oe=63801E4B&_nc_sid=6136e7\n",
      "Photo by 박막례 🇰🇷 on November 17, 2022. May be an image of 1 person, standing and outdoors.\n",
      "https://scontent-gmp1-1.cdninstagram.com/v/t51.2885-15/315862298_825849382091328_8190115774191466894_n.jpg?stp=dst-jpg_e35&_nc_ht=scontent-gmp1-1.cdninstagram.com&_nc_cat=100&_nc_ohc=T08NucmAqN8AX_DrGO_&edm=ALQROFkBAAAA&ccb=7-5&ig_cache_key=Mjk3MzQ4NTI3MzA4ODQyMTU2NA%3D%3D.2-ccb7-5&oh=00_AfDmszG62al0jF811qpEkgczYp15zTv8HBpjrY1FTbdTqQ&oe=637FAFDA&_nc_sid=30a2ef\n",
      "Photo by 박막례 🇰🇷 on November 17, 2022. May be an image of 1 person and outdoors.\n",
      "https://scontent-gmp1-1.cdninstagram.com/v/t51.2885-15/315679698_864977911355063_2808013475590570350_n.jpg?stp=dst-jpg_e35&_nc_ht=scontent-gmp1-1.cdninstagram.com&_nc_cat=111&_nc_ohc=BQllI0aJxzUAX-6rzl4&edm=ALQROFkBAAAA&ccb=7-5&ig_cache_key=Mjk3MzQ4NTI3MzIxNDI0NDMxMw%3D%3D.2-ccb7-5&oh=00_AfDaWQr4IMkNu4I-YIQmKQtaE9Vqab7hvAQLC6zyPV8alg&oe=6380275C&_nc_sid=30a2ef\n",
      "Photo by 박막례 🇰🇷 on November 17, 2022. May be an image of 1 person, standing and outdoors.\n",
      "https://scontent-gmp1-1.cdninstagram.com/v/t51.2885-15/315862298_825849382091328_8190115774191466894_n.jpg?stp=dst-jpg_e35&_nc_ht=scontent-gmp1-1.cdninstagram.com&_nc_cat=100&_nc_ohc=T08NucmAqN8AX_DrGO_&edm=ALQROFkBAAAA&ccb=7-5&ig_cache_key=Mjk3MzQ4NTI3MzA4ODQyMTU2NA%3D%3D.2-ccb7-5&oh=00_AfDmszG62al0jF811qpEkgczYp15zTv8HBpjrY1FTbdTqQ&oe=637FAFDA&_nc_sid=30a2ef\n",
      "Photo by 박막례 🇰🇷 on November 17, 2022. May be an image of 1 person and outdoors.\n",
      "https://scontent-gmp1-1.cdninstagram.com/v/t51.2885-15/315679698_864977911355063_2808013475590570350_n.jpg?stp=dst-jpg_e35&_nc_ht=scontent-gmp1-1.cdninstagram.com&_nc_cat=111&_nc_ohc=BQllI0aJxzUAX-6rzl4&edm=ALQROFkBAAAA&ccb=7-5&ig_cache_key=Mjk3MzQ4NTI3MzIxNDI0NDMxMw%3D%3D.2-ccb7-5&oh=00_AfDaWQr4IMkNu4I-YIQmKQtaE9Vqab7hvAQLC6zyPV8alg&oe=6380275C&_nc_sid=30a2ef\n",
      "Photo by 박막례 🇰🇷 on September 29, 2022.\n",
      "https://scontent-gmp1-1.cdninstagram.com/v/t51.2885-15/309364363_1126808248248190_8420792084364862922_n.jpg?stp=dst-jpg_e35&_nc_ht=scontent-gmp1-1.cdninstagram.com&_nc_cat=110&_nc_ohc=NFF0b2YtLpgAX_BWuTM&tn=BdiKrCMbl_HsizPL&edm=ABmJApABAAAA&ccb=7-5&ig_cache_key=MjkzODQ5Mzk4MzMwODc4Mzk0NA%3D%3D.2-ccb7-5&oh=00_AfB8eHQo-5wD-M_R60xsObLmZO2b0Upveu_ki6Fpbroj8A&oe=63801E4B&_nc_sid=6136e7\n",
      "Photo by 박막례 🇰🇷 on November 17, 2022. May be an image of 1 person and outdoors.\n",
      "https://scontent-gmp1-1.cdninstagram.com/v/t51.2885-15/315679698_864977911355063_2808013475590570350_n.jpg?stp=dst-jpg_e35&_nc_ht=scontent-gmp1-1.cdninstagram.com&_nc_cat=111&_nc_ohc=BQllI0aJxzUAX-6rzl4&edm=ALQROFkBAAAA&ccb=7-5&ig_cache_key=Mjk3MzQ4NTI3MzIxNDI0NDMxMw%3D%3D.2-ccb7-5&oh=00_AfDaWQr4IMkNu4I-YIQmKQtaE9Vqab7hvAQLC6zyPV8alg&oe=6380275C&_nc_sid=30a2ef\n",
      "Photo by 박막례 🇰🇷 on September 29, 2022.\n",
      "https://scontent-gmp1-1.cdninstagram.com/v/t51.2885-15/309364363_1126808248248190_8420792084364862922_n.jpg?stp=dst-jpg_e35&_nc_ht=scontent-gmp1-1.cdninstagram.com&_nc_cat=110&_nc_ohc=NFF0b2YtLpgAX_BWuTM&tn=BdiKrCMbl_HsizPL&edm=ABmJApABAAAA&ccb=7-5&ig_cache_key=MjkzODQ5Mzk4MzMwODc4Mzk0NA%3D%3D.2-ccb7-5&oh=00_AfB8eHQo-5wD-M_R60xsObLmZO2b0Upveu_ki6Fpbroj8A&oe=63801E4B&_nc_sid=6136e7\n",
      "Photo by 박막례 🇰🇷 on November 17, 2022. May be an image of 1 person, standing and outdoors.\n",
      "https://scontent-gmp1-1.cdninstagram.com/v/t51.2885-15/315730723_819757779314098_7432750301124134586_n.jpg?stp=dst-jpg_e35&_nc_ht=scontent-gmp1-1.cdninstagram.com&_nc_cat=110&_nc_ohc=kOLFwDtDv8IAX9bwopb&edm=ALQROFkBAAAA&ccb=7-5&ig_cache_key=Mjk3MzQ4NTI3MzA4MDEzMDc3NA%3D%3D.2-ccb7-5&oh=00_AfCPevqX0xLF7Apt0SWH5Os3oFhid9xAOuLNsp8iYDCzYA&oe=637FDB74&_nc_sid=30a2ef\n",
      "Photo by 박막례 🇰🇷 on November 17, 2022. May be an image of 1 person, standing and outdoors.\n",
      "https://scontent-gmp1-1.cdninstagram.com/v/t51.2885-15/315730723_819757779314098_7432750301124134586_n.jpg?stp=dst-jpg_e35&_nc_ht=scontent-gmp1-1.cdninstagram.com&_nc_cat=110&_nc_ohc=kOLFwDtDv8IAX9bwopb&edm=ALQROFkBAAAA&ccb=7-5&ig_cache_key=Mjk3MzQ4NTI3MzA4MDEzMDc3NA%3D%3D.2-ccb7-5&oh=00_AfCPevqX0xLF7Apt0SWH5Os3oFhid9xAOuLNsp8iYDCzYA&oe=637FDB74&_nc_sid=30a2ef\n",
      "Photo by 박막례 🇰🇷 on September 29, 2022.\n",
      "https://scontent-gmp1-1.cdninstagram.com/v/t51.2885-15/309364363_1126808248248190_8420792084364862922_n.jpg?stp=dst-jpg_e35&_nc_ht=scontent-gmp1-1.cdninstagram.com&_nc_cat=110&_nc_ohc=NFF0b2YtLpgAX_BWuTM&tn=BdiKrCMbl_HsizPL&edm=ABmJApABAAAA&ccb=7-5&ig_cache_key=MjkzODQ5Mzk4MzMwODc4Mzk0NA%3D%3D.2-ccb7-5&oh=00_AfB8eHQo-5wD-M_R60xsObLmZO2b0Upveu_ki6Fpbroj8A&oe=63801E4B&_nc_sid=6136e7\n",
      "Photo by 박막례 🇰🇷 on November 17, 2022. May be an image of 1 person, standing and outdoors.\n",
      "https://scontent-gmp1-1.cdninstagram.com/v/t51.2885-15/315730723_819757779314098_7432750301124134586_n.jpg?stp=dst-jpg_e35&_nc_ht=scontent-gmp1-1.cdninstagram.com&_nc_cat=110&_nc_ohc=kOLFwDtDv8IAX9bwopb&edm=ALQROFkBAAAA&ccb=7-5&ig_cache_key=Mjk3MzQ4NTI3MzA4MDEzMDc3NA%3D%3D.2-ccb7-5&oh=00_AfCPevqX0xLF7Apt0SWH5Os3oFhid9xAOuLNsp8iYDCzYA&oe=637FDB74&_nc_sid=30a2ef\n",
      "Photo by 박막례 🇰🇷 on September 29, 2022.\n",
      "https://scontent-gmp1-1.cdninstagram.com/v/t51.2885-15/309364363_1126808248248190_8420792084364862922_n.jpg?stp=dst-jpg_e35&_nc_ht=scontent-gmp1-1.cdninstagram.com&_nc_cat=110&_nc_ohc=NFF0b2YtLpgAX_BWuTM&tn=BdiKrCMbl_HsizPL&edm=ABmJApABAAAA&ccb=7-5&ig_cache_key=MjkzODQ5Mzk4MzMwODc4Mzk0NA%3D%3D.2-ccb7-5&oh=00_AfB8eHQo-5wD-M_R60xsObLmZO2b0Upveu_ki6Fpbroj8A&oe=63801E4B&_nc_sid=6136e7\n",
      "Photo by 박막례 🇰🇷 on September 29, 2022.\n",
      "https://scontent-gmp1-1.cdninstagram.com/v/t51.2885-15/309364363_1126808248248190_8420792084364862922_n.jpg?stp=dst-jpg_e35&_nc_ht=scontent-gmp1-1.cdninstagram.com&_nc_cat=110&_nc_ohc=NFF0b2YtLpgAX_BWuTM&tn=BdiKrCMbl_HsizPL&edm=ABmJApABAAAA&ccb=7-5&ig_cache_key=MjkzODQ5Mzk4MzMwODc4Mzk0NA%3D%3D.2-ccb7-5&oh=00_AfB8eHQo-5wD-M_R60xsObLmZO2b0Upveu_ki6Fpbroj8A&oe=63801E4B&_nc_sid=6136e7\n",
      "Photo shared by 박막례 🇰🇷 on November 16, 2022 tagging @youtube, and @youtubecreatorskorea. May be an image of 5 people, people standing and indoor.\n",
      "https://scontent-gmp1-1.cdninstagram.com/v/t51.2885-15/315853732_3201374446778938_1656573104435737691_n.jpg?stp=dst-jpg_e35&_nc_ht=scontent-gmp1-1.cdninstagram.com&_nc_cat=110&_nc_ohc=2kyuayi1YGsAX9Xhd5c&tn=BdiKrCMbl_HsizPL&edm=ALQROFkBAAAA&ccb=7-5&ig_cache_key=Mjk3MzIyNDM2MTc4NTg4NzYyOA%3D%3D.2-ccb7-5&oh=00_AfCZc_nf9dBkYMDU6u3GQyxssAcGJsVxFcPSkABwUF-ImA&oe=637F65BF&_nc_sid=30a2ef\n",
      "Photo by 박막례 🇰🇷 on September 29, 2022.\n",
      "https://scontent-gmp1-1.cdninstagram.com/v/t51.2885-15/309364363_1126808248248190_8420792084364862922_n.jpg?stp=dst-jpg_e35&_nc_ht=scontent-gmp1-1.cdninstagram.com&_nc_cat=110&_nc_ohc=NFF0b2YtLpgAX_BWuTM&tn=BdiKrCMbl_HsizPL&edm=ABmJApABAAAA&ccb=7-5&ig_cache_key=MjkzODQ5Mzk4MzMwODc4Mzk0NA%3D%3D.2-ccb7-5&oh=00_AfB8eHQo-5wD-M_R60xsObLmZO2b0Upveu_ki6Fpbroj8A&oe=63801E4B&_nc_sid=6136e7\n",
      "Photo shared by 박막례 🇰🇷 on November 16, 2022 tagging @youtube, and @youtubecreatorskorea. May be an image of 5 people, people standing and indoor.\n",
      "https://scontent-gmp1-1.cdninstagram.com/v/t51.2885-15/315853732_3201374446778938_1656573104435737691_n.jpg?stp=dst-jpg_e35&_nc_ht=scontent-gmp1-1.cdninstagram.com&_nc_cat=110&_nc_ohc=2kyuayi1YGsAX9Xhd5c&tn=BdiKrCMbl_HsizPL&edm=ALQROFkBAAAA&ccb=7-5&ig_cache_key=Mjk3MzIyNDM2MTc4NTg4NzYyOA%3D%3D.2-ccb7-5&oh=00_AfCZc_nf9dBkYMDU6u3GQyxssAcGJsVxFcPSkABwUF-ImA&oe=637F65BF&_nc_sid=30a2ef\n",
      "Photo by 박막례 🇰🇷 on September 29, 2022.\n",
      "https://scontent-gmp1-1.cdninstagram.com/v/t51.2885-15/309364363_1126808248248190_8420792084364862922_n.jpg?stp=dst-jpg_e35&_nc_ht=scontent-gmp1-1.cdninstagram.com&_nc_cat=110&_nc_ohc=NFF0b2YtLpgAX_BWuTM&tn=BdiKrCMbl_HsizPL&edm=ABmJApABAAAA&ccb=7-5&ig_cache_key=MjkzODQ5Mzk4MzMwODc4Mzk0NA%3D%3D.2-ccb7-5&oh=00_AfB8eHQo-5wD-M_R60xsObLmZO2b0Upveu_ki6Fpbroj8A&oe=63801E4B&_nc_sid=6136e7\n",
      "Photo by 박막례 🇰🇷 on September 29, 2022.\n",
      "https://scontent-gmp1-1.cdninstagram.com/v/t51.2885-15/309364363_1126808248248190_8420792084364862922_n.jpg?stp=dst-jpg_e35&_nc_ht=scontent-gmp1-1.cdninstagram.com&_nc_cat=110&_nc_ohc=NFF0b2YtLpgAX_BWuTM&tn=BdiKrCMbl_HsizPL&edm=ABmJApABAAAA&ccb=7-5&ig_cache_key=MjkzODQ5Mzk4MzMwODc4Mzk0NA%3D%3D.2-ccb7-5&oh=00_AfB8eHQo-5wD-M_R60xsObLmZO2b0Upveu_ki6Fpbroj8A&oe=63801E4B&_nc_sid=6136e7\n",
      "Photo by 박막례 🇰🇷 on November 16, 2022. May be an image of 7 people, people standing and indoor.\n",
      "https://scontent-gmp1-1.cdninstagram.com/v/t51.2885-15/315736129_155416127196634_2506572040554970758_n.jpg?stp=dst-jpg_e35&_nc_ht=scontent-gmp1-1.cdninstagram.com&_nc_cat=110&_nc_ohc=91hc4fZ_cEMAX9oC6G0&edm=ALQROFkBAAAA&ccb=7-5&ig_cache_key=Mjk3MzIyNDM2MTgxMTA1NzE5Nw%3D%3D.2-ccb7-5&oh=00_AfDp4r8rPxNjOiHCVw15HuVRV3uDE2j_KmdXb8v8HOzlgg&oe=637EEDD6&_nc_sid=30a2ef\n",
      "Photo by 박막례 🇰🇷 on November 16, 2022. May be an image of 7 people, people standing and indoor.\n",
      "https://scontent-gmp1-1.cdninstagram.com/v/t51.2885-15/315736129_155416127196634_2506572040554970758_n.jpg?stp=dst-jpg_e35&_nc_ht=scontent-gmp1-1.cdninstagram.com&_nc_cat=110&_nc_ohc=91hc4fZ_cEMAX9oC6G0&edm=ALQROFkBAAAA&ccb=7-5&ig_cache_key=Mjk3MzIyNDM2MTgxMTA1NzE5Nw%3D%3D.2-ccb7-5&oh=00_AfDp4r8rPxNjOiHCVw15HuVRV3uDE2j_KmdXb8v8HOzlgg&oe=637EEDD6&_nc_sid=30a2ef\n",
      "Photo by 박막례 🇰🇷 on September 29, 2022.\n",
      "https://scontent-gmp1-1.cdninstagram.com/v/t51.2885-15/309364363_1126808248248190_8420792084364862922_n.jpg?stp=dst-jpg_e35&_nc_ht=scontent-gmp1-1.cdninstagram.com&_nc_cat=110&_nc_ohc=NFF0b2YtLpgAX_BWuTM&tn=BdiKrCMbl_HsizPL&edm=ABmJApABAAAA&ccb=7-5&ig_cache_key=MjkzODQ5Mzk4MzMwODc4Mzk0NA%3D%3D.2-ccb7-5&oh=00_AfB8eHQo-5wD-M_R60xsObLmZO2b0Upveu_ki6Fpbroj8A&oe=63801E4B&_nc_sid=6136e7\n",
      "Photo by 박막례 🇰🇷 on November 16, 2022. May be an image of 7 people, people standing and indoor.\n",
      "https://scontent-gmp1-1.cdninstagram.com/v/t51.2885-15/315736129_155416127196634_2506572040554970758_n.jpg?stp=dst-jpg_e35&_nc_ht=scontent-gmp1-1.cdninstagram.com&_nc_cat=110&_nc_ohc=91hc4fZ_cEMAX9oC6G0&edm=ALQROFkBAAAA&ccb=7-5&ig_cache_key=Mjk3MzIyNDM2MTgxMTA1NzE5Nw%3D%3D.2-ccb7-5&oh=00_AfDp4r8rPxNjOiHCVw15HuVRV3uDE2j_KmdXb8v8HOzlgg&oe=637EEDD6&_nc_sid=30a2ef\n",
      "Photo by 박막례 🇰🇷 on November 16, 2022. May be an image of 9 people, people standing and indoor.\n",
      "https://scontent-gmp1-1.cdninstagram.com/v/t51.2885-15/315674355_434192748929275_2444011507987764555_n.jpg?stp=dst-jpg_e35&_nc_ht=scontent-gmp1-1.cdninstagram.com&_nc_cat=107&_nc_ohc=xIc53hW_hYcAX82G9O4&edm=ALQROFkBAAAA&ccb=7-5&ig_cache_key=Mjk3MzIyNDM2MTgwMjYwNDk5MQ%3D%3D.2-ccb7-5&oh=00_AfDyYiQMOd5DPt0hgbCrq4T_6y084WSWE3RAhbss_Rl-Uw&oe=637EF034&_nc_sid=30a2ef\n",
      "Photo by 박막례 🇰🇷 on November 16, 2022. May be an image of 9 people, people standing and indoor.\n",
      "https://scontent-gmp1-1.cdninstagram.com/v/t51.2885-15/315674355_434192748929275_2444011507987764555_n.jpg?stp=dst-jpg_e35&_nc_ht=scontent-gmp1-1.cdninstagram.com&_nc_cat=107&_nc_ohc=xIc53hW_hYcAX82G9O4&edm=ALQROFkBAAAA&ccb=7-5&ig_cache_key=Mjk3MzIyNDM2MTgwMjYwNDk5MQ%3D%3D.2-ccb7-5&oh=00_AfDyYiQMOd5DPt0hgbCrq4T_6y084WSWE3RAhbss_Rl-Uw&oe=637EF034&_nc_sid=30a2ef\n",
      "Photo by 박막례 🇰🇷 on November 16, 2022. May be an image of 1 person, standing and indoor.\n",
      "https://scontent-gmp1-1.cdninstagram.com/v/t51.2885-15/315887397_150180694411239_8979915570282344486_n.jpg?stp=dst-jpg_e35&_nc_ht=scontent-gmp1-1.cdninstagram.com&_nc_cat=103&_nc_ohc=XRoPtMLkBS0AX8S03YL&edm=ALQROFkBAAAA&ccb=7-5&ig_cache_key=Mjk3MzIyNDM2MTgxMTIzNjgzOQ%3D%3D.2-ccb7-5&oh=00_AfD8etp6Qood2MRhSKAPtuQv6816oEUjN9qGo7Dzukx-Tw&oe=637F50D1&_nc_sid=30a2ef\n",
      "Photo by 박막례 🇰🇷 on November 16, 2022. May be an image of 9 people, people standing and indoor.\n",
      "https://scontent-gmp1-1.cdninstagram.com/v/t51.2885-15/315674355_434192748929275_2444011507987764555_n.jpg?stp=dst-jpg_e35&_nc_ht=scontent-gmp1-1.cdninstagram.com&_nc_cat=107&_nc_ohc=xIc53hW_hYcAX82G9O4&edm=ALQROFkBAAAA&ccb=7-5&ig_cache_key=Mjk3MzIyNDM2MTgwMjYwNDk5MQ%3D%3D.2-ccb7-5&oh=00_AfDyYiQMOd5DPt0hgbCrq4T_6y084WSWE3RAhbss_Rl-Uw&oe=637EF034&_nc_sid=30a2ef\n",
      "Photo by 박막례 🇰🇷 on November 16, 2022. May be an image of 1 person, standing and indoor.\n",
      "https://scontent-gmp1-1.cdninstagram.com/v/t51.2885-15/315887397_150180694411239_8979915570282344486_n.jpg?stp=dst-jpg_e35&_nc_ht=scontent-gmp1-1.cdninstagram.com&_nc_cat=103&_nc_ohc=XRoPtMLkBS0AX8S03YL&edm=ALQROFkBAAAA&ccb=7-5&ig_cache_key=Mjk3MzIyNDM2MTgxMTIzNjgzOQ%3D%3D.2-ccb7-5&oh=00_AfD8etp6Qood2MRhSKAPtuQv6816oEUjN9qGo7Dzukx-Tw&oe=637F50D1&_nc_sid=30a2ef\n",
      "Photo by 박막례 🇰🇷 on November 16, 2022. May be an image of 4 people, people standing and indoor.\n",
      "https://scontent-gmp1-1.cdninstagram.com/v/t51.2885-15/315955888_241371371546469_3690809994837730538_n.jpg?stp=dst-jpg_e35&_nc_ht=scontent-gmp1-1.cdninstagram.com&_nc_cat=109&_nc_ohc=5-YoIyktH60AX90Y4hm&tn=BdiKrCMbl_HsizPL&edm=ALQROFkBAAAA&ccb=7-5&ig_cache_key=Mjk3MzIyNDM2MTc5NDM0MDI1Mw%3D%3D.2-ccb7-5&oh=00_AfBEp5Z0wApq9-sPZovB7C4JkBoneBB-qdc9BCMvt9C2Mw&oe=638073B3&_nc_sid=30a2ef\n",
      "Photo by 박막례 🇰🇷 on November 16, 2022. May be an image of 1 person, standing and indoor.\n",
      "https://scontent-gmp1-1.cdninstagram.com/v/t51.2885-15/315887397_150180694411239_8979915570282344486_n.jpg?stp=dst-jpg_e35&_nc_ht=scontent-gmp1-1.cdninstagram.com&_nc_cat=103&_nc_ohc=XRoPtMLkBS0AX8S03YL&edm=ALQROFkBAAAA&ccb=7-5&ig_cache_key=Mjk3MzIyNDM2MTgxMTIzNjgzOQ%3D%3D.2-ccb7-5&oh=00_AfD8etp6Qood2MRhSKAPtuQv6816oEUjN9qGo7Dzukx-Tw&oe=637F50D1&_nc_sid=30a2ef\n",
      "Photo by 박막례 🇰🇷 on November 16, 2022. May be an image of 4 people, people standing and indoor.\n",
      "https://scontent-gmp1-1.cdninstagram.com/v/t51.2885-15/315955888_241371371546469_3690809994837730538_n.jpg?stp=dst-jpg_e35&_nc_ht=scontent-gmp1-1.cdninstagram.com&_nc_cat=109&_nc_ohc=5-YoIyktH60AX90Y4hm&tn=BdiKrCMbl_HsizPL&edm=ALQROFkBAAAA&ccb=7-5&ig_cache_key=Mjk3MzIyNDM2MTc5NDM0MDI1Mw%3D%3D.2-ccb7-5&oh=00_AfBEp5Z0wApq9-sPZovB7C4JkBoneBB-qdc9BCMvt9C2Mw&oe=638073B3&_nc_sid=30a2ef\n",
      "Photo by 박막례 🇰🇷 on November 16, 2022. May be an image of 5 people, people standing and indoor.\n",
      "https://scontent-gmp1-1.cdninstagram.com/v/t51.2885-15/315651473_458804643000844_7444904233236307358_n.jpg?stp=dst-jpg_e35&_nc_ht=scontent-gmp1-1.cdninstagram.com&_nc_cat=104&_nc_ohc=TgZxu2OVG4oAX-TIoNu&edm=ALQROFkBAAAA&ccb=7-5&ig_cache_key=Mjk3MzIyNDM2MTc5NDIxMDcxMA%3D%3D.2-ccb7-5&oh=00_AfBK5l-qiRQ2SJOIzCmzvHNmcAFfPYA_WYPmtMCNctN6rQ&oe=637F38B2&_nc_sid=30a2ef\n",
      "Photo by 박막례 🇰🇷 on September 29, 2022.\n",
      "https://scontent-gmp1-1.cdninstagram.com/v/t51.2885-15/309364363_1126808248248190_8420792084364862922_n.jpg?stp=dst-jpg_e35&_nc_ht=scontent-gmp1-1.cdninstagram.com&_nc_cat=110&_nc_ohc=NFF0b2YtLpgAX_BWuTM&tn=BdiKrCMbl_HsizPL&edm=ABmJApABAAAA&ccb=7-5&ig_cache_key=MjkzODQ5Mzk4MzMwODc4Mzk0NA%3D%3D.2-ccb7-5&oh=00_AfB8eHQo-5wD-M_R60xsObLmZO2b0Upveu_ki6Fpbroj8A&oe=63801E4B&_nc_sid=6136e7\n",
      "Photo by 박막례 🇰🇷 on November 16, 2022. May be an image of 4 people, people standing and indoor.\n",
      "https://scontent-gmp1-1.cdninstagram.com/v/t51.2885-15/315955888_241371371546469_3690809994837730538_n.jpg?stp=dst-jpg_e35&_nc_ht=scontent-gmp1-1.cdninstagram.com&_nc_cat=109&_nc_ohc=5-YoIyktH60AX90Y4hm&tn=BdiKrCMbl_HsizPL&edm=ALQROFkBAAAA&ccb=7-5&ig_cache_key=Mjk3MzIyNDM2MTc5NDM0MDI1Mw%3D%3D.2-ccb7-5&oh=00_AfBEp5Z0wApq9-sPZovB7C4JkBoneBB-qdc9BCMvt9C2Mw&oe=638073B3&_nc_sid=30a2ef\n",
      "Photo by 박막례 🇰🇷 on November 16, 2022. May be an image of 5 people, people standing and indoor.\n",
      "https://scontent-gmp1-1.cdninstagram.com/v/t51.2885-15/315651473_458804643000844_7444904233236307358_n.jpg?stp=dst-jpg_e35&_nc_ht=scontent-gmp1-1.cdninstagram.com&_nc_cat=104&_nc_ohc=TgZxu2OVG4oAX-TIoNu&edm=ALQROFkBAAAA&ccb=7-5&ig_cache_key=Mjk3MzIyNDM2MTc5NDIxMDcxMA%3D%3D.2-ccb7-5&oh=00_AfBK5l-qiRQ2SJOIzCmzvHNmcAFfPYA_WYPmtMCNctN6rQ&oe=637F38B2&_nc_sid=30a2ef\n",
      "Photo by 박막례 🇰🇷 on September 29, 2022.\n",
      "https://scontent-gmp1-1.cdninstagram.com/v/t51.2885-15/309364363_1126808248248190_8420792084364862922_n.jpg?stp=dst-jpg_e35&_nc_ht=scontent-gmp1-1.cdninstagram.com&_nc_cat=110&_nc_ohc=NFF0b2YtLpgAX_BWuTM&tn=BdiKrCMbl_HsizPL&edm=ABmJApABAAAA&ccb=7-5&ig_cache_key=MjkzODQ5Mzk4MzMwODc4Mzk0NA%3D%3D.2-ccb7-5&oh=00_AfB8eHQo-5wD-M_R60xsObLmZO2b0Upveu_ki6Fpbroj8A&oe=63801E4B&_nc_sid=6136e7\n",
      "Photo by 박막례 🇰🇷 on November 16, 2022. May be an image of 5 people and indoor.\n",
      "https://scontent-gmp1-1.cdninstagram.com/v/t51.2885-15/315299963_1137102823590383_5893060515885361386_n.jpg?stp=dst-jpg_e35&_nc_ht=scontent-gmp1-1.cdninstagram.com&_nc_cat=111&_nc_ohc=QwumTBmUHyQAX9c-DNh&edm=ALQROFkBAAAA&ccb=7-5&ig_cache_key=Mjk3MzE3NzkxNTkwMDU3NzcxNw%3D%3D.2-ccb7-5&oh=00_AfBjETbkgUBEGUrbg0rVncISjcM6oH-61HkLcJwFTm3Ykw&oe=637ED395&_nc_sid=30a2ef\n",
      "Photo by 박막례 🇰🇷 on November 16, 2022. May be an image of 5 people and indoor.\n",
      "https://scontent-gmp1-1.cdninstagram.com/v/t51.2885-15/315299963_1137102823590383_5893060515885361386_n.jpg?stp=dst-jpg_e35&_nc_ht=scontent-gmp1-1.cdninstagram.com&_nc_cat=111&_nc_ohc=QwumTBmUHyQAX9c-DNh&edm=ALQROFkBAAAA&ccb=7-5&ig_cache_key=Mjk3MzE3NzkxNTkwMDU3NzcxNw%3D%3D.2-ccb7-5&oh=00_AfBjETbkgUBEGUrbg0rVncISjcM6oH-61HkLcJwFTm3Ykw&oe=637ED395&_nc_sid=30a2ef\n",
      "Photo by 박막례 🇰🇷 on September 29, 2022.\n",
      "https://scontent-gmp1-1.cdninstagram.com/v/t51.2885-15/309364363_1126808248248190_8420792084364862922_n.jpg?stp=dst-jpg_e35&_nc_ht=scontent-gmp1-1.cdninstagram.com&_nc_cat=110&_nc_ohc=NFF0b2YtLpgAX_BWuTM&tn=BdiKrCMbl_HsizPL&edm=ABmJApABAAAA&ccb=7-5&ig_cache_key=MjkzODQ5Mzk4MzMwODc4Mzk0NA%3D%3D.2-ccb7-5&oh=00_AfB8eHQo-5wD-M_R60xsObLmZO2b0Upveu_ki6Fpbroj8A&oe=63801E4B&_nc_sid=6136e7\n",
      "Photo by 박막례 🇰🇷 on November 16, 2022. May be an image of 5 people and indoor.\n",
      "https://scontent-gmp1-1.cdninstagram.com/v/t51.2885-15/315299963_1137102823590383_5893060515885361386_n.jpg?stp=dst-jpg_e35&_nc_ht=scontent-gmp1-1.cdninstagram.com&_nc_cat=111&_nc_ohc=QwumTBmUHyQAX9c-DNh&edm=ALQROFkBAAAA&ccb=7-5&ig_cache_key=Mjk3MzE3NzkxNTkwMDU3NzcxNw%3D%3D.2-ccb7-5&oh=00_AfBjETbkgUBEGUrbg0rVncISjcM6oH-61HkLcJwFTm3Ykw&oe=637ED395&_nc_sid=30a2ef\n",
      "Photo by 박막례 🇰🇷 on November 16, 2022. May be an image of 1 person, standing and indoor.\n",
      "https://scontent-gmp1-1.cdninstagram.com/v/t51.2885-15/316002946_199246959165520_3998004984990376236_n.jpg?stp=dst-jpg_e35&_nc_ht=scontent-gmp1-1.cdninstagram.com&_nc_cat=104&_nc_ohc=tkEzB8sVifQAX8eua6V&tn=BdiKrCMbl_HsizPL&edm=ALQROFkBAAAA&ccb=7-5&ig_cache_key=Mjk3MzE3NzkxNTg2Njk4NTMyMA%3D%3D.2-ccb7-5&oh=00_AfDogTnHiHsV4LlOW9nCvEPvjfhUiutIX9qXkX55hV6pYg&oe=637FFB70&_nc_sid=30a2ef\n",
      "Photo by 박막례 🇰🇷 on November 16, 2022. May be an image of 1 person, standing and indoor.\n",
      "https://scontent-gmp1-1.cdninstagram.com/v/t51.2885-15/316002946_199246959165520_3998004984990376236_n.jpg?stp=dst-jpg_e35&_nc_ht=scontent-gmp1-1.cdninstagram.com&_nc_cat=104&_nc_ohc=tkEzB8sVifQAX8eua6V&tn=BdiKrCMbl_HsizPL&edm=ALQROFkBAAAA&ccb=7-5&ig_cache_key=Mjk3MzE3NzkxNTg2Njk4NTMyMA%3D%3D.2-ccb7-5&oh=00_AfDogTnHiHsV4LlOW9nCvEPvjfhUiutIX9qXkX55hV6pYg&oe=637FFB70&_nc_sid=30a2ef\n",
      "Photo by 박막례 🇰🇷 on September 29, 2022.\n",
      "https://scontent-gmp1-1.cdninstagram.com/v/t51.2885-15/309364363_1126808248248190_8420792084364862922_n.jpg?stp=dst-jpg_e35&_nc_ht=scontent-gmp1-1.cdninstagram.com&_nc_cat=110&_nc_ohc=NFF0b2YtLpgAX_BWuTM&tn=BdiKrCMbl_HsizPL&edm=ABmJApABAAAA&ccb=7-5&ig_cache_key=MjkzODQ5Mzk4MzMwODc4Mzk0NA%3D%3D.2-ccb7-5&oh=00_AfB8eHQo-5wD-M_R60xsObLmZO2b0Upveu_ki6Fpbroj8A&oe=63801E4B&_nc_sid=6136e7\n",
      "Photo by 박막례 🇰🇷 on November 16, 2022. May be an image of 1 person, standing and indoor.\n",
      "https://scontent-gmp1-1.cdninstagram.com/v/t51.2885-15/316002946_199246959165520_3998004984990376236_n.jpg?stp=dst-jpg_e35&_nc_ht=scontent-gmp1-1.cdninstagram.com&_nc_cat=104&_nc_ohc=tkEzB8sVifQAX8eua6V&tn=BdiKrCMbl_HsizPL&edm=ALQROFkBAAAA&ccb=7-5&ig_cache_key=Mjk3MzE3NzkxNTg2Njk4NTMyMA%3D%3D.2-ccb7-5&oh=00_AfDogTnHiHsV4LlOW9nCvEPvjfhUiutIX9qXkX55hV6pYg&oe=637FFB70&_nc_sid=30a2ef\n",
      "Photo by 박막례 🇰🇷 on November 16, 2022. May be an image of 1 person and standing.\n",
      "https://scontent-gmp1-1.cdninstagram.com/v/t51.2885-15/315587977_191485643372940_3888605705374949227_n.jpg?stp=dst-jpg_e35&_nc_ht=scontent-gmp1-1.cdninstagram.com&_nc_cat=100&_nc_ohc=lQcBSrQZFjEAX-KjQ4G&tn=BdiKrCMbl_HsizPL&edm=ALQROFkBAAAA&ccb=7-5&ig_cache_key=Mjk3MzE3NzkxNTg1ODU5NDE1Ng%3D%3D.2-ccb7-5&oh=00_AfD8_iOL-0XMI4fm4sBRuo4_dHuyEDwtHlwG5fFcZV5Nsg&oe=637EF0BF&_nc_sid=30a2ef\n",
      "Photo by 박막례 🇰🇷 on November 16, 2022. May be an image of 1 person and standing.\n",
      "https://scontent-gmp1-1.cdninstagram.com/v/t51.2885-15/315587977_191485643372940_3888605705374949227_n.jpg?stp=dst-jpg_e35&_nc_ht=scontent-gmp1-1.cdninstagram.com&_nc_cat=100&_nc_ohc=lQcBSrQZFjEAX-KjQ4G&tn=BdiKrCMbl_HsizPL&edm=ALQROFkBAAAA&ccb=7-5&ig_cache_key=Mjk3MzE3NzkxNTg1ODU5NDE1Ng%3D%3D.2-ccb7-5&oh=00_AfD8_iOL-0XMI4fm4sBRuo4_dHuyEDwtHlwG5fFcZV5Nsg&oe=637EF0BF&_nc_sid=30a2ef\n",
      "Photo by 박막례 🇰🇷 on September 29, 2022.\n",
      "https://scontent-gmp1-1.cdninstagram.com/v/t51.2885-15/309364363_1126808248248190_8420792084364862922_n.jpg?stp=dst-jpg_e35&_nc_ht=scontent-gmp1-1.cdninstagram.com&_nc_cat=110&_nc_ohc=NFF0b2YtLpgAX_BWuTM&tn=BdiKrCMbl_HsizPL&edm=ABmJApABAAAA&ccb=7-5&ig_cache_key=MjkzODQ5Mzk4MzMwODc4Mzk0NA%3D%3D.2-ccb7-5&oh=00_AfB8eHQo-5wD-M_R60xsObLmZO2b0Upveu_ki6Fpbroj8A&oe=63801E4B&_nc_sid=6136e7\n",
      "Photo by 박막례 🇰🇷 on November 16, 2022. May be an image of 1 person and standing.\n",
      "https://scontent-gmp1-1.cdninstagram.com/v/t51.2885-15/315587977_191485643372940_3888605705374949227_n.jpg?stp=dst-jpg_e35&_nc_ht=scontent-gmp1-1.cdninstagram.com&_nc_cat=100&_nc_ohc=lQcBSrQZFjEAX-KjQ4G&tn=BdiKrCMbl_HsizPL&edm=ALQROFkBAAAA&ccb=7-5&ig_cache_key=Mjk3MzE3NzkxNTg1ODU5NDE1Ng%3D%3D.2-ccb7-5&oh=00_AfD8_iOL-0XMI4fm4sBRuo4_dHuyEDwtHlwG5fFcZV5Nsg&oe=637EF0BF&_nc_sid=30a2ef\n",
      "Photo by 박막례 🇰🇷 on November 16, 2022. May be an image of 3 people.\n",
      "https://scontent-gmp1-1.cdninstagram.com/v/t51.2885-15/315993330_860772758452842_5434785969260800742_n.jpg?stp=dst-jpg_e35&_nc_ht=scontent-gmp1-1.cdninstagram.com&_nc_cat=106&_nc_ohc=FO3aFfIzcQ0AX-lM6i4&tn=BdiKrCMbl_HsizPL&edm=ALQROFkBAAAA&ccb=7-5&ig_cache_key=Mjk3MzE3NzkxNTc0MTExOTgwMA%3D%3D.2-ccb7-5&oh=00_AfCtcq0j1jV9nTOSUrCtWwxd0I4kAGPJnM1A6XLFc_EQ_A&oe=637FD349&_nc_sid=30a2ef\n",
      "Photo by 박막례 🇰🇷 on September 29, 2022.\n",
      "https://scontent-gmp1-1.cdninstagram.com/v/t51.2885-15/309364363_1126808248248190_8420792084364862922_n.jpg?stp=dst-jpg_e35&_nc_ht=scontent-gmp1-1.cdninstagram.com&_nc_cat=110&_nc_ohc=NFF0b2YtLpgAX_BWuTM&tn=BdiKrCMbl_HsizPL&edm=ABmJApABAAAA&ccb=7-5&ig_cache_key=MjkzODQ5Mzk4MzMwODc4Mzk0NA%3D%3D.2-ccb7-5&oh=00_AfB8eHQo-5wD-M_R60xsObLmZO2b0Upveu_ki6Fpbroj8A&oe=63801E4B&_nc_sid=6136e7\n",
      "Photo by 박막례 🇰🇷 on November 16, 2022. May be an image of 3 people.\n",
      "https://scontent-gmp1-1.cdninstagram.com/v/t51.2885-15/315993330_860772758452842_5434785969260800742_n.jpg?stp=dst-jpg_e35&_nc_ht=scontent-gmp1-1.cdninstagram.com&_nc_cat=106&_nc_ohc=FO3aFfIzcQ0AX-lM6i4&tn=BdiKrCMbl_HsizPL&edm=ALQROFkBAAAA&ccb=7-5&ig_cache_key=Mjk3MzE3NzkxNTc0MTExOTgwMA%3D%3D.2-ccb7-5&oh=00_AfCtcq0j1jV9nTOSUrCtWwxd0I4kAGPJnM1A6XLFc_EQ_A&oe=637FD349&_nc_sid=30a2ef\n",
      "Photo by 박막례 🇰🇷 on September 29, 2022.\n",
      "https://scontent-gmp1-1.cdninstagram.com/v/t51.2885-15/309364363_1126808248248190_8420792084364862922_n.jpg?stp=dst-jpg_e35&_nc_ht=scontent-gmp1-1.cdninstagram.com&_nc_cat=110&_nc_ohc=NFF0b2YtLpgAX_BWuTM&tn=BdiKrCMbl_HsizPL&edm=ABmJApABAAAA&ccb=7-5&ig_cache_key=MjkzODQ5Mzk4MzMwODc4Mzk0NA%3D%3D.2-ccb7-5&oh=00_AfB8eHQo-5wD-M_R60xsObLmZO2b0Upveu_ki6Fpbroj8A&oe=63801E4B&_nc_sid=6136e7\n",
      "Photo by 박막례 🇰🇷 on November 15, 2022. May be an image of 1 person and standing.\n",
      "https://scontent-gmp1-1.cdninstagram.com/v/t51.2885-15/315453535_1224463484800456_2052949926510981128_n.jpg?stp=dst-jpg_e35&_nc_ht=scontent-gmp1-1.cdninstagram.com&_nc_cat=104&_nc_ohc=90R-dQTBIxkAX9_CtP3&tn=BdiKrCMbl_HsizPL&edm=ALQROFkBAAAA&ccb=7-5&ig_cache_key=Mjk3MjUxODYzODE1MjI3OTk1OQ%3D%3D.2-ccb7-5&oh=00_AfBt94blJGSOXqHbtyuw_Ene1Mp88UXRZiWMGJMJ_GvawQ&oe=63807D11&_nc_sid=30a2ef\n",
      "Photo by 박막례 🇰🇷 on November 15, 2022. May be an image of 3 people, people standing and outdoors.\n",
      "https://scontent-gmp1-1.cdninstagram.com/v/t51.2885-15/315761250_814298633136581_6704447078639992096_n.jpg?stp=dst-jpg_e35&_nc_ht=scontent-gmp1-1.cdninstagram.com&_nc_cat=105&_nc_ohc=mo0ADjK_hfcAX_9KaWE&tn=BdiKrCMbl_HsizPL&edm=ALQROFkBAAAA&ccb=7-5&ig_cache_key=Mjk3MjUxODYzODE2MDUxMzYxNQ%3D%3D.2-ccb7-5&oh=00_AfCw7TtR3-mEY3LBhxjkR8P3WuHLg_aWXRIRrpy5o0DPYQ&oe=637FDD74&_nc_sid=30a2ef\n",
      "Photo by 박막례 🇰🇷 on November 15, 2022. May be an image of 1 person and standing.\n",
      "https://scontent-gmp1-1.cdninstagram.com/v/t51.2885-15/315453535_1224463484800456_2052949926510981128_n.jpg?stp=dst-jpg_e35&_nc_ht=scontent-gmp1-1.cdninstagram.com&_nc_cat=104&_nc_ohc=90R-dQTBIxkAX9_CtP3&tn=BdiKrCMbl_HsizPL&edm=ALQROFkBAAAA&ccb=7-5&ig_cache_key=Mjk3MjUxODYzODE1MjI3OTk1OQ%3D%3D.2-ccb7-5&oh=00_AfBt94blJGSOXqHbtyuw_Ene1Mp88UXRZiWMGJMJ_GvawQ&oe=63807D11&_nc_sid=30a2ef\n",
      "Photo by 박막례 🇰🇷 on November 15, 2022. May be an image of 3 people, people standing and outdoors.\n",
      "https://scontent-gmp1-1.cdninstagram.com/v/t51.2885-15/315761250_814298633136581_6704447078639992096_n.jpg?stp=dst-jpg_e35&_nc_ht=scontent-gmp1-1.cdninstagram.com&_nc_cat=105&_nc_ohc=mo0ADjK_hfcAX_9KaWE&tn=BdiKrCMbl_HsizPL&edm=ALQROFkBAAAA&ccb=7-5&ig_cache_key=Mjk3MjUxODYzODE2MDUxMzYxNQ%3D%3D.2-ccb7-5&oh=00_AfCw7TtR3-mEY3LBhxjkR8P3WuHLg_aWXRIRrpy5o0DPYQ&oe=637FDD74&_nc_sid=30a2ef\n",
      "Photo by 박막례 🇰🇷 on November 15, 2022. May be an image of 2 people and text that says '프레시지 EXIT æ'.\n",
      "https://scontent-gmp1-1.cdninstagram.com/v/t51.2885-15/315863224_677241017082364_2185452650426745926_n.jpg?stp=dst-jpg_e35&_nc_ht=scontent-gmp1-1.cdninstagram.com&_nc_cat=104&_nc_ohc=3vuM-s6GiRsAX-gM4ZQ&tn=BdiKrCMbl_HsizPL&edm=ALQROFkBAAAA&ccb=7-5&ig_cache_key=Mjk3MjUxODYzODE1MjEwNjExOA%3D%3D.2-ccb7-5&oh=00_AfC-akXTgQxYoBQnDlgVvgkqaHjGLS87KyMHtpWErfsOCw&oe=6380A97F&_nc_sid=30a2ef\n",
      "Photo by 박막례 🇰🇷 on November 15, 2022. May be an image of 3 people, people standing and outdoors.\n",
      "https://scontent-gmp1-1.cdninstagram.com/v/t51.2885-15/315761250_814298633136581_6704447078639992096_n.jpg?stp=dst-jpg_e35&_nc_ht=scontent-gmp1-1.cdninstagram.com&_nc_cat=105&_nc_ohc=mo0ADjK_hfcAX_9KaWE&tn=BdiKrCMbl_HsizPL&edm=ALQROFkBAAAA&ccb=7-5&ig_cache_key=Mjk3MjUxODYzODE2MDUxMzYxNQ%3D%3D.2-ccb7-5&oh=00_AfCw7TtR3-mEY3LBhxjkR8P3WuHLg_aWXRIRrpy5o0DPYQ&oe=637FDD74&_nc_sid=30a2ef\n",
      "Photo by 박막례 🇰🇷 on November 15, 2022. May be an image of 2 people and text that says '프레시지 EXIT æ'.\n",
      "https://scontent-gmp1-1.cdninstagram.com/v/t51.2885-15/315863224_677241017082364_2185452650426745926_n.jpg?stp=dst-jpg_e35&_nc_ht=scontent-gmp1-1.cdninstagram.com&_nc_cat=104&_nc_ohc=3vuM-s6GiRsAX-gM4ZQ&tn=BdiKrCMbl_HsizPL&edm=ALQROFkBAAAA&ccb=7-5&ig_cache_key=Mjk3MjUxODYzODE1MjEwNjExOA%3D%3D.2-ccb7-5&oh=00_AfC-akXTgQxYoBQnDlgVvgkqaHjGLS87KyMHtpWErfsOCw&oe=6380A97F&_nc_sid=30a2ef\n",
      "Photo by 박막례 🇰🇷 on November 15, 2022. May be an image of 2 people and people standing.\n",
      "https://scontent-gmp1-1.cdninstagram.com/v/t51.2885-15/315561398_644449817159679_3412303871734796464_n.jpg?stp=dst-jpg_e35&_nc_ht=scontent-gmp1-1.cdninstagram.com&_nc_cat=103&_nc_ohc=MxgCG6c6UT0AX9Vo-Wq&edm=ALQROFkBAAAA&ccb=7-5&ig_cache_key=Mjk3MjUxODYzODE2MDUyMTcwNA%3D%3D.2-ccb7-5&oh=00_AfAGCRU87YZBYRXEVz0OmlMNbECvW1-FzWzw0HK--EM3jA&oe=637F9387&_nc_sid=30a2ef\n",
      "Photo by 박막례 🇰🇷 on November 15, 2022. May be an image of 2 people and text that says '프레시지 EXIT æ'.\n",
      "https://scontent-gmp1-1.cdninstagram.com/v/t51.2885-15/315863224_677241017082364_2185452650426745926_n.jpg?stp=dst-jpg_e35&_nc_ht=scontent-gmp1-1.cdninstagram.com&_nc_cat=104&_nc_ohc=3vuM-s6GiRsAX-gM4ZQ&tn=BdiKrCMbl_HsizPL&edm=ALQROFkBAAAA&ccb=7-5&ig_cache_key=Mjk3MjUxODYzODE1MjEwNjExOA%3D%3D.2-ccb7-5&oh=00_AfC-akXTgQxYoBQnDlgVvgkqaHjGLS87KyMHtpWErfsOCw&oe=6380A97F&_nc_sid=30a2ef\n",
      "Photo by 박막례 🇰🇷 on November 15, 2022. May be an image of 2 people and people standing.\n",
      "https://scontent-gmp1-1.cdninstagram.com/v/t51.2885-15/315561398_644449817159679_3412303871734796464_n.jpg?stp=dst-jpg_e35&_nc_ht=scontent-gmp1-1.cdninstagram.com&_nc_cat=103&_nc_ohc=MxgCG6c6UT0AX9Vo-Wq&edm=ALQROFkBAAAA&ccb=7-5&ig_cache_key=Mjk3MjUxODYzODE2MDUyMTcwNA%3D%3D.2-ccb7-5&oh=00_AfAGCRU87YZBYRXEVz0OmlMNbECvW1-FzWzw0HK--EM3jA&oe=637F9387&_nc_sid=30a2ef\n",
      "Photo by 박막례 🇰🇷 on November 15, 2022. May be an image of food.\n",
      "https://scontent-gmp1-1.cdninstagram.com/v/t51.2885-15/315993331_826432468640983_4647908866351491102_n.jpg?stp=dst-jpg_e35&_nc_ht=scontent-gmp1-1.cdninstagram.com&_nc_cat=107&_nc_ohc=-FUyU3umM5IAX9Jpkb0&edm=ALQROFkBAAAA&ccb=7-5&ig_cache_key=Mjk3MjUxODYzODI3ODA3MjI5OQ%3D%3D.2-ccb7-5&oh=00_AfCAdiydNy3Sx0PRID_AuMSY_za4H5a6jadESgqOnc6yFg&oe=637F6019&_nc_sid=30a2ef\n",
      "Photo by 박막례 🇰🇷 on November 15, 2022. May be an image of 2 people and people standing.\n",
      "https://scontent-gmp1-1.cdninstagram.com/v/t51.2885-15/315561398_644449817159679_3412303871734796464_n.jpg?stp=dst-jpg_e35&_nc_ht=scontent-gmp1-1.cdninstagram.com&_nc_cat=103&_nc_ohc=MxgCG6c6UT0AX9Vo-Wq&edm=ALQROFkBAAAA&ccb=7-5&ig_cache_key=Mjk3MjUxODYzODE2MDUyMTcwNA%3D%3D.2-ccb7-5&oh=00_AfAGCRU87YZBYRXEVz0OmlMNbECvW1-FzWzw0HK--EM3jA&oe=637F9387&_nc_sid=30a2ef\n",
      "Photo by 박막례 🇰🇷 on November 15, 2022. May be an image of food.\n",
      "https://scontent-gmp1-1.cdninstagram.com/v/t51.2885-15/315993331_826432468640983_4647908866351491102_n.jpg?stp=dst-jpg_e35&_nc_ht=scontent-gmp1-1.cdninstagram.com&_nc_cat=107&_nc_ohc=-FUyU3umM5IAX9Jpkb0&edm=ALQROFkBAAAA&ccb=7-5&ig_cache_key=Mjk3MjUxODYzODI3ODA3MjI5OQ%3D%3D.2-ccb7-5&oh=00_AfCAdiydNy3Sx0PRID_AuMSY_za4H5a6jadESgqOnc6yFg&oe=637F6019&_nc_sid=30a2ef\n",
      "Photo by 박막례 🇰🇷 on November 15, 2022. May be an image of 1 person, food and indoor.\n",
      "https://scontent-gmp1-1.cdninstagram.com/v/t51.2885-15/315434831_618495406725317_1573832425247951000_n.jpg?stp=dst-jpg_e35&_nc_ht=scontent-gmp1-1.cdninstagram.com&_nc_cat=105&_nc_ohc=niHTBmInCSsAX9IIcB4&edm=ALQROFkBAAAA&ccb=7-5&ig_cache_key=Mjk3MjUxODYzODE2MDUzMTc2OA%3D%3D.2-ccb7-5&oh=00_AfABW33FQzCJiIf1aSTy7ZoRokGBL1A-JXi1gRezoLpqcg&oe=638080A5&_nc_sid=30a2ef\n",
      "Photo by 박막례 🇰🇷 on September 29, 2022.\n",
      "https://scontent-gmp1-1.cdninstagram.com/v/t51.2885-15/309364363_1126808248248190_8420792084364862922_n.jpg?stp=dst-jpg_e35&_nc_ht=scontent-gmp1-1.cdninstagram.com&_nc_cat=110&_nc_ohc=NFF0b2YtLpgAX_BWuTM&tn=BdiKrCMbl_HsizPL&edm=ABmJApABAAAA&ccb=7-5&ig_cache_key=MjkzODQ5Mzk4MzMwODc4Mzk0NA%3D%3D.2-ccb7-5&oh=00_AfB8eHQo-5wD-M_R60xsObLmZO2b0Upveu_ki6Fpbroj8A&oe=63801E4B&_nc_sid=6136e7\n",
      "Photo by 박막례 🇰🇷 on November 15, 2022. May be an image of food.\n",
      "https://scontent-gmp1-1.cdninstagram.com/v/t51.2885-15/315993331_826432468640983_4647908866351491102_n.jpg?stp=dst-jpg_e35&_nc_ht=scontent-gmp1-1.cdninstagram.com&_nc_cat=107&_nc_ohc=-FUyU3umM5IAX9Jpkb0&edm=ALQROFkBAAAA&ccb=7-5&ig_cache_key=Mjk3MjUxODYzODI3ODA3MjI5OQ%3D%3D.2-ccb7-5&oh=00_AfCAdiydNy3Sx0PRID_AuMSY_za4H5a6jadESgqOnc6yFg&oe=637F6019&_nc_sid=30a2ef\n",
      "Photo by 박막례 🇰🇷 on November 15, 2022. May be an image of 1 person, food and indoor.\n",
      "https://scontent-gmp1-1.cdninstagram.com/v/t51.2885-15/315434831_618495406725317_1573832425247951000_n.jpg?stp=dst-jpg_e35&_nc_ht=scontent-gmp1-1.cdninstagram.com&_nc_cat=105&_nc_ohc=niHTBmInCSsAX9IIcB4&edm=ALQROFkBAAAA&ccb=7-5&ig_cache_key=Mjk3MjUxODYzODE2MDUzMTc2OA%3D%3D.2-ccb7-5&oh=00_AfABW33FQzCJiIf1aSTy7ZoRokGBL1A-JXi1gRezoLpqcg&oe=638080A5&_nc_sid=30a2ef\n",
      "Photo by 박막례 🇰🇷 on September 29, 2022.\n",
      "https://scontent-gmp1-1.cdninstagram.com/v/t51.2885-15/309364363_1126808248248190_8420792084364862922_n.jpg?stp=dst-jpg_e35&_nc_ht=scontent-gmp1-1.cdninstagram.com&_nc_cat=110&_nc_ohc=NFF0b2YtLpgAX_BWuTM&tn=BdiKrCMbl_HsizPL&edm=ABmJApABAAAA&ccb=7-5&ig_cache_key=MjkzODQ5Mzk4MzMwODc4Mzk0NA%3D%3D.2-ccb7-5&oh=00_AfB8eHQo-5wD-M_R60xsObLmZO2b0Upveu_ki6Fpbroj8A&oe=63801E4B&_nc_sid=6136e7\n",
      "Photo by 박막례 🇰🇷 on September 29, 2022.\n",
      "https://scontent-gmp1-1.cdninstagram.com/v/t51.2885-15/309364363_1126808248248190_8420792084364862922_n.jpg?stp=dst-jpg_e35&_nc_ht=scontent-gmp1-1.cdninstagram.com&_nc_cat=110&_nc_ohc=NFF0b2YtLpgAX_BWuTM&tn=BdiKrCMbl_HsizPL&edm=ABmJApABAAAA&ccb=7-5&ig_cache_key=MjkzODQ5Mzk4MzMwODc4Mzk0NA%3D%3D.2-ccb7-5&oh=00_AfB8eHQo-5wD-M_R60xsObLmZO2b0Upveu_ki6Fpbroj8A&oe=63801E4B&_nc_sid=6136e7\n",
      "Photo by 박막례 🇰🇷 on September 29, 2022.\n",
      "https://scontent-gmp1-1.cdninstagram.com/v/t51.2885-15/309364363_1126808248248190_8420792084364862922_n.jpg?stp=dst-jpg_e35&_nc_ht=scontent-gmp1-1.cdninstagram.com&_nc_cat=110&_nc_ohc=NFF0b2YtLpgAX_BWuTM&tn=BdiKrCMbl_HsizPL&edm=ABmJApABAAAA&ccb=7-5&ig_cache_key=MjkzODQ5Mzk4MzMwODc4Mzk0NA%3D%3D.2-ccb7-5&oh=00_AfB8eHQo-5wD-M_R60xsObLmZO2b0Upveu_ki6Fpbroj8A&oe=63801E4B&_nc_sid=6136e7\n",
      "Photo by 박막례 🇰🇷 in Incheon Airport T2. May be an image of 1 person and indoor.\n",
      "https://scontent-gmp1-1.cdninstagram.com/v/t51.2885-15/315449679_1151370542457721_7130278033379238463_n.jpg?stp=dst-jpg_e35&_nc_ht=scontent-gmp1-1.cdninstagram.com&_nc_cat=101&_nc_ohc=PP0I28O4WSEAX-GV3db&edm=ALQROFkBAAAA&ccb=7-5&ig_cache_key=Mjk3MTMyNjQ5NzYyNzQxMjYwMg%3D%3D.2-ccb7-5&oh=00_AfD8YnFjaGsrOUnqgOWCAbiQTSHc1cve7XcFUa4jsvIYIQ&oe=63803153&_nc_sid=30a2ef\n",
      "Photo by 박막례 🇰🇷 on September 29, 2022.\n",
      "https://scontent-gmp1-1.cdninstagram.com/v/t51.2885-15/309364363_1126808248248190_8420792084364862922_n.jpg?stp=dst-jpg_e35&_nc_ht=scontent-gmp1-1.cdninstagram.com&_nc_cat=110&_nc_ohc=NFF0b2YtLpgAX_BWuTM&tn=BdiKrCMbl_HsizPL&edm=ABmJApABAAAA&ccb=7-5&ig_cache_key=MjkzODQ5Mzk4MzMwODc4Mzk0NA%3D%3D.2-ccb7-5&oh=00_AfB8eHQo-5wD-M_R60xsObLmZO2b0Upveu_ki6Fpbroj8A&oe=63801E4B&_nc_sid=6136e7\n",
      "Photo shared by 박막례 🇰🇷 on November 13, 2022 tagging @downy_korea. May be an image of 1 person, child, standing and indoor.\n",
      "https://scontent-gmp1-1.cdninstagram.com/v/t51.2885-15/315234100_670202404517897_2366974967472259974_n.jpg?stp=dst-jpg_e35&_nc_ht=scontent-gmp1-1.cdninstagram.com&_nc_cat=105&_nc_ohc=L3m9sk-pRrwAX_OfSeJ&edm=ALQROFkBAAAA&ccb=7-5&ig_cache_key=Mjk3MTAwODI0MjMxMjM5NjQ1Ng%3D%3D.2-ccb7-5&oh=00_AfB6nq1Cf3MCRuxJGN6p5x6TIK2C2TGG554DvYtp9s77tw&oe=637F2365&_nc_sid=30a2ef\n",
      "Photo by 박막례 🇰🇷 on September 29, 2022.\n",
      "https://scontent-gmp1-1.cdninstagram.com/v/t51.2885-15/309364363_1126808248248190_8420792084364862922_n.jpg?stp=dst-jpg_e35&_nc_ht=scontent-gmp1-1.cdninstagram.com&_nc_cat=110&_nc_ohc=NFF0b2YtLpgAX_BWuTM&tn=BdiKrCMbl_HsizPL&edm=ABmJApABAAAA&ccb=7-5&ig_cache_key=MjkzODQ5Mzk4MzMwODc4Mzk0NA%3D%3D.2-ccb7-5&oh=00_AfB8eHQo-5wD-M_R60xsObLmZO2b0Upveu_ki6Fpbroj8A&oe=63801E4B&_nc_sid=6136e7\n",
      "Photo shared by 박막례 🇰🇷 on November 13, 2022 tagging @downy_korea. May be an image of 1 person, child, standing and indoor.\n",
      "https://scontent-gmp1-1.cdninstagram.com/v/t51.2885-15/315234100_670202404517897_2366974967472259974_n.jpg?stp=dst-jpg_e35&_nc_ht=scontent-gmp1-1.cdninstagram.com&_nc_cat=105&_nc_ohc=L3m9sk-pRrwAX_OfSeJ&edm=ALQROFkBAAAA&ccb=7-5&ig_cache_key=Mjk3MTAwODI0MjMxMjM5NjQ1Ng%3D%3D.2-ccb7-5&oh=00_AfB6nq1Cf3MCRuxJGN6p5x6TIK2C2TGG554DvYtp9s77tw&oe=637F2365&_nc_sid=30a2ef\n",
      "Photo by 박막례 🇰🇷 on November 13, 2022. May be an image of 1 person and indoor.\n",
      "https://scontent-gmp1-1.cdninstagram.com/v/t51.2885-15/315148033_151637174250884_3470330117797912816_n.jpg?stp=dst-jpg_e35&_nc_ht=scontent-gmp1-1.cdninstagram.com&_nc_cat=108&_nc_ohc=pMD7geZwhaMAX_i0JxD&tn=BdiKrCMbl_HsizPL&edm=ALQROFkBAAAA&ccb=7-5&ig_cache_key=Mjk3MTAwODI0MjQ0NjU3MzgyNw%3D%3D.2-ccb7-5&oh=00_AfBPrc4pWrk5bh-oGVWzOrdtDhD87TT-oipWJ51SpBe2UQ&oe=638099D9&_nc_sid=30a2ef\n",
      "Photo by 박막례 🇰🇷 on November 13, 2022. May be an image of 1 person and indoor.\n",
      "https://scontent-gmp1-1.cdninstagram.com/v/t51.2885-15/315148033_151637174250884_3470330117797912816_n.jpg?stp=dst-jpg_e35&_nc_ht=scontent-gmp1-1.cdninstagram.com&_nc_cat=108&_nc_ohc=pMD7geZwhaMAX_i0JxD&tn=BdiKrCMbl_HsizPL&edm=ALQROFkBAAAA&ccb=7-5&ig_cache_key=Mjk3MTAwODI0MjQ0NjU3MzgyNw%3D%3D.2-ccb7-5&oh=00_AfBPrc4pWrk5bh-oGVWzOrdtDhD87TT-oipWJ51SpBe2UQ&oe=638099D9&_nc_sid=30a2ef\n",
      "Photo by 박막례 🇰🇷 on November 13, 2022. May be an image of 1 person, food, flower and indoor.\n",
      "https://scontent-gmp1-1.cdninstagram.com/v/t51.2885-15/315565277_1092675531416920_8137485289921109552_n.jpg?stp=dst-jpg_e35&_nc_ht=scontent-gmp1-1.cdninstagram.com&_nc_cat=104&_nc_ohc=ZSWsiFGJhW8AX9sF540&edm=ALQROFkBAAAA&ccb=7-5&ig_cache_key=Mjk3MTAwODI0MjQyOTkzNDU5OQ%3D%3D.2-ccb7-5&oh=00_AfCAnRJj5bVByRcqLcEg-eE4Ume3hOA1y5XAgkoC-XsOoA&oe=637F6B9A&_nc_sid=30a2ef\n",
      "Photo by 박막례 🇰🇷 on September 29, 2022.\n",
      "https://scontent-gmp1-1.cdninstagram.com/v/t51.2885-15/309364363_1126808248248190_8420792084364862922_n.jpg?stp=dst-jpg_e35&_nc_ht=scontent-gmp1-1.cdninstagram.com&_nc_cat=110&_nc_ohc=NFF0b2YtLpgAX_BWuTM&tn=BdiKrCMbl_HsizPL&edm=ABmJApABAAAA&ccb=7-5&ig_cache_key=MjkzODQ5Mzk4MzMwODc4Mzk0NA%3D%3D.2-ccb7-5&oh=00_AfB8eHQo-5wD-M_R60xsObLmZO2b0Upveu_ki6Fpbroj8A&oe=63801E4B&_nc_sid=6136e7\n",
      "Photo by 박막례 🇰🇷 on November 13, 2022. May be an image of 1 person and indoor.\n",
      "https://scontent-gmp1-1.cdninstagram.com/v/t51.2885-15/315148033_151637174250884_3470330117797912816_n.jpg?stp=dst-jpg_e35&_nc_ht=scontent-gmp1-1.cdninstagram.com&_nc_cat=108&_nc_ohc=pMD7geZwhaMAX_i0JxD&tn=BdiKrCMbl_HsizPL&edm=ALQROFkBAAAA&ccb=7-5&ig_cache_key=Mjk3MTAwODI0MjQ0NjU3MzgyNw%3D%3D.2-ccb7-5&oh=00_AfBPrc4pWrk5bh-oGVWzOrdtDhD87TT-oipWJ51SpBe2UQ&oe=638099D9&_nc_sid=30a2ef\n",
      "Photo by 박막례 🇰🇷 on November 13, 2022. May be an image of 1 person, food, flower and indoor.\n",
      "https://scontent-gmp1-1.cdninstagram.com/v/t51.2885-15/315565277_1092675531416920_8137485289921109552_n.jpg?stp=dst-jpg_e35&_nc_ht=scontent-gmp1-1.cdninstagram.com&_nc_cat=104&_nc_ohc=ZSWsiFGJhW8AX9sF540&edm=ALQROFkBAAAA&ccb=7-5&ig_cache_key=Mjk3MTAwODI0MjQyOTkzNDU5OQ%3D%3D.2-ccb7-5&oh=00_AfCAnRJj5bVByRcqLcEg-eE4Ume3hOA1y5XAgkoC-XsOoA&oe=637F6B9A&_nc_sid=30a2ef\n",
      "Photo by 박막례 🇰🇷 on September 29, 2022.\n",
      "https://scontent-gmp1-1.cdninstagram.com/v/t51.2885-15/309364363_1126808248248190_8420792084364862922_n.jpg?stp=dst-jpg_e35&_nc_ht=scontent-gmp1-1.cdninstagram.com&_nc_cat=110&_nc_ohc=NFF0b2YtLpgAX_BWuTM&tn=BdiKrCMbl_HsizPL&edm=ABmJApABAAAA&ccb=7-5&ig_cache_key=MjkzODQ5Mzk4MzMwODc4Mzk0NA%3D%3D.2-ccb7-5&oh=00_AfB8eHQo-5wD-M_R60xsObLmZO2b0Upveu_ki6Fpbroj8A&oe=63801E4B&_nc_sid=6136e7\n",
      "Photo by 박막례 🇰🇷 on November 07, 2022. May be an image of 9 people, people standing and outdoors.\n",
      "https://scontent-gmp1-1.cdninstagram.com/v/t51.2885-15/312597378_512815100771125_7009513916728262468_n.jpg?stp=dst-jpg_e35&_nc_ht=scontent-gmp1-1.cdninstagram.com&_nc_cat=101&_nc_ohc=1W_V03Cmvs0AX-Vamd7&edm=ALQROFkBAAAA&ccb=7-5&ig_cache_key=Mjk2NjE5MzUwNzI4NDgyNzc1Mw%3D%3D.2-ccb7-5&oh=00_AfCz_AIu25S2sLTTZ4OG5jQwhU2ULUseWWhwvdu-drxxpg&oe=637F558F&_nc_sid=30a2ef\n",
      "Photo by 박막례 🇰🇷 on September 29, 2022.\n",
      "https://scontent-gmp1-1.cdninstagram.com/v/t51.2885-15/309364363_1126808248248190_8420792084364862922_n.jpg?stp=dst-jpg_e35&_nc_ht=scontent-gmp1-1.cdninstagram.com&_nc_cat=110&_nc_ohc=NFF0b2YtLpgAX_BWuTM&tn=BdiKrCMbl_HsizPL&edm=ABmJApABAAAA&ccb=7-5&ig_cache_key=MjkzODQ5Mzk4MzMwODc4Mzk0NA%3D%3D.2-ccb7-5&oh=00_AfB8eHQo-5wD-M_R60xsObLmZO2b0Upveu_ki6Fpbroj8A&oe=63801E4B&_nc_sid=6136e7\n",
      "Photo by 박막례 🇰🇷 on October 28, 2022. May be an image of fruit and tomato.\n",
      "https://scontent-gmp1-1.cdninstagram.com/v/t51.2885-15/313098262_695815858208330_8549628048461143239_n.jpg?stp=dst-jpg_e35&_nc_ht=scontent-gmp1-1.cdninstagram.com&_nc_cat=102&_nc_ohc=wIdyLy-2uSsAX_mfNOY&edm=ALQROFkBAAAA&ccb=7-5&ig_cache_key=Mjk1OTQyMTMxNDIzNjQyMjIxNA%3D%3D.2-ccb7-5&oh=00_AfCVUG5ite3BdFR2Or70maegp1M_scahDPKkp6EBe_70ng&oe=637F19E3&_nc_sid=30a2ef\n",
      "Photo by 박막례 🇰🇷 on September 29, 2022.\n",
      "https://scontent-gmp1-1.cdninstagram.com/v/t51.2885-15/309364363_1126808248248190_8420792084364862922_n.jpg?stp=dst-jpg_e35&_nc_ht=scontent-gmp1-1.cdninstagram.com&_nc_cat=110&_nc_ohc=NFF0b2YtLpgAX_BWuTM&tn=BdiKrCMbl_HsizPL&edm=ABmJApABAAAA&ccb=7-5&ig_cache_key=MjkzODQ5Mzk4MzMwODc4Mzk0NA%3D%3D.2-ccb7-5&oh=00_AfB8eHQo-5wD-M_R60xsObLmZO2b0Upveu_ki6Fpbroj8A&oe=63801E4B&_nc_sid=6136e7\n",
      "Photo by 박막례 🇰🇷 on October 28, 2022. May be an image of 1 person, child, sitting and indoor.\n",
      "https://scontent-gmp1-1.cdninstagram.com/v/t51.2885-15/313027253_660614659013590_4785009769542062816_n.jpg?stp=dst-jpg_e35&_nc_ht=scontent-gmp1-1.cdninstagram.com&_nc_cat=110&_nc_ohc=sDuamy9YnagAX8al606&edm=ALQROFkBAAAA&ccb=7-5&ig_cache_key=Mjk1ODk2MzE2OTc1NjI2NDA3Mg%3D%3D.2-ccb7-5&oh=00_AfB25Ofzp4MXrBNNZLbLqg3I5AyLCC4c21-Satf8OsQKyQ&oe=637EE626&_nc_sid=30a2ef\n",
      "Photo by 박막례 🇰🇷 on September 29, 2022.\n",
      "https://scontent-gmp1-1.cdninstagram.com/v/t51.2885-15/309364363_1126808248248190_8420792084364862922_n.jpg?stp=dst-jpg_e35&_nc_ht=scontent-gmp1-1.cdninstagram.com&_nc_cat=110&_nc_ohc=NFF0b2YtLpgAX_BWuTM&tn=BdiKrCMbl_HsizPL&edm=ABmJApABAAAA&ccb=7-5&ig_cache_key=MjkzODQ5Mzk4MzMwODc4Mzk0NA%3D%3D.2-ccb7-5&oh=00_AfB8eHQo-5wD-M_R60xsObLmZO2b0Upveu_ki6Fpbroj8A&oe=63801E4B&_nc_sid=6136e7\n",
      "Photo by 박막례 🇰🇷 on October 28, 2022. May be an image of 1 person and indoor.\n",
      "https://scontent-gmp1-1.cdninstagram.com/v/t51.2885-15/313187895_660930492268275_4452223403434258682_n.jpg?stp=dst-jpg_e35&_nc_ht=scontent-gmp1-1.cdninstagram.com&_nc_cat=103&_nc_ohc=hNsTie8cr6sAX9mq49u&edm=ALQROFkBAAAA&ccb=7-5&ig_cache_key=Mjk1ODkzNzgxNjQ4ODg5NTM5Nw%3D%3D.2-ccb7-5&oh=00_AfDBLfbaSeKU_VdQXtjYO8tJ901WegWPgJ52oOfAsxHbsQ&oe=63807FE6&_nc_sid=30a2ef\n",
      "Photo by 박막례 🇰🇷 on September 29, 2022.\n",
      "https://scontent-gmp1-1.cdninstagram.com/v/t51.2885-15/309364363_1126808248248190_8420792084364862922_n.jpg?stp=dst-jpg_e35&_nc_ht=scontent-gmp1-1.cdninstagram.com&_nc_cat=110&_nc_ohc=NFF0b2YtLpgAX_BWuTM&tn=BdiKrCMbl_HsizPL&edm=ABmJApABAAAA&ccb=7-5&ig_cache_key=MjkzODQ5Mzk4MzMwODc4Mzk0NA%3D%3D.2-ccb7-5&oh=00_AfB8eHQo-5wD-M_R60xsObLmZO2b0Upveu_ki6Fpbroj8A&oe=63801E4B&_nc_sid=6136e7\n",
      "Photo by 박막례 🇰🇷 on October 27, 2022. May be an illustration.\n",
      "https://scontent-gmp1-1.cdninstagram.com/v/t51.2885-15/312847425_165874439397720_2139005834564712429_n.jpg?stp=dst-jpg_e35&_nc_ht=scontent-gmp1-1.cdninstagram.com&_nc_cat=100&_nc_ohc=2G0KphEum_IAX82CzHX&edm=ALQROFkBAAAA&ccb=7-5&ig_cache_key=Mjk1ODY4NzU0MDc4MzYyODk4Mw%3D%3D.2-ccb7-5&oh=00_AfDcFKT9VYw9GDz0y7rmwmdK42wVhTS1PO-YogV0_2BncA&oe=637F6888&_nc_sid=30a2ef\n",
      "Photo by 박막례 🇰🇷 on October 27, 2022.\n",
      "https://scontent-gmp1-1.cdninstagram.com/v/t51.2885-15/313035278_816339916156798_5027593387048876992_n.jpg?stp=dst-jpg_e35&_nc_ht=scontent-gmp1-1.cdninstagram.com&_nc_cat=110&_nc_ohc=gvypYIW0MpgAX-j__k8&edm=ALQROFkBAAAA&ccb=7-5&ig_cache_key=Mjk1ODY4NzU0MDc4MzcyODUzNQ%3D%3D.2-ccb7-5&oh=00_AfDzaZzp86mcZVHi1xeucwH1Oxda1Kg2p-A-0o3sEgCqvg&oe=637FE4E2&_nc_sid=30a2ef\n",
      "Photo by 박막례 🇰🇷 on October 27, 2022. May be an illustration.\n",
      "https://scontent-gmp1-1.cdninstagram.com/v/t51.2885-15/312847425_165874439397720_2139005834564712429_n.jpg?stp=dst-jpg_e35&_nc_ht=scontent-gmp1-1.cdninstagram.com&_nc_cat=100&_nc_ohc=2G0KphEum_IAX82CzHX&edm=ALQROFkBAAAA&ccb=7-5&ig_cache_key=Mjk1ODY4NzU0MDc4MzYyODk4Mw%3D%3D.2-ccb7-5&oh=00_AfDcFKT9VYw9GDz0y7rmwmdK42wVhTS1PO-YogV0_2BncA&oe=637F6888&_nc_sid=30a2ef\n",
      "Photo by 박막례 🇰🇷 on October 27, 2022.\n",
      "https://scontent-gmp1-1.cdninstagram.com/v/t51.2885-15/313035278_816339916156798_5027593387048876992_n.jpg?stp=dst-jpg_e35&_nc_ht=scontent-gmp1-1.cdninstagram.com&_nc_cat=110&_nc_ohc=gvypYIW0MpgAX-j__k8&edm=ALQROFkBAAAA&ccb=7-5&ig_cache_key=Mjk1ODY4NzU0MDc4MzcyODUzNQ%3D%3D.2-ccb7-5&oh=00_AfDzaZzp86mcZVHi1xeucwH1Oxda1Kg2p-A-0o3sEgCqvg&oe=637FE4E2&_nc_sid=30a2ef\n",
      "Photo by 박막례 🇰🇷 on October 27, 2022. May be an image of 1 person.\n",
      "https://scontent-gmp1-1.cdninstagram.com/v/t51.2885-15/312386989_1311632936306616_5754286245823679091_n.jpg?stp=dst-jpg_e35&_nc_ht=scontent-gmp1-1.cdninstagram.com&_nc_cat=100&_nc_ohc=Fb46xMiP3X4AX9oSS5M&edm=ALQROFkBAAAA&ccb=7-5&ig_cache_key=Mjk1ODY4NzU0MDc3NTI4NzM4Ng%3D%3D.2-ccb7-5&oh=00_AfADpU1tQNMKKqkNuOU32j1-oFqxL--KeYYWd1OJh6kQ1w&oe=638053C9&_nc_sid=30a2ef\n",
      "Photo by 박막례 🇰🇷 on September 29, 2022.\n",
      "https://scontent-gmp1-1.cdninstagram.com/v/t51.2885-15/309364363_1126808248248190_8420792084364862922_n.jpg?stp=dst-jpg_e35&_nc_ht=scontent-gmp1-1.cdninstagram.com&_nc_cat=110&_nc_ohc=NFF0b2YtLpgAX_BWuTM&tn=BdiKrCMbl_HsizPL&edm=ABmJApABAAAA&ccb=7-5&ig_cache_key=MjkzODQ5Mzk4MzMwODc4Mzk0NA%3D%3D.2-ccb7-5&oh=00_AfB8eHQo-5wD-M_R60xsObLmZO2b0Upveu_ki6Fpbroj8A&oe=63801E4B&_nc_sid=6136e7\n",
      "Photo by 박막례 🇰🇷 on October 27, 2022.\n",
      "https://scontent-gmp1-1.cdninstagram.com/v/t51.2885-15/313035278_816339916156798_5027593387048876992_n.jpg?stp=dst-jpg_e35&_nc_ht=scontent-gmp1-1.cdninstagram.com&_nc_cat=110&_nc_ohc=gvypYIW0MpgAX-j__k8&edm=ALQROFkBAAAA&ccb=7-5&ig_cache_key=Mjk1ODY4NzU0MDc4MzcyODUzNQ%3D%3D.2-ccb7-5&oh=00_AfDzaZzp86mcZVHi1xeucwH1Oxda1Kg2p-A-0o3sEgCqvg&oe=637FE4E2&_nc_sid=30a2ef\n",
      "Photo by 박막례 🇰🇷 on October 27, 2022. May be an image of 1 person.\n",
      "https://scontent-gmp1-1.cdninstagram.com/v/t51.2885-15/312386989_1311632936306616_5754286245823679091_n.jpg?stp=dst-jpg_e35&_nc_ht=scontent-gmp1-1.cdninstagram.com&_nc_cat=100&_nc_ohc=Fb46xMiP3X4AX9oSS5M&edm=ALQROFkBAAAA&ccb=7-5&ig_cache_key=Mjk1ODY4NzU0MDc3NTI4NzM4Ng%3D%3D.2-ccb7-5&oh=00_AfADpU1tQNMKKqkNuOU32j1-oFqxL--KeYYWd1OJh6kQ1w&oe=638053C9&_nc_sid=30a2ef\n",
      "Photo by 박막례 🇰🇷 on September 29, 2022.\n",
      "https://scontent-gmp1-1.cdninstagram.com/v/t51.2885-15/309364363_1126808248248190_8420792084364862922_n.jpg?stp=dst-jpg_e35&_nc_ht=scontent-gmp1-1.cdninstagram.com&_nc_cat=110&_nc_ohc=NFF0b2YtLpgAX_BWuTM&tn=BdiKrCMbl_HsizPL&edm=ABmJApABAAAA&ccb=7-5&ig_cache_key=MjkzODQ5Mzk4MzMwODc4Mzk0NA%3D%3D.2-ccb7-5&oh=00_AfB8eHQo-5wD-M_R60xsObLmZO2b0Upveu_ki6Fpbroj8A&oe=63801E4B&_nc_sid=6136e7\n",
      "Photo by 박막례 🇰🇷 on October 21, 2022. May be an image of 1 person and indoor.\n",
      "https://scontent-gmp1-1.cdninstagram.com/v/t51.2885-15/312355493_135272759270413_7470385744192808394_n.jpg?stp=dst-jpg_e35&_nc_ht=scontent-gmp1-1.cdninstagram.com&_nc_cat=101&_nc_ohc=pDRjuIPIhi4AX-4Giib&tn=BdiKrCMbl_HsizPL&edm=ALQROFkBAAAA&ccb=7-5&ig_cache_key=Mjk1Mzg1NzkzMTI2MTAxNjQyOQ%3D%3D.2-ccb7-5&oh=00_AfBtKV97ZOA43VmmWYazeiKJ-Qne74RHDMfHVXL5SN--Sg&oe=637F9F01&_nc_sid=30a2ef\n",
      "Photo by 박막례 🇰🇷 on October 21, 2022. May be an image of 1 person and indoor.\n",
      "https://scontent-gmp1-1.cdninstagram.com/v/t51.2885-15/302717653_190667590194247_8552178603094676773_n.jpg?stp=dst-jpg_e35&_nc_ht=scontent-gmp1-1.cdninstagram.com&_nc_cat=107&_nc_ohc=qRPToYi7U2EAX8PPouM&edm=ALQROFkBAAAA&ccb=7-5&ig_cache_key=Mjk1Mzg1NzkzMTI2OTQ2MjQzNw%3D%3D.2-ccb7-5&oh=00_AfC_hKWPfelsV_iALqIoMwk5ME12lB5PuMdMYPB21zRi6Q&oe=637FA18D&_nc_sid=30a2ef\n",
      "Photo by 박막례 🇰🇷 on September 29, 2022.\n",
      "https://scontent-gmp1-1.cdninstagram.com/v/t51.2885-15/309364363_1126808248248190_8420792084364862922_n.jpg?stp=dst-jpg_e35&_nc_ht=scontent-gmp1-1.cdninstagram.com&_nc_cat=110&_nc_ohc=NFF0b2YtLpgAX_BWuTM&tn=BdiKrCMbl_HsizPL&edm=ABmJApABAAAA&ccb=7-5&ig_cache_key=MjkzODQ5Mzk4MzMwODc4Mzk0NA%3D%3D.2-ccb7-5&oh=00_AfB8eHQo-5wD-M_R60xsObLmZO2b0Upveu_ki6Fpbroj8A&oe=63801E4B&_nc_sid=6136e7\n",
      "Photo by 박막례 🇰🇷 on October 21, 2022. May be an image of 1 person and indoor.\n",
      "https://scontent-gmp1-1.cdninstagram.com/v/t51.2885-15/312355493_135272759270413_7470385744192808394_n.jpg?stp=dst-jpg_e35&_nc_ht=scontent-gmp1-1.cdninstagram.com&_nc_cat=101&_nc_ohc=pDRjuIPIhi4AX-4Giib&tn=BdiKrCMbl_HsizPL&edm=ALQROFkBAAAA&ccb=7-5&ig_cache_key=Mjk1Mzg1NzkzMTI2MTAxNjQyOQ%3D%3D.2-ccb7-5&oh=00_AfBtKV97ZOA43VmmWYazeiKJ-Qne74RHDMfHVXL5SN--Sg&oe=637F9F01&_nc_sid=30a2ef\n",
      "Photo by 박막례 🇰🇷 on October 21, 2022. May be an image of 1 person and indoor.\n",
      "https://scontent-gmp1-1.cdninstagram.com/v/t51.2885-15/302717653_190667590194247_8552178603094676773_n.jpg?stp=dst-jpg_e35&_nc_ht=scontent-gmp1-1.cdninstagram.com&_nc_cat=107&_nc_ohc=qRPToYi7U2EAX8PPouM&edm=ALQROFkBAAAA&ccb=7-5&ig_cache_key=Mjk1Mzg1NzkzMTI2OTQ2MjQzNw%3D%3D.2-ccb7-5&oh=00_AfC_hKWPfelsV_iALqIoMwk5ME12lB5PuMdMYPB21zRi6Q&oe=637FA18D&_nc_sid=30a2ef\n",
      "Photo by 박막례 🇰🇷 on September 29, 2022.\n",
      "https://scontent-gmp1-1.cdninstagram.com/v/t51.2885-15/309364363_1126808248248190_8420792084364862922_n.jpg?stp=dst-jpg_e35&_nc_ht=scontent-gmp1-1.cdninstagram.com&_nc_cat=110&_nc_ohc=NFF0b2YtLpgAX_BWuTM&tn=BdiKrCMbl_HsizPL&edm=ABmJApABAAAA&ccb=7-5&ig_cache_key=MjkzODQ5Mzk4MzMwODc4Mzk0NA%3D%3D.2-ccb7-5&oh=00_AfB8eHQo-5wD-M_R60xsObLmZO2b0Upveu_ki6Fpbroj8A&oe=63801E4B&_nc_sid=6136e7\n",
      "Photo by 박막례 🇰🇷 on October 12, 2022. May be an image of 1 person and indoor.\n",
      "https://scontent-gmp1-1.cdninstagram.com/v/t51.2885-15/311175932_132748029525822_8914022503757919057_n.jpg?stp=dst-jpg_e35&_nc_ht=scontent-gmp1-1.cdninstagram.com&_nc_cat=106&_nc_ohc=SGAQnKt9WmgAX9MEe-x&tn=BdiKrCMbl_HsizPL&edm=ALQROFkBAAAA&ccb=7-5&ig_cache_key=Mjk0Nzk0NzE5MDMwOTgzMjk2Mg%3D%3D.2-ccb7-5&oh=00_AfDFP5AL1O6QQW597DllXuO3LPcL74apiTHIcYbSM6xmsQ&oe=63800D21&_nc_sid=30a2ef\n",
      "Photo by 박막례 🇰🇷 on October 12, 2022. May be an image of 1 person, child and text that says '209 Wi-Fi Wi-Fi 1:32 t'.\n",
      "https://scontent-gmp1-1.cdninstagram.com/v/t51.2885-15/311272695_1221568801728247_4998830529349150144_n.jpg?stp=dst-jpg_e35&_nc_ht=scontent-gmp1-1.cdninstagram.com&_nc_cat=107&_nc_ohc=rmv3BGTUWqkAX_Nopc2&tn=BdiKrCMbl_HsizPL&edm=ALQROFkBAAAA&ccb=7-5&ig_cache_key=Mjk0Nzk0NzE5MDYzNjc4NTk5MQ%3D%3D.2-ccb7-5&oh=00_AfCmB_nbkD1K8s9YOUn22zCCfzr87tfEBXiJrL7m61WNqg&oe=637FABB1&_nc_sid=30a2ef\n",
      "Photo by 박막례 🇰🇷 on September 29, 2022.\n",
      "https://scontent-gmp1-1.cdninstagram.com/v/t51.2885-15/309364363_1126808248248190_8420792084364862922_n.jpg?stp=dst-jpg_e35&_nc_ht=scontent-gmp1-1.cdninstagram.com&_nc_cat=110&_nc_ohc=NFF0b2YtLpgAX_BWuTM&tn=BdiKrCMbl_HsizPL&edm=ABmJApABAAAA&ccb=7-5&ig_cache_key=MjkzODQ5Mzk4MzMwODc4Mzk0NA%3D%3D.2-ccb7-5&oh=00_AfB8eHQo-5wD-M_R60xsObLmZO2b0Upveu_ki6Fpbroj8A&oe=63801E4B&_nc_sid=6136e7\n",
      "Photo by 박막례 🇰🇷 on October 12, 2022. May be an image of 1 person and indoor.\n",
      "https://scontent-gmp1-1.cdninstagram.com/v/t51.2885-15/311175932_132748029525822_8914022503757919057_n.jpg?stp=dst-jpg_e35&_nc_ht=scontent-gmp1-1.cdninstagram.com&_nc_cat=106&_nc_ohc=SGAQnKt9WmgAX9MEe-x&tn=BdiKrCMbl_HsizPL&edm=ALQROFkBAAAA&ccb=7-5&ig_cache_key=Mjk0Nzk0NzE5MDMwOTgzMjk2Mg%3D%3D.2-ccb7-5&oh=00_AfDFP5AL1O6QQW597DllXuO3LPcL74apiTHIcYbSM6xmsQ&oe=63800D21&_nc_sid=30a2ef\n",
      "Photo by 박막례 🇰🇷 on October 12, 2022. May be an image of 1 person, child and text that says '209 Wi-Fi Wi-Fi 1:32 t'.\n",
      "https://scontent-gmp1-1.cdninstagram.com/v/t51.2885-15/311272695_1221568801728247_4998830529349150144_n.jpg?stp=dst-jpg_e35&_nc_ht=scontent-gmp1-1.cdninstagram.com&_nc_cat=107&_nc_ohc=rmv3BGTUWqkAX_Nopc2&tn=BdiKrCMbl_HsizPL&edm=ALQROFkBAAAA&ccb=7-5&ig_cache_key=Mjk0Nzk0NzE5MDYzNjc4NTk5MQ%3D%3D.2-ccb7-5&oh=00_AfCmB_nbkD1K8s9YOUn22zCCfzr87tfEBXiJrL7m61WNqg&oe=637FABB1&_nc_sid=30a2ef\n",
      "Photo by 박막례 🇰🇷 on August 21, 2022. May be an image of one or more people and text that says 'Results created by TUNİB Al 박 박하사탕 같은 막대기 같은 례 례리한 눈빛'.\n",
      "https://scontent-gmp1-1.cdninstagram.com/v/t51.2885-15/300219065_767356294385944_3786482767310846785_n.jpg?stp=dst-jpg_e35&_nc_ht=scontent-gmp1-1.cdninstagram.com&_nc_cat=104&_nc_ohc=U3XML14dFSYAX_5VSB5&edm=ABmJApABAAAA&ccb=7-5&ig_cache_key=MjkwOTc2ODY4NTU4NzkzODUyNQ%3D%3D.2-ccb7-5&oh=00_AfDXXR0uEvcmEgtPVvYrav4YrjM3V2j_gJTyzeFwoHce2A&oe=637F1DFD&_nc_sid=6136e7\n",
      "Photo by 박막례 🇰🇷 on October 07, 2022. May be an image of 1 person and indoor.\n",
      "https://scontent-gmp1-1.cdninstagram.com/v/t51.2885-15/310865588_689643848682797_1593011842315977866_n.jpg?stp=dst-jpg_e35&_nc_ht=scontent-gmp1-1.cdninstagram.com&_nc_cat=105&_nc_ohc=YNvhbjz1Kl0AX-vMfKo&tn=BdiKrCMbl_HsizPL&edm=ALQROFkBAAAA&ccb=7-5&ig_cache_key=Mjk0MzYyODc0NjYwODU4ODIzMg%3D%3D.2-ccb7-5&oh=00_AfAXFD4r7mU03UEBAaMgCl0klHotxPny_BC9xnrrTpB6vQ&oe=6380206C&_nc_sid=30a2ef\n",
      "Photo by 박막례 🇰🇷 on October 05, 2022. May be an image of food.\n",
      "https://scontent-gmp1-1.cdninstagram.com/v/t51.2885-15/310554992_194250586389004_2849573471245327495_n.jpg?stp=dst-jpg_e35&_nc_ht=scontent-gmp1-1.cdninstagram.com&_nc_cat=104&_nc_ohc=uJsJVsv_H6MAX840hG2&edm=ALQROFkBAAAA&ccb=7-5&ig_cache_key=Mjk0Mjc4OTI3Njg3NjAzNTI4NA%3D%3D.2-ccb7-5&oh=00_AfCHMINsAayiD_pQEJj5zZJJATjfQGHGyh68c00rBsu3rA&oe=63806A23&_nc_sid=30a2ef\n",
      "Photo by 박막례 🇰🇷 on October 05, 2022.\n",
      "https://scontent-gmp1-1.cdninstagram.com/v/t51.2885-15/310795562_1194139484474561_6809090880172934092_n.jpg?stp=dst-jpg_e35&_nc_ht=scontent-gmp1-1.cdninstagram.com&_nc_cat=105&_nc_ohc=XsaeCn-9FHQAX8I3DGY&edm=ALQROFkBAAAA&ccb=7-5&ig_cache_key=Mjk0Mjc4OTI3NjQzMTQ4MTMwMw%3D%3D.2-ccb7-5&oh=00_AfAi8JfMi0tqkHVZ1xZ6HLyMv-CE3IiDfBnz_BB5lIa4fw&oe=637F663C&_nc_sid=30a2ef\n",
      "Photo by 박막례 🇰🇷 on October 05, 2022. May be an image of food.\n",
      "https://scontent-gmp1-1.cdninstagram.com/v/t51.2885-15/310554992_194250586389004_2849573471245327495_n.jpg?stp=dst-jpg_e35&_nc_ht=scontent-gmp1-1.cdninstagram.com&_nc_cat=104&_nc_ohc=uJsJVsv_H6MAX840hG2&edm=ALQROFkBAAAA&ccb=7-5&ig_cache_key=Mjk0Mjc4OTI3Njg3NjAzNTI4NA%3D%3D.2-ccb7-5&oh=00_AfCHMINsAayiD_pQEJj5zZJJATjfQGHGyh68c00rBsu3rA&oe=63806A23&_nc_sid=30a2ef\n",
      "Photo by 박막례 🇰🇷 on October 05, 2022.\n",
      "https://scontent-gmp1-1.cdninstagram.com/v/t51.2885-15/310795562_1194139484474561_6809090880172934092_n.jpg?stp=dst-jpg_e35&_nc_ht=scontent-gmp1-1.cdninstagram.com&_nc_cat=105&_nc_ohc=XsaeCn-9FHQAX8I3DGY&edm=ALQROFkBAAAA&ccb=7-5&ig_cache_key=Mjk0Mjc4OTI3NjQzMTQ4MTMwMw%3D%3D.2-ccb7-5&oh=00_AfAi8JfMi0tqkHVZ1xZ6HLyMv-CE3IiDfBnz_BB5lIa4fw&oe=637F663C&_nc_sid=30a2ef\n",
      "Photo by 박막례 🇰🇷 on October 01, 2022. May be an image of 8 people and people standing.\n",
      "https://scontent-gmp1-1.cdninstagram.com/v/t51.2885-15/309874667_1137821443609547_7063989105658983410_n.jpg?stp=dst-jpg_e35&_nc_ht=scontent-gmp1-1.cdninstagram.com&_nc_cat=111&_nc_ohc=8VPVHiZOkLkAX8JOYYe&edm=ALQROFkBAAAA&ccb=7-5&ig_cache_key=MjkzOTkxNDQ4MTg0MjI5NzQzMg%3D%3D.2-ccb7-5&oh=00_AfCvBFHtBrRgIwCdmd9z8ND-KHM7Q7odwOS9oXFNTgl68w&oe=637F8D4A&_nc_sid=30a2ef\n",
      "Photo by 박막례 🇰🇷 on October 01, 2022. May be an image of 1 person and standing.\n",
      "https://scontent-gmp1-1.cdninstagram.com/v/t51.2885-15/310021580_1059827704702773_5650079355654088107_n.jpg?stp=dst-jpg_e35&_nc_ht=scontent-gmp1-1.cdninstagram.com&_nc_cat=109&_nc_ohc=0zWvIySLSFsAX-_ot9m&edm=ALQROFkBAAAA&ccb=7-5&ig_cache_key=MjkzOTkxNDQ4MTg0MjM1Mjk3MA%3D%3D.2-ccb7-5&oh=00_AfA7jXsa6NBrxaIZ89RcZJegHeDV3f6xOA3lwm0OyE4gMg&oe=637F6E36&_nc_sid=30a2ef\n",
      "Photo by 박막례 🇰🇷 on October 01, 2022. May be an image of 8 people and people standing.\n",
      "https://scontent-gmp1-1.cdninstagram.com/v/t51.2885-15/309874667_1137821443609547_7063989105658983410_n.jpg?stp=dst-jpg_e35&_nc_ht=scontent-gmp1-1.cdninstagram.com&_nc_cat=111&_nc_ohc=8VPVHiZOkLkAX8JOYYe&edm=ALQROFkBAAAA&ccb=7-5&ig_cache_key=MjkzOTkxNDQ4MTg0MjI5NzQzMg%3D%3D.2-ccb7-5&oh=00_AfCvBFHtBrRgIwCdmd9z8ND-KHM7Q7odwOS9oXFNTgl68w&oe=637F8D4A&_nc_sid=30a2ef\n",
      "Photo by 박막례 🇰🇷 on October 01, 2022. May be an image of 1 person and standing.\n",
      "https://scontent-gmp1-1.cdninstagram.com/v/t51.2885-15/310021580_1059827704702773_5650079355654088107_n.jpg?stp=dst-jpg_e35&_nc_ht=scontent-gmp1-1.cdninstagram.com&_nc_cat=109&_nc_ohc=0zWvIySLSFsAX-_ot9m&edm=ALQROFkBAAAA&ccb=7-5&ig_cache_key=MjkzOTkxNDQ4MTg0MjM1Mjk3MA%3D%3D.2-ccb7-5&oh=00_AfA7jXsa6NBrxaIZ89RcZJegHeDV3f6xOA3lwm0OyE4gMg&oe=637F6E36&_nc_sid=30a2ef\n",
      "Photo by 박막례 🇰🇷 on October 01, 2022. May be an image of food.\n",
      "https://scontent-gmp1-1.cdninstagram.com/v/t51.2885-15/309854965_163246929642136_7411294595377727626_n.jpg?stp=dst-jpg_e35&_nc_ht=scontent-gmp1-1.cdninstagram.com&_nc_cat=104&_nc_ohc=0JtvlX1I7XoAX8x7_zR&tn=BdiKrCMbl_HsizPL&edm=ALQROFkBAAAA&ccb=7-5&ig_cache_key=MjkzOTM4ODUyMTQ2NDI0NjcwMw%3D%3D.2-ccb7-5&oh=00_AfAj2h_XsL6t-wXGojeuk79ycsUnGwNTLCKqHWN-nxXSXg&oe=63807FEB&_nc_sid=30a2ef\n",
      "Photo by 박막례 🇰🇷 on October 01, 2022. May be an image of food.\n",
      "https://scontent-gmp1-1.cdninstagram.com/v/t51.2885-15/309905319_825002845362192_5752511706356121812_n.jpg?stp=dst-jpg_e35&_nc_ht=scontent-gmp1-1.cdninstagram.com&_nc_cat=100&_nc_ohc=6faINOLVG5EAX-4X-pK&tn=BdiKrCMbl_HsizPL&edm=ALQROFkBAAAA&ccb=7-5&ig_cache_key=MjkzOTM4ODUyMTI5NjUzNDIxNA%3D%3D.2-ccb7-5&oh=00_AfD_KLfUp75j92_QSjQkg35DKqVrSpSOusWyzHaa53NmHw&oe=63809971&_nc_sid=30a2ef\n",
      "Photo by 박막례 🇰🇷 on October 01, 2022. May be an image of food.\n",
      "https://scontent-gmp1-1.cdninstagram.com/v/t51.2885-15/309854965_163246929642136_7411294595377727626_n.jpg?stp=dst-jpg_e35&_nc_ht=scontent-gmp1-1.cdninstagram.com&_nc_cat=104&_nc_ohc=0JtvlX1I7XoAX8x7_zR&tn=BdiKrCMbl_HsizPL&edm=ALQROFkBAAAA&ccb=7-5&ig_cache_key=MjkzOTM4ODUyMTQ2NDI0NjcwMw%3D%3D.2-ccb7-5&oh=00_AfAj2h_XsL6t-wXGojeuk79ycsUnGwNTLCKqHWN-nxXSXg&oe=63807FEB&_nc_sid=30a2ef\n",
      "Photo by 박막례 🇰🇷 on October 01, 2022. May be an image of food.\n",
      "https://scontent-gmp1-1.cdninstagram.com/v/t51.2885-15/309905319_825002845362192_5752511706356121812_n.jpg?stp=dst-jpg_e35&_nc_ht=scontent-gmp1-1.cdninstagram.com&_nc_cat=100&_nc_ohc=6faINOLVG5EAX-4X-pK&tn=BdiKrCMbl_HsizPL&edm=ALQROFkBAAAA&ccb=7-5&ig_cache_key=MjkzOTM4ODUyMTI5NjUzNDIxNA%3D%3D.2-ccb7-5&oh=00_AfD_KLfUp75j92_QSjQkg35DKqVrSpSOusWyzHaa53NmHw&oe=63809971&_nc_sid=30a2ef\n",
      "Photo by 박막례 🇰🇷 on September 30, 2022. May be an image of 5 people, jeep, outdoors and text that says '의장'.\n",
      "https://scontent-gmp1-1.cdninstagram.com/v/t51.2885-15/309660810_3078368092460667_2748869127277778820_n.jpg?stp=dst-jpg_e35&_nc_ht=scontent-gmp1-1.cdninstagram.com&_nc_cat=103&_nc_ohc=81jSlvI4-6cAX_XtUBa&edm=ALQROFkBAAAA&ccb=7-5&ig_cache_key=MjkzOTI1Mzk3OTU3NTQ0NjIyNA%3D%3D.2-ccb7-5&oh=00_AfANBHMm6Ur-1O3rsjHI3JLYK6bSIzWqUqyYWPz_kTG6Eg&oe=637F113C&_nc_sid=30a2ef\n",
      "Photo by 박막례 🇰🇷 on September 30, 2022. May be an image of 6 people, jeep and outdoors.\n",
      "https://scontent-gmp1-1.cdninstagram.com/v/t51.2885-15/310358688_1530259234099045_7792179903053910375_n.jpg?stp=dst-jpg_e35&_nc_ht=scontent-gmp1-1.cdninstagram.com&_nc_cat=101&_nc_ohc=U5NetR5lHoIAX_clOkL&tn=BdiKrCMbl_HsizPL&edm=ALQROFkBAAAA&ccb=7-5&ig_cache_key=MjkzOTI1Mzk3OTU3NTM0MDA4OA%3D%3D.2-ccb7-5&oh=00_AfDGJLSKNweuN80kSyIg0KxQS9hDKV_YvLUg0fnfzcroUw&oe=63803848&_nc_sid=30a2ef\n",
      "Photo by 박막례 🇰🇷 on September 30, 2022. May be an image of 5 people, jeep, outdoors and text that says '의장'.\n",
      "https://scontent-gmp1-1.cdninstagram.com/v/t51.2885-15/309660810_3078368092460667_2748869127277778820_n.jpg?stp=dst-jpg_e35&_nc_ht=scontent-gmp1-1.cdninstagram.com&_nc_cat=103&_nc_ohc=81jSlvI4-6cAX_XtUBa&edm=ALQROFkBAAAA&ccb=7-5&ig_cache_key=MjkzOTI1Mzk3OTU3NTQ0NjIyNA%3D%3D.2-ccb7-5&oh=00_AfANBHMm6Ur-1O3rsjHI3JLYK6bSIzWqUqyYWPz_kTG6Eg&oe=637F113C&_nc_sid=30a2ef\n",
      "Photo by 박막례 🇰🇷 on September 30, 2022. May be an image of 6 people, jeep and outdoors.\n",
      "https://scontent-gmp1-1.cdninstagram.com/v/t51.2885-15/310358688_1530259234099045_7792179903053910375_n.jpg?stp=dst-jpg_e35&_nc_ht=scontent-gmp1-1.cdninstagram.com&_nc_cat=101&_nc_ohc=U5NetR5lHoIAX_clOkL&tn=BdiKrCMbl_HsizPL&edm=ALQROFkBAAAA&ccb=7-5&ig_cache_key=MjkzOTI1Mzk3OTU3NTM0MDA4OA%3D%3D.2-ccb7-5&oh=00_AfDGJLSKNweuN80kSyIg0KxQS9hDKV_YvLUg0fnfzcroUw&oe=63803848&_nc_sid=30a2ef\n",
      "Photo by 박막례 🇰🇷 on September 30, 2022. May be an image of 1 person.\n",
      "https://scontent-gmp1-1.cdninstagram.com/v/t51.2885-15/309889628_1741646226221629_8395336056732855721_n.jpg?stp=dst-jpg_e35&_nc_ht=scontent-gmp1-1.cdninstagram.com&_nc_cat=101&_nc_ohc=0Axzn3f6K8YAX8W-rWn&edm=ALQROFkBAAAA&ccb=7-5&ig_cache_key=MjkzOTI1Mzk3OTU2Njg0NjkyMQ%3D%3D.2-ccb7-5&oh=00_AfBGAh1p1z43H5MC9VRIN-jQ2FIVNmwYWKrfhEvFn38okw&oe=637F38F9&_nc_sid=30a2ef\n",
      "Photo by 박막례 🇰🇷 on September 30, 2022. May be an image of 6 people, jeep and outdoors.\n",
      "https://scontent-gmp1-1.cdninstagram.com/v/t51.2885-15/310358688_1530259234099045_7792179903053910375_n.jpg?stp=dst-jpg_e35&_nc_ht=scontent-gmp1-1.cdninstagram.com&_nc_cat=101&_nc_ohc=U5NetR5lHoIAX_clOkL&tn=BdiKrCMbl_HsizPL&edm=ALQROFkBAAAA&ccb=7-5&ig_cache_key=MjkzOTI1Mzk3OTU3NTM0MDA4OA%3D%3D.2-ccb7-5&oh=00_AfDGJLSKNweuN80kSyIg0KxQS9hDKV_YvLUg0fnfzcroUw&oe=63803848&_nc_sid=30a2ef\n",
      "Photo by 박막례 🇰🇷 on September 30, 2022. May be an image of 1 person.\n",
      "https://scontent-gmp1-1.cdninstagram.com/v/t51.2885-15/309889628_1741646226221629_8395336056732855721_n.jpg?stp=dst-jpg_e35&_nc_ht=scontent-gmp1-1.cdninstagram.com&_nc_cat=101&_nc_ohc=0Axzn3f6K8YAX8W-rWn&edm=ALQROFkBAAAA&ccb=7-5&ig_cache_key=MjkzOTI1Mzk3OTU2Njg0NjkyMQ%3D%3D.2-ccb7-5&oh=00_AfBGAh1p1z43H5MC9VRIN-jQ2FIVNmwYWKrfhEvFn38okw&oe=637F38F9&_nc_sid=30a2ef\n",
      "Photo by 박막례 🇰🇷 on September 30, 2022. May be an image of 1 person, standing and outdoors.\n",
      "https://scontent-gmp1-1.cdninstagram.com/v/t51.2885-15/309712469_3431494050395295_1977671665939952832_n.jpg?stp=dst-jpg_e35&_nc_ht=scontent-gmp1-1.cdninstagram.com&_nc_cat=103&_nc_ohc=sPprJgZ8Au0AX8Ti9vQ&tn=BdiKrCMbl_HsizPL&edm=ALQROFkBAAAA&ccb=7-5&ig_cache_key=MjkzOTI1Mzk3OTcwMTExNzIzMw%3D%3D.2-ccb7-5&oh=00_AfAQMpcu-CnFDv7zOuYW5P3tykx0vSuGUNUonk1gQKl64A&oe=637F1992&_nc_sid=30a2ef\n",
      "Photo by 박막례 🇰🇷 on September 30, 2022. May be an image of 1 person.\n",
      "https://scontent-gmp1-1.cdninstagram.com/v/t51.2885-15/309889628_1741646226221629_8395336056732855721_n.jpg?stp=dst-jpg_e35&_nc_ht=scontent-gmp1-1.cdninstagram.com&_nc_cat=101&_nc_ohc=0Axzn3f6K8YAX8W-rWn&edm=ALQROFkBAAAA&ccb=7-5&ig_cache_key=MjkzOTI1Mzk3OTU2Njg0NjkyMQ%3D%3D.2-ccb7-5&oh=00_AfBGAh1p1z43H5MC9VRIN-jQ2FIVNmwYWKrfhEvFn38okw&oe=637F38F9&_nc_sid=30a2ef\n",
      "Photo by 박막례 🇰🇷 on September 30, 2022. May be an image of 1 person, standing and outdoors.\n",
      "https://scontent-gmp1-1.cdninstagram.com/v/t51.2885-15/309712469_3431494050395295_1977671665939952832_n.jpg?stp=dst-jpg_e35&_nc_ht=scontent-gmp1-1.cdninstagram.com&_nc_cat=103&_nc_ohc=sPprJgZ8Au0AX8Ti9vQ&tn=BdiKrCMbl_HsizPL&edm=ALQROFkBAAAA&ccb=7-5&ig_cache_key=MjkzOTI1Mzk3OTcwMTExNzIzMw%3D%3D.2-ccb7-5&oh=00_AfAQMpcu-CnFDv7zOuYW5P3tykx0vSuGUNUonk1gQKl64A&oe=637F1992&_nc_sid=30a2ef\n",
      "Photo by 박막례 🇰🇷 on September 30, 2022. May be an image of 3 people, people standing, outdoors and text that says '705 COMMANDO REGIMENT H'.\n",
      "https://scontent-gmp1-1.cdninstagram.com/v/t51.2885-15/309575770_118800594300720_3528882523023735755_n.jpg?stp=dst-jpg_e35&_nc_ht=scontent-gmp1-1.cdninstagram.com&_nc_cat=100&_nc_ohc=nUgiE0Rf2oIAX-9d37-&tn=BdiKrCMbl_HsizPL&edm=ALQROFkBAAAA&ccb=7-5&ig_cache_key=MjkzOTI1Mzk3OTcwOTQ3MjUyOQ%3D%3D.2-ccb7-5&oh=00_AfBP1O2AJh5qxr553KymG4OAoeClh1a3CFwPq0W0_3iQhQ&oe=63800A75&_nc_sid=30a2ef\n",
      "Photo by 박막례 🇰🇷 on September 30, 2022. May be an image of 1 person, standing and outdoors.\n",
      "https://scontent-gmp1-1.cdninstagram.com/v/t51.2885-15/309712469_3431494050395295_1977671665939952832_n.jpg?stp=dst-jpg_e35&_nc_ht=scontent-gmp1-1.cdninstagram.com&_nc_cat=103&_nc_ohc=sPprJgZ8Au0AX8Ti9vQ&tn=BdiKrCMbl_HsizPL&edm=ALQROFkBAAAA&ccb=7-5&ig_cache_key=MjkzOTI1Mzk3OTcwMTExNzIzMw%3D%3D.2-ccb7-5&oh=00_AfAQMpcu-CnFDv7zOuYW5P3tykx0vSuGUNUonk1gQKl64A&oe=637F1992&_nc_sid=30a2ef\n",
      "Photo by 박막례 🇰🇷 on September 30, 2022. May be an image of 3 people, people standing, outdoors and text that says '705 COMMANDO REGIMENT H'.\n",
      "https://scontent-gmp1-1.cdninstagram.com/v/t51.2885-15/309575770_118800594300720_3528882523023735755_n.jpg?stp=dst-jpg_e35&_nc_ht=scontent-gmp1-1.cdninstagram.com&_nc_cat=100&_nc_ohc=nUgiE0Rf2oIAX-9d37-&tn=BdiKrCMbl_HsizPL&edm=ALQROFkBAAAA&ccb=7-5&ig_cache_key=MjkzOTI1Mzk3OTcwOTQ3MjUyOQ%3D%3D.2-ccb7-5&oh=00_AfBP1O2AJh5qxr553KymG4OAoeClh1a3CFwPq0W0_3iQhQ&oe=63800A75&_nc_sid=30a2ef\n",
      "Photo by 박막례 🇰🇷 on September 30, 2022. May be an image of 1 person and indoor.\n",
      "https://scontent-gmp1-1.cdninstagram.com/v/t51.2885-15/309914499_193123053098440_935092720588626090_n.jpg?stp=dst-jpg_e35&_nc_ht=scontent-gmp1-1.cdninstagram.com&_nc_cat=104&_nc_ohc=JNFtLdEVKM0AX_9YImW&edm=ALQROFkBAAAA&ccb=7-5&ig_cache_key=MjkzOTI1Mzk3OTcwOTUxNjMyNA%3D%3D.2-ccb7-5&oh=00_AfDYdYxL0NxSzni-rdSoWZxV_a8B2sClRY3UvNykzMYHow&oe=637F9069&_nc_sid=30a2ef\n",
      "Photo by 박막례 🇰🇷 on September 30, 2022. May be an image of 3 people, people standing, outdoors and text that says '705 COMMANDO REGIMENT H'.\n",
      "https://scontent-gmp1-1.cdninstagram.com/v/t51.2885-15/309575770_118800594300720_3528882523023735755_n.jpg?stp=dst-jpg_e35&_nc_ht=scontent-gmp1-1.cdninstagram.com&_nc_cat=100&_nc_ohc=nUgiE0Rf2oIAX-9d37-&tn=BdiKrCMbl_HsizPL&edm=ALQROFkBAAAA&ccb=7-5&ig_cache_key=MjkzOTI1Mzk3OTcwOTQ3MjUyOQ%3D%3D.2-ccb7-5&oh=00_AfBP1O2AJh5qxr553KymG4OAoeClh1a3CFwPq0W0_3iQhQ&oe=63800A75&_nc_sid=30a2ef\n",
      "Photo by 박막례 🇰🇷 on September 30, 2022. May be an image of 1 person and indoor.\n",
      "https://scontent-gmp1-1.cdninstagram.com/v/t51.2885-15/309914499_193123053098440_935092720588626090_n.jpg?stp=dst-jpg_e35&_nc_ht=scontent-gmp1-1.cdninstagram.com&_nc_cat=104&_nc_ohc=JNFtLdEVKM0AX_9YImW&edm=ALQROFkBAAAA&ccb=7-5&ig_cache_key=MjkzOTI1Mzk3OTcwOTUxNjMyNA%3D%3D.2-ccb7-5&oh=00_AfDYdYxL0NxSzni-rdSoWZxV_a8B2sClRY3UvNykzMYHow&oe=637F9069&_nc_sid=30a2ef\n",
      "Photo by 박막례 🇰🇷 on September 30, 2022. May be an image of 1 person and outdoors.\n",
      "https://scontent-gmp1-1.cdninstagram.com/v/t51.2885-15/309283873_795455865000403_420122169308779536_n.jpg?stp=dst-jpg_e35&_nc_ht=scontent-gmp1-1.cdninstagram.com&_nc_cat=107&_nc_ohc=YWX9BbnDVtsAX9DohOX&tn=BdiKrCMbl_HsizPL&edm=ALQROFkBAAAA&ccb=7-5&ig_cache_key=MjkzOTI1Mzk3OTU3NTIyNDMwOA%3D%3D.2-ccb7-5&oh=00_AfCTFoqfBcdvpv33I86XBvsgG9uHEnXy0LMUxLT5r1X2rg&oe=63806EE2&_nc_sid=30a2ef\n",
      "Photo by 박막례 🇰🇷 on September 30, 2022. May be an image of 1 person and indoor.\n",
      "https://scontent-gmp1-1.cdninstagram.com/v/t51.2885-15/309914499_193123053098440_935092720588626090_n.jpg?stp=dst-jpg_e35&_nc_ht=scontent-gmp1-1.cdninstagram.com&_nc_cat=104&_nc_ohc=JNFtLdEVKM0AX_9YImW&edm=ALQROFkBAAAA&ccb=7-5&ig_cache_key=MjkzOTI1Mzk3OTcwOTUxNjMyNA%3D%3D.2-ccb7-5&oh=00_AfDYdYxL0NxSzni-rdSoWZxV_a8B2sClRY3UvNykzMYHow&oe=637F9069&_nc_sid=30a2ef\n",
      "Photo by 박막례 🇰🇷 on September 30, 2022. May be an image of 1 person and outdoors.\n",
      "https://scontent-gmp1-1.cdninstagram.com/v/t51.2885-15/309283873_795455865000403_420122169308779536_n.jpg?stp=dst-jpg_e35&_nc_ht=scontent-gmp1-1.cdninstagram.com&_nc_cat=107&_nc_ohc=YWX9BbnDVtsAX9DohOX&tn=BdiKrCMbl_HsizPL&edm=ALQROFkBAAAA&ccb=7-5&ig_cache_key=MjkzOTI1Mzk3OTU3NTIyNDMwOA%3D%3D.2-ccb7-5&oh=00_AfCTFoqfBcdvpv33I86XBvsgG9uHEnXy0LMUxLT5r1X2rg&oe=63806EE2&_nc_sid=30a2ef\n",
      "Photo by 박막례 🇰🇷 on September 30, 2022. May be an image of 2 people.\n",
      "https://scontent-gmp1-1.cdninstagram.com/v/t51.2885-15/309615179_844269153605765_2283396292488356007_n.jpg?stp=dst-jpg_e35&_nc_ht=scontent-gmp1-1.cdninstagram.com&_nc_cat=105&_nc_ohc=zB6TeJC5NDsAX_JL7da&edm=ALQROFkBAAAA&ccb=7-5&ig_cache_key=MjkzOTI1Mzk3OTU3NTQ3Mzk0MQ%3D%3D.2-ccb7-5&oh=00_AfCbxI4-n7q3JKpKffVdfGFbBn0xoQn8tKciWvQGKtIbGw&oe=637F0175&_nc_sid=30a2ef\n",
      "Photo by 박막례 🇰🇷 on September 30, 2022. May be an image of 1 person and outdoors.\n",
      "https://scontent-gmp1-1.cdninstagram.com/v/t51.2885-15/309283873_795455865000403_420122169308779536_n.jpg?stp=dst-jpg_e35&_nc_ht=scontent-gmp1-1.cdninstagram.com&_nc_cat=107&_nc_ohc=YWX9BbnDVtsAX9DohOX&tn=BdiKrCMbl_HsizPL&edm=ALQROFkBAAAA&ccb=7-5&ig_cache_key=MjkzOTI1Mzk3OTU3NTIyNDMwOA%3D%3D.2-ccb7-5&oh=00_AfCTFoqfBcdvpv33I86XBvsgG9uHEnXy0LMUxLT5r1X2rg&oe=63806EE2&_nc_sid=30a2ef\n",
      "Photo by 박막례 🇰🇷 on September 30, 2022. May be an image of 2 people.\n",
      "https://scontent-gmp1-1.cdninstagram.com/v/t51.2885-15/309615179_844269153605765_2283396292488356007_n.jpg?stp=dst-jpg_e35&_nc_ht=scontent-gmp1-1.cdninstagram.com&_nc_cat=105&_nc_ohc=zB6TeJC5NDsAX_JL7da&edm=ALQROFkBAAAA&ccb=7-5&ig_cache_key=MjkzOTI1Mzk3OTU3NTQ3Mzk0MQ%3D%3D.2-ccb7-5&oh=00_AfCbxI4-n7q3JKpKffVdfGFbBn0xoQn8tKciWvQGKtIbGw&oe=637F0175&_nc_sid=30a2ef\n",
      "Photo by 박막례 🇰🇷 on August 21, 2022. May be an image of one or more people and text that says 'Results created by TUNİB Al 박 박하사탕 같은 막대기 같은 례 례리한 눈빛'.\n",
      "https://scontent-gmp1-1.cdninstagram.com/v/t51.2885-15/300219065_767356294385944_3786482767310846785_n.jpg?stp=dst-jpg_e35&_nc_ht=scontent-gmp1-1.cdninstagram.com&_nc_cat=104&_nc_ohc=U3XML14dFSYAX_5VSB5&edm=ABmJApABAAAA&ccb=7-5&ig_cache_key=MjkwOTc2ODY4NTU4NzkzODUyNQ%3D%3D.2-ccb7-5&oh=00_AfDXXR0uEvcmEgtPVvYrav4YrjM3V2j_gJTyzeFwoHce2A&oe=637F1DFD&_nc_sid=6136e7\n",
      "Photo by 박막례 🇰🇷 on September 29, 2022.\n",
      "https://scontent-gmp1-1.cdninstagram.com/v/t51.2885-15/309364363_1126808248248190_8420792084364862922_n.jpg?stp=dst-jpg_e35&_nc_ht=scontent-gmp1-1.cdninstagram.com&_nc_cat=110&_nc_ohc=NFF0b2YtLpgAX_BWuTM&tn=BdiKrCMbl_HsizPL&edm=ALQROFkBAAAA&ccb=7-5&ig_cache_key=MjkzODQ5Mzk4MzMwODc4Mzk0NA%3D%3D.2-ccb7-5&oh=00_AfCuIx0nhPqIpEQvzWOt-yzVH436s4WcJtqJRuMWzzjoRg&oe=63801E4B&_nc_sid=30a2ef\n",
      "Photo by 박막례 🇰🇷 on August 21, 2022. May be an image of one or more people and text that says 'Results created by TUNİB Al 박 박하사탕 같은 막대기 같은 례 례리한 눈빛'.\n",
      "https://scontent-gmp1-1.cdninstagram.com/v/t51.2885-15/300219065_767356294385944_3786482767310846785_n.jpg?stp=dst-jpg_e35&_nc_ht=scontent-gmp1-1.cdninstagram.com&_nc_cat=104&_nc_ohc=U3XML14dFSYAX_5VSB5&edm=ABmJApABAAAA&ccb=7-5&ig_cache_key=MjkwOTc2ODY4NTU4NzkzODUyNQ%3D%3D.2-ccb7-5&oh=00_AfDXXR0uEvcmEgtPVvYrav4YrjM3V2j_gJTyzeFwoHce2A&oe=637F1DFD&_nc_sid=6136e7\n",
      "\n",
      "\n",
      "NO KOREAN 2366\n",
      "\n",
      "NO KOREAN 2363\n",
      "\n",
      "NO KOREAN 2360\n",
      "\n",
      "NO KOREAN 2356\n",
      "\n",
      "NO KOREAN 2353\n",
      "choiheeann Make Directory\n",
      "Photo by 최희 Hee Choi on November 19, 2022.\n",
      "https://scontent-gmp1-1.cdninstagram.com/v/t51.2885-15/316022384_1552610708544636_1690326961790090934_n.jpg?stp=dst-jpg_e35&_nc_ht=scontent-gmp1-1.cdninstagram.com&_nc_cat=100&_nc_ohc=WprMseJxSzUAX_BRJBt&edm=ALQROFkBAAAA&ccb=7-5&ig_cache_key=Mjk3NDk0NTM4MzM4Mzg2ODM3NQ%3D%3D.2-ccb7-5&oh=00_AfDavkV-YCXgrObYfpvA7bzBCOLkqms8Gyb2DXWSlOfSVA&oe=637FFF8B&_nc_sid=30a2ef\n",
      "Photo shared by 최희 Hee Choi on November 19, 2022 tagging @makeatoast_official. May be an image of 1 person and standing.\n",
      "https://scontent-gmp1-1.cdninstagram.com/v/t51.2885-15/316156272_5761685080520233_1929323668656978939_n.jpg?stp=dst-jpg_e35&_nc_ht=scontent-gmp1-1.cdninstagram.com&_nc_cat=101&_nc_ohc=Mj_nIbNhT90AX_m_r8F&edm=ALQROFkBAAAA&ccb=7-5&ig_cache_key=Mjk3NTM3NTAxNjk3MzU3NjY0OQ%3D%3D.2-ccb7-5&oh=00_AfAp1wC1Kr0IQ7NWwfuFFToZWdJ52TUU_XdPMfAzeFQvog&oe=637FC48C&_nc_sid=30a2ef\n",
      "Photo by 최희 Hee Choi on November 19, 2022. May be an image of 1 person and standing.\n",
      "https://scontent-gmp1-1.cdninstagram.com/v/t51.2885-15/315963193_204966738675262_6221539904403976116_n.jpg?stp=dst-jpg_e35&_nc_ht=scontent-gmp1-1.cdninstagram.com&_nc_cat=110&_nc_ohc=JTxiHDjFzikAX_z1o6G&edm=ALQROFkBAAAA&ccb=7-5&ig_cache_key=Mjk3NTM3NTAxNzA2NTkwMzgxNQ%3D%3D.2-ccb7-5&oh=00_AfCdR5Ir2Fmvmji693-qeOyXviG0pqo0gZSFv2QhPA4wYQ&oe=63807A21&_nc_sid=30a2ef\n",
      "Photo shared by 최희 Hee Choi on November 19, 2022 tagging @makeatoast_official. May be an image of 1 person and standing.\n",
      "https://scontent-gmp1-1.cdninstagram.com/v/t51.2885-15/316156272_5761685080520233_1929323668656978939_n.jpg?stp=dst-jpg_e35&_nc_ht=scontent-gmp1-1.cdninstagram.com&_nc_cat=101&_nc_ohc=Mj_nIbNhT90AX_m_r8F&edm=ALQROFkBAAAA&ccb=7-5&ig_cache_key=Mjk3NTM3NTAxNjk3MzU3NjY0OQ%3D%3D.2-ccb7-5&oh=00_AfAp1wC1Kr0IQ7NWwfuFFToZWdJ52TUU_XdPMfAzeFQvog&oe=637FC48C&_nc_sid=30a2ef\n",
      "Photo by 최희 Hee Choi on November 19, 2022. May be an image of 1 person and standing.\n",
      "https://scontent-gmp1-1.cdninstagram.com/v/t51.2885-15/315963193_204966738675262_6221539904403976116_n.jpg?stp=dst-jpg_e35&_nc_ht=scontent-gmp1-1.cdninstagram.com&_nc_cat=110&_nc_ohc=JTxiHDjFzikAX_z1o6G&edm=ALQROFkBAAAA&ccb=7-5&ig_cache_key=Mjk3NTM3NTAxNzA2NTkwMzgxNQ%3D%3D.2-ccb7-5&oh=00_AfCdR5Ir2Fmvmji693-qeOyXviG0pqo0gZSFv2QhPA4wYQ&oe=63807A21&_nc_sid=30a2ef\n",
      "Photo by 최희 Hee Choi on November 19, 2022. May be an image of 1 person and standing.\n",
      "https://scontent-gmp1-1.cdninstagram.com/v/t51.2885-15/316174160_529934518981272_7942081251387433791_n.jpg?stp=dst-jpg_e35&_nc_ht=scontent-gmp1-1.cdninstagram.com&_nc_cat=100&_nc_ohc=VPgzOXkgSpEAX-UWNWs&tn=BdiKrCMbl_HsizPL&edm=ALQROFkBAAAA&ccb=7-5&ig_cache_key=Mjk3NTM3NTAxNjg1NjM3NjI3Ng%3D%3D.2-ccb7-5&oh=00_AfB5o_gfNU6UklT6BN6SwATasm_iHSeo3Y1QOG3TVDG8Kw&oe=637FD96F&_nc_sid=30a2ef\n",
      "Photo by 최희 Hee Choi on November 19, 2022. May be an image of 1 person and standing.\n",
      "https://scontent-gmp1-1.cdninstagram.com/v/t51.2885-15/315963193_204966738675262_6221539904403976116_n.jpg?stp=dst-jpg_e35&_nc_ht=scontent-gmp1-1.cdninstagram.com&_nc_cat=110&_nc_ohc=JTxiHDjFzikAX_z1o6G&edm=ALQROFkBAAAA&ccb=7-5&ig_cache_key=Mjk3NTM3NTAxNzA2NTkwMzgxNQ%3D%3D.2-ccb7-5&oh=00_AfCdR5Ir2Fmvmji693-qeOyXviG0pqo0gZSFv2QhPA4wYQ&oe=63807A21&_nc_sid=30a2ef\n",
      "Photo by 최희 Hee Choi on November 19, 2022. May be an image of 1 person and standing.\n",
      "https://scontent-gmp1-1.cdninstagram.com/v/t51.2885-15/316174160_529934518981272_7942081251387433791_n.jpg?stp=dst-jpg_e35&_nc_ht=scontent-gmp1-1.cdninstagram.com&_nc_cat=100&_nc_ohc=VPgzOXkgSpEAX-UWNWs&tn=BdiKrCMbl_HsizPL&edm=ALQROFkBAAAA&ccb=7-5&ig_cache_key=Mjk3NTM3NTAxNjg1NjM3NjI3Ng%3D%3D.2-ccb7-5&oh=00_AfB5o_gfNU6UklT6BN6SwATasm_iHSeo3Y1QOG3TVDG8Kw&oe=637FD96F&_nc_sid=30a2ef\n",
      "Photo shared by 최희 Hee Choi on November 19, 2022 tagging @bemymood_official. May be an image of 1 person and standing.\n",
      "https://scontent-gmp1-1.cdninstagram.com/v/t51.2885-15/315988608_471042531837885_2127918014203714729_n.jpg?stp=dst-jpg_e35&_nc_ht=scontent-gmp1-1.cdninstagram.com&_nc_cat=109&_nc_ohc=hAudgiO87FcAX95p6us&edm=ALQROFkBAAAA&ccb=7-5&ig_cache_key=Mjk3NTM3NTAxNjg1NjE3Njk2Ng%3D%3D.2-ccb7-5&oh=00_AfA196KbMTNBZjallMx76vBbGAtzkVwAf2BcwHOb4VXoFg&oe=63801544&_nc_sid=30a2ef\n",
      "Photo by 최희 Hee Choi on November 19, 2022. May be an image of 1 person and standing.\n",
      "https://scontent-gmp1-1.cdninstagram.com/v/t51.2885-15/316174160_529934518981272_7942081251387433791_n.jpg?stp=dst-jpg_e35&_nc_ht=scontent-gmp1-1.cdninstagram.com&_nc_cat=100&_nc_ohc=VPgzOXkgSpEAX-UWNWs&tn=BdiKrCMbl_HsizPL&edm=ALQROFkBAAAA&ccb=7-5&ig_cache_key=Mjk3NTM3NTAxNjg1NjM3NjI3Ng%3D%3D.2-ccb7-5&oh=00_AfB5o_gfNU6UklT6BN6SwATasm_iHSeo3Y1QOG3TVDG8Kw&oe=637FD96F&_nc_sid=30a2ef\n",
      "Photo shared by 최희 Hee Choi on November 19, 2022 tagging @bemymood_official. May be an image of 1 person and standing.\n",
      "https://scontent-gmp1-1.cdninstagram.com/v/t51.2885-15/315988608_471042531837885_2127918014203714729_n.jpg?stp=dst-jpg_e35&_nc_ht=scontent-gmp1-1.cdninstagram.com&_nc_cat=109&_nc_ohc=hAudgiO87FcAX95p6us&edm=ALQROFkBAAAA&ccb=7-5&ig_cache_key=Mjk3NTM3NTAxNjg1NjE3Njk2Ng%3D%3D.2-ccb7-5&oh=00_AfA196KbMTNBZjallMx76vBbGAtzkVwAf2BcwHOb4VXoFg&oe=63801544&_nc_sid=30a2ef\n",
      "Photo by 최희 Hee Choi on November 19, 2022. May be an image of 1 person, tree, indoor and text that says 'yuldau h Christmas'.\n",
      "https://scontent-gmp1-1.cdninstagram.com/v/t51.2885-15/316120823_749026100154005_330542091159660122_n.jpg?stp=dst-jpg_e35&_nc_ht=scontent-gmp1-1.cdninstagram.com&_nc_cat=105&_nc_ohc=VLyzl3Eix60AX8jMsUD&edm=ALQROFkBAAAA&ccb=7-5&ig_cache_key=Mjk3NTMwNTA1NjMwMTg0NTA2NA%3D%3D.2-ccb7-5&oh=00_AfAyfQD5LlV7I21oFinH393ZOirlH4DdzjLGd0PxDeX1AQ&oe=637FF3EA&_nc_sid=30a2ef\n",
      "Photo by 최희 Hee Choi on November 19, 2022. May be an image of 1 person, child, sitting and outdoors.\n",
      "https://scontent-gmp1-1.cdninstagram.com/v/t51.2885-15/316202002_195923749592339_3496643250616790188_n.jpg?stp=dst-jpg_e35&_nc_ht=scontent-gmp1-1.cdninstagram.com&_nc_cat=111&_nc_ohc=qSvbiHqb9FoAX8Fq5JR&edm=ALQROFkBAAAA&ccb=7-5&ig_cache_key=Mjk3NTMwNTA1NjE3NTgxNjEzMA%3D%3D.2-ccb7-5&oh=00_AfBylweLkjcGPa0U3g5GpBbbSorFLej-0WsOGin0LLDqPQ&oe=637F7B0A&_nc_sid=30a2ef\n",
      "Photo by 최희 Hee Choi on November 19, 2022. May be an image of 1 person, tree, indoor and text that says 'yuldau h Christmas'.\n",
      "https://scontent-gmp1-1.cdninstagram.com/v/t51.2885-15/316120823_749026100154005_330542091159660122_n.jpg?stp=dst-jpg_e35&_nc_ht=scontent-gmp1-1.cdninstagram.com&_nc_cat=105&_nc_ohc=VLyzl3Eix60AX8jMsUD&edm=ALQROFkBAAAA&ccb=7-5&ig_cache_key=Mjk3NTMwNTA1NjMwMTg0NTA2NA%3D%3D.2-ccb7-5&oh=00_AfAyfQD5LlV7I21oFinH393ZOirlH4DdzjLGd0PxDeX1AQ&oe=637FF3EA&_nc_sid=30a2ef\n",
      "Photo by 최희 Hee Choi on November 19, 2022. May be an image of 1 person, child, sitting and outdoors.\n",
      "https://scontent-gmp1-1.cdninstagram.com/v/t51.2885-15/316202002_195923749592339_3496643250616790188_n.jpg?stp=dst-jpg_e35&_nc_ht=scontent-gmp1-1.cdninstagram.com&_nc_cat=111&_nc_ohc=qSvbiHqb9FoAX8Fq5JR&edm=ALQROFkBAAAA&ccb=7-5&ig_cache_key=Mjk3NTMwNTA1NjE3NTgxNjEzMA%3D%3D.2-ccb7-5&oh=00_AfBylweLkjcGPa0U3g5GpBbbSorFLej-0WsOGin0LLDqPQ&oe=637F7B0A&_nc_sid=30a2ef\n",
      "Photo by 최희 Hee Choi on November 19, 2022. May be an image of indoor and text that says 'GUSTEAU'S PARIS, FRANCE'.\n",
      "https://scontent-gmp1-1.cdninstagram.com/v/t51.2885-15/315961729_1305438480272256_5532521318064951129_n.jpg?stp=dst-jpg_e35&_nc_ht=scontent-gmp1-1.cdninstagram.com&_nc_cat=100&_nc_ohc=FlsbxDToMMQAX9V7keG&edm=ALQROFkBAAAA&ccb=7-5&ig_cache_key=Mjk3NTMwNTA1NjE3NTgyMjExNA%3D%3D.2-ccb7-5&oh=00_AfCrVtpjy_V7MaDSPGSm4jXimPFtDqBxy-Pn9DCzvi2Wsw&oe=637F72F3&_nc_sid=30a2ef\n",
      "Photo by 최희 Hee Choi on November 19, 2022. May be an image of 1 person, child, sitting and outdoors.\n",
      "https://scontent-gmp1-1.cdninstagram.com/v/t51.2885-15/316202002_195923749592339_3496643250616790188_n.jpg?stp=dst-jpg_e35&_nc_ht=scontent-gmp1-1.cdninstagram.com&_nc_cat=111&_nc_ohc=qSvbiHqb9FoAX8Fq5JR&edm=ALQROFkBAAAA&ccb=7-5&ig_cache_key=Mjk3NTMwNTA1NjE3NTgxNjEzMA%3D%3D.2-ccb7-5&oh=00_AfBylweLkjcGPa0U3g5GpBbbSorFLej-0WsOGin0LLDqPQ&oe=637F7B0A&_nc_sid=30a2ef\n",
      "Photo by 최희 Hee Choi on November 19, 2022. May be an image of indoor and text that says 'GUSTEAU'S PARIS, FRANCE'.\n",
      "https://scontent-gmp1-1.cdninstagram.com/v/t51.2885-15/315961729_1305438480272256_5532521318064951129_n.jpg?stp=dst-jpg_e35&_nc_ht=scontent-gmp1-1.cdninstagram.com&_nc_cat=100&_nc_ohc=FlsbxDToMMQAX9V7keG&edm=ALQROFkBAAAA&ccb=7-5&ig_cache_key=Mjk3NTMwNTA1NjE3NTgyMjExNA%3D%3D.2-ccb7-5&oh=00_AfCrVtpjy_V7MaDSPGSm4jXimPFtDqBxy-Pn9DCzvi2Wsw&oe=637F72F3&_nc_sid=30a2ef\n",
      "Photo by 최희 Hee Choi on November 19, 2022. May be an image of dessert, indoor and text that says 'EGGER'.\n",
      "https://scontent-gmp1-1.cdninstagram.com/v/t51.2885-15/315986510_898108007804293_6538706572405417564_n.jpg?stp=dst-jpg_e35&_nc_ht=scontent-gmp1-1.cdninstagram.com&_nc_cat=101&_nc_ohc=Df9Rq6IkLJ8AX_-UqsT&edm=ALQROFkBAAAA&ccb=7-5&ig_cache_key=Mjk3NTMwNTA1NjI4NDk4Nzk2OQ%3D%3D.2-ccb7-5&oh=00_AfDx7f8hAx_tPptFPk4Bj2VYMT37Rad9zJkvGY8-x96W5A&oe=6380B07C&_nc_sid=30a2ef\n",
      "Photo by 최희 Hee Choi on November 19, 2022. May be an image of indoor and text that says 'GUSTEAU'S PARIS, FRANCE'.\n",
      "https://scontent-gmp1-1.cdninstagram.com/v/t51.2885-15/315961729_1305438480272256_5532521318064951129_n.jpg?stp=dst-jpg_e35&_nc_ht=scontent-gmp1-1.cdninstagram.com&_nc_cat=100&_nc_ohc=FlsbxDToMMQAX9V7keG&edm=ALQROFkBAAAA&ccb=7-5&ig_cache_key=Mjk3NTMwNTA1NjE3NTgyMjExNA%3D%3D.2-ccb7-5&oh=00_AfCrVtpjy_V7MaDSPGSm4jXimPFtDqBxy-Pn9DCzvi2Wsw&oe=637F72F3&_nc_sid=30a2ef\n",
      "Photo by 최희 Hee Choi on November 19, 2022. May be an image of dessert, indoor and text that says 'EGGER'.\n",
      "https://scontent-gmp1-1.cdninstagram.com/v/t51.2885-15/315986510_898108007804293_6538706572405417564_n.jpg?stp=dst-jpg_e35&_nc_ht=scontent-gmp1-1.cdninstagram.com&_nc_cat=101&_nc_ohc=Df9Rq6IkLJ8AX_-UqsT&edm=ALQROFkBAAAA&ccb=7-5&ig_cache_key=Mjk3NTMwNTA1NjI4NDk4Nzk2OQ%3D%3D.2-ccb7-5&oh=00_AfDx7f8hAx_tPptFPk4Bj2VYMT37Rad9zJkvGY8-x96W5A&oe=6380B07C&_nc_sid=30a2ef\n",
      "Photo by 최희 Hee Choi on November 19, 2022. May be an image of cosmetics.\n",
      "https://scontent-gmp1-1.cdninstagram.com/v/t51.2885-15/316123097_1001707801222973_491635218098654169_n.jpg?stp=dst-jpg_e35&_nc_ht=scontent-gmp1-1.cdninstagram.com&_nc_cat=105&_nc_ohc=IAm5DoDj3FoAX9vObss&edm=ALQROFkBAAAA&ccb=7-5&ig_cache_key=Mjk3NTMwNTA1NjI5MzM0NTI3Mw%3D%3D.2-ccb7-5&oh=00_AfCcZINcNikVWwGj38f9xYw4snLpcGk4lX5XPAWuTJSzGg&oe=63807D3E&_nc_sid=30a2ef\n",
      "Photo by 최희 Hee Choi on November 19, 2022. May be an image of dessert, indoor and text that says 'EGGER'.\n",
      "https://scontent-gmp1-1.cdninstagram.com/v/t51.2885-15/315986510_898108007804293_6538706572405417564_n.jpg?stp=dst-jpg_e35&_nc_ht=scontent-gmp1-1.cdninstagram.com&_nc_cat=101&_nc_ohc=Df9Rq6IkLJ8AX_-UqsT&edm=ALQROFkBAAAA&ccb=7-5&ig_cache_key=Mjk3NTMwNTA1NjI4NDk4Nzk2OQ%3D%3D.2-ccb7-5&oh=00_AfDx7f8hAx_tPptFPk4Bj2VYMT37Rad9zJkvGY8-x96W5A&oe=6380B07C&_nc_sid=30a2ef\n",
      "Photo by 최희 Hee Choi on November 19, 2022. May be an image of cosmetics.\n",
      "https://scontent-gmp1-1.cdninstagram.com/v/t51.2885-15/316123097_1001707801222973_491635218098654169_n.jpg?stp=dst-jpg_e35&_nc_ht=scontent-gmp1-1.cdninstagram.com&_nc_cat=105&_nc_ohc=IAm5DoDj3FoAX9vObss&edm=ALQROFkBAAAA&ccb=7-5&ig_cache_key=Mjk3NTMwNTA1NjI5MzM0NTI3Mw%3D%3D.2-ccb7-5&oh=00_AfCcZINcNikVWwGj38f9xYw4snLpcGk4lX5XPAWuTJSzGg&oe=63807D3E&_nc_sid=30a2ef\n",
      "Photo by 최희 Hee Choi on November 18, 2022. May be an image of 1 person, baby and indoor.\n",
      "https://scontent-gmp1-1.cdninstagram.com/v/t51.2885-15/315990938_756231979205053_4264220538454873487_n.jpg?stp=dst-jpg_e35&_nc_ht=scontent-gmp1-1.cdninstagram.com&_nc_cat=101&_nc_ohc=PKxsOZiSVdQAX_slQeu&tn=BdiKrCMbl_HsizPL&edm=ALQROFkBAAAA&ccb=7-5&ig_cache_key=Mjk3NDc2NjI2NzM1MTIzNDg2Ng%3D%3D.2-ccb7-5&oh=00_AfDouSvBqI3DdW0juyP5YRKHp0aFnKV6UKwbivqQDbkdjQ&oe=637F8560&_nc_sid=30a2ef\n",
      "Photo by 최희 Hee Choi on November 18, 2022. May be an image of 1 person, baby, sitting and indoor.\n",
      "https://scontent-gmp1-1.cdninstagram.com/v/t51.2885-15/316122214_657265669197953_5648325903525830118_n.jpg?stp=dst-jpg_e35&_nc_ht=scontent-gmp1-1.cdninstagram.com&_nc_cat=105&_nc_ohc=dopIdGfMss0AX_IzbS1&tn=BdiKrCMbl_HsizPL&edm=ALQROFkBAAAA&ccb=7-5&ig_cache_key=Mjk3NDc2NjI2NzIyNTU2NjMwMQ%3D%3D.2-ccb7-5&oh=00_AfDE1Erv8D0pkQQeyMUG82XZoRQIS9SqH-opPJbZBDoxKw&oe=637FE8E1&_nc_sid=30a2ef\n",
      "Photo by 최희 Hee Choi on November 18, 2022. May be an image of 1 person, baby and indoor.\n",
      "https://scontent-gmp1-1.cdninstagram.com/v/t51.2885-15/315990938_756231979205053_4264220538454873487_n.jpg?stp=dst-jpg_e35&_nc_ht=scontent-gmp1-1.cdninstagram.com&_nc_cat=101&_nc_ohc=PKxsOZiSVdQAX_slQeu&tn=BdiKrCMbl_HsizPL&edm=ALQROFkBAAAA&ccb=7-5&ig_cache_key=Mjk3NDc2NjI2NzM1MTIzNDg2Ng%3D%3D.2-ccb7-5&oh=00_AfDouSvBqI3DdW0juyP5YRKHp0aFnKV6UKwbivqQDbkdjQ&oe=637F8560&_nc_sid=30a2ef\n",
      "Photo by 최희 Hee Choi on November 18, 2022. May be an image of 1 person, baby, sitting and indoor.\n",
      "https://scontent-gmp1-1.cdninstagram.com/v/t51.2885-15/316122214_657265669197953_5648325903525830118_n.jpg?stp=dst-jpg_e35&_nc_ht=scontent-gmp1-1.cdninstagram.com&_nc_cat=105&_nc_ohc=dopIdGfMss0AX_IzbS1&tn=BdiKrCMbl_HsizPL&edm=ALQROFkBAAAA&ccb=7-5&ig_cache_key=Mjk3NDc2NjI2NzIyNTU2NjMwMQ%3D%3D.2-ccb7-5&oh=00_AfDE1Erv8D0pkQQeyMUG82XZoRQIS9SqH-opPJbZBDoxKw&oe=637FE8E1&_nc_sid=30a2ef\n",
      "Photo by 최희 Hee Choi on November 18, 2022. May be an image of 2 people, child, people sitting and indoor.\n",
      "https://scontent-gmp1-1.cdninstagram.com/v/t51.2885-15/315869780_1672075269855063_6698574648995364165_n.jpg?stp=dst-jpg_e35&_nc_ht=scontent-gmp1-1.cdninstagram.com&_nc_cat=103&_nc_ohc=w2l9or_4kF0AX-OkLJb&edm=ALQROFkBAAAA&ccb=7-5&ig_cache_key=Mjk3NDc2NjI2NzM0MjgyMDM0OA%3D%3D.2-ccb7-5&oh=00_AfDeG2uwO0lAssRUZ48dZojNVwKYZJ42KmDxI4XDqtg9Aw&oe=63808F11&_nc_sid=30a2ef\n",
      "Photo by 최희 Hee Choi on November 18, 2022. May be an image of 1 person, baby, sitting and indoor.\n",
      "https://scontent-gmp1-1.cdninstagram.com/v/t51.2885-15/316122214_657265669197953_5648325903525830118_n.jpg?stp=dst-jpg_e35&_nc_ht=scontent-gmp1-1.cdninstagram.com&_nc_cat=105&_nc_ohc=dopIdGfMss0AX_IzbS1&tn=BdiKrCMbl_HsizPL&edm=ALQROFkBAAAA&ccb=7-5&ig_cache_key=Mjk3NDc2NjI2NzIyNTU2NjMwMQ%3D%3D.2-ccb7-5&oh=00_AfDE1Erv8D0pkQQeyMUG82XZoRQIS9SqH-opPJbZBDoxKw&oe=637FE8E1&_nc_sid=30a2ef\n",
      "Photo by 최희 Hee Choi on November 18, 2022. May be an image of 2 people, child, people sitting and indoor.\n",
      "https://scontent-gmp1-1.cdninstagram.com/v/t51.2885-15/315869780_1672075269855063_6698574648995364165_n.jpg?stp=dst-jpg_e35&_nc_ht=scontent-gmp1-1.cdninstagram.com&_nc_cat=103&_nc_ohc=w2l9or_4kF0AX-OkLJb&edm=ALQROFkBAAAA&ccb=7-5&ig_cache_key=Mjk3NDc2NjI2NzM0MjgyMDM0OA%3D%3D.2-ccb7-5&oh=00_AfDeG2uwO0lAssRUZ48dZojNVwKYZJ42KmDxI4XDqtg9Aw&oe=63808F11&_nc_sid=30a2ef\n",
      "Photo by 최희 Hee Choi on November 18, 2022. May be an image of 2 people, child, people sitting and indoor.\n",
      "https://scontent-gmp1-1.cdninstagram.com/v/t51.2885-15/315980478_138163199006801_5776924409373727507_n.jpg?stp=dst-jpg_e35&_nc_ht=scontent-gmp1-1.cdninstagram.com&_nc_cat=105&_nc_ohc=ltetNjwpoRcAX8S5W6T&edm=ALQROFkBAAAA&ccb=7-5&ig_cache_key=Mjk3NDc2NjI2NzM1MTI5MDI0NA%3D%3D.2-ccb7-5&oh=00_AfBxBzkyQGudnwy-Jmi_MLwl8SBaKKtQj0H84-5uNBeRTw&oe=637F619B&_nc_sid=30a2ef\n",
      "Photo by 최희 Hee Choi on November 18, 2022. May be an image of 2 people, child, people sitting and indoor.\n",
      "https://scontent-gmp1-1.cdninstagram.com/v/t51.2885-15/315869780_1672075269855063_6698574648995364165_n.jpg?stp=dst-jpg_e35&_nc_ht=scontent-gmp1-1.cdninstagram.com&_nc_cat=103&_nc_ohc=w2l9or_4kF0AX-OkLJb&edm=ALQROFkBAAAA&ccb=7-5&ig_cache_key=Mjk3NDc2NjI2NzM0MjgyMDM0OA%3D%3D.2-ccb7-5&oh=00_AfDeG2uwO0lAssRUZ48dZojNVwKYZJ42KmDxI4XDqtg9Aw&oe=63808F11&_nc_sid=30a2ef\n",
      "Photo by 최희 Hee Choi on November 18, 2022. May be an image of 2 people, child, people sitting and indoor.\n",
      "https://scontent-gmp1-1.cdninstagram.com/v/t51.2885-15/315980478_138163199006801_5776924409373727507_n.jpg?stp=dst-jpg_e35&_nc_ht=scontent-gmp1-1.cdninstagram.com&_nc_cat=105&_nc_ohc=ltetNjwpoRcAX8S5W6T&edm=ALQROFkBAAAA&ccb=7-5&ig_cache_key=Mjk3NDc2NjI2NzM1MTI5MDI0NA%3D%3D.2-ccb7-5&oh=00_AfBxBzkyQGudnwy-Jmi_MLwl8SBaKKtQj0H84-5uNBeRTw&oe=637F619B&_nc_sid=30a2ef\n",
      "Photo shared by 최희 Hee Choi on November 18, 2022 tagging @bluedogbaby_official. May be an image of 1 person, child, standing and indoor.\n",
      "https://scontent-gmp1-1.cdninstagram.com/v/t51.2885-15/316136010_1213261619624887_51797078742010518_n.jpg?stp=dst-jpg_e35&_nc_ht=scontent-gmp1-1.cdninstagram.com&_nc_cat=107&_nc_ohc=BcWL-c7YeRwAX-3fIh2&edm=ALQROFkBAAAA&ccb=7-5&ig_cache_key=Mjk3NDc2NjI2NzM1MTM5MTkxOQ%3D%3D.2-ccb7-5&oh=00_AfC5Aw4lblbf4R4uUdhe4gmBT08IZKHhR8upNMXbTCtLTA&oe=637F0C6E&_nc_sid=30a2ef\n",
      "Photo by 최희 Hee Choi on November 18, 2022. May be an image of 2 people, child, people sitting and indoor.\n",
      "https://scontent-gmp1-1.cdninstagram.com/v/t51.2885-15/315980478_138163199006801_5776924409373727507_n.jpg?stp=dst-jpg_e35&_nc_ht=scontent-gmp1-1.cdninstagram.com&_nc_cat=105&_nc_ohc=ltetNjwpoRcAX8S5W6T&edm=ALQROFkBAAAA&ccb=7-5&ig_cache_key=Mjk3NDc2NjI2NzM1MTI5MDI0NA%3D%3D.2-ccb7-5&oh=00_AfBxBzkyQGudnwy-Jmi_MLwl8SBaKKtQj0H84-5uNBeRTw&oe=637F619B&_nc_sid=30a2ef\n",
      "Photo shared by 최희 Hee Choi on November 18, 2022 tagging @bluedogbaby_official. May be an image of 1 person, child, standing and indoor.\n",
      "https://scontent-gmp1-1.cdninstagram.com/v/t51.2885-15/316136010_1213261619624887_51797078742010518_n.jpg?stp=dst-jpg_e35&_nc_ht=scontent-gmp1-1.cdninstagram.com&_nc_cat=107&_nc_ohc=BcWL-c7YeRwAX-3fIh2&edm=ALQROFkBAAAA&ccb=7-5&ig_cache_key=Mjk3NDc2NjI2NzM1MTM5MTkxOQ%3D%3D.2-ccb7-5&oh=00_AfC5Aw4lblbf4R4uUdhe4gmBT08IZKHhR8upNMXbTCtLTA&oe=637F0C6E&_nc_sid=30a2ef\n",
      "3 days, 0:00:00\r"
     ]
    }
   ],
   "source": [
    "# for plusUrl in influencers[len(os.listdir(r'C:\\Users\\anapl\\CDAL\\fashion\\instagram-crawler\\img')):]:\n",
    "while True:    \n",
    "    influencers = pd.read_csv('new_influencer.csv', index_col=0)\n",
    "    exists_df = influencers.index.isin(os.listdir('./img'))\n",
    "    influencers = influencers[~exists_df]    \n",
    "    plusUrl = influencers.index[0] # 'happpy_yein'\n",
    "    url = baseUrl + quote_plus(plusUrl)\n",
    "    try:\n",
    "        driver.get(url)\n",
    "    except CannotSendRequest:\n",
    "        continue\n",
    "    time.sleep(3)\n",
    "    \n",
    "    rest = requests.get(url)\n",
    "    soup = BeautifulSoup(rest.content, 'html.parser')\n",
    "    \n",
    "    \"\"\"if soup.find('meta', {'name': 'description'}) == None:\n",
    "        print(\"\\nSOUP NO FOUND\")\n",
    "        influencers = influencers.drop(influencers.index[0])\n",
    "        influencers.to_csv('new_influencer.csv')\n",
    "        continue\"\"\"\n",
    "        \n",
    "    # 이름 확인\n",
    "    try:\n",
    "        RAW_NAME = driver.find_element_by_xpath('/html/body/div[1]/div/div/div/div[1]/div/div/div/div[1]/div[2]/div[2]/section/main/div/header/section/div[3]/span').text\n",
    "        NAME = driver.find_element_by_xpath('/html/body/div[1]/div/div/div/div[1]/div/div/div/div[1]/div[2]/div[2]/section/main/div/header/section/div[3]/span').text\n",
    "        NAME = unicodedata.normalize('NFC', NAME)\n",
    "    except NoSuchElementException:\n",
    "        print(f\"\\nNO NAME {len(influencers)}\")\n",
    "        influencers = influencers.drop(influencers.index[0])\n",
    "        influencers.to_csv('new_influencer.csv')\n",
    "        continue\n",
    "    \n",
    "    if isKorean(NAME):\n",
    "        pass\n",
    "    else:\n",
    "        print(f\"\\nNO KOREAN {len(influencers)}\")\n",
    "        influencers = influencers.drop(influencers.index[0])\n",
    "        influencers.to_csv('new_influencer.csv')\n",
    "        continue\n",
    "\n",
    "\n",
    "    time.sleep(1)\n",
    "    try:\n",
    "        influencer_following = crawl_influencers()\n",
    "        insta_link = ['https://www.instagram.com/'+x+'/' for x in influencer_following]\n",
    "        df = pd.DataFrame([influencer_following, insta_link], index=['influencer', 'instagram']).T\n",
    "        df_inf = pd.read_csv('new_influencer.csv')\n",
    "        new_df = pd.concat([df_inf, df]).reset_index(drop=True)\n",
    "        new_df.to_csv(\"new_influencer.csv\", index=False)\n",
    "    except NoSuchElementException:\n",
    "        print(f\"\\nNO FOLLOWING {len(influencers)}\")\n",
    "\n",
    "    \n",
    "    body = driver.find_element_by_css_selector('body')\n",
    "    download_directory = os.path.join('./img', plusUrl)\n",
    "\n",
    "    html = driver.page_source\n",
    "    soup = BeautifulSoup(html)\n",
    "        \n",
    "    if not os.path.isdir('./img'):\n",
    "        os.mkdir('./img')\n",
    "\n",
    "    if os.path.isdir(os.path.join('./img', plusUrl)):\n",
    "        print(f\"{plusUrl} Directory Exists\")\n",
    "        if len(os.listdir(os.path.join('./img', plusUrl))) != 0:\n",
    "            continue\n",
    "    else:\n",
    "        os.mkdir(os.path.join('./img', plusUrl))\n",
    "        print(f\"{plusUrl} Make Directory\")\n",
    "\n",
    "    # 첫번째 이미지 클릭\n",
    "    btn_images = driver.find_elements_by_class_name('_aabd._aa8k._aanf')\n",
    "\n",
    "    btn = btn_images[0]\n",
    "    btn.click()\n",
    "    time.sleep(2)\n",
    "\n",
    "    downloaded_image_list = []\n",
    "    global_stack = 0\n",
    "    while True:\n",
    "        image_dict = {}\n",
    "        exists = os.listdir(download_directory)\n",
    "        while True:\n",
    "            if upload_date_check() != False:\n",
    "                yyyy, mm, dd = upload_date_check()\n",
    "                upload_date = (yyyy, mm, dd)\n",
    "                time_delta = datetime.datetime.now().date() - datetime.date(yyyy, mm, dd)\n",
    "            else:\n",
    "                try:\n",
    "                    btn_next =  driver.find_element_by_class_name('_9zm2')\n",
    "                    btn_next.click()\n",
    "                except NoSuchElementException:\n",
    "                    try:\n",
    "                        next_post = driver.find_element_by_class_name('_aaqg._aaqh')\n",
    "                        next_post.click()\n",
    "                    except NoSuchElementException:\n",
    "                        pass\n",
    "                    finally:\n",
    "                        break\n",
    "\n",
    "            for x in driver.find_elements_by_xpath('//div/img')[-3:]:\n",
    "                if x.get_property('alt').startswith('Photo'): \n",
    "                    print(x.get_property('alt'))\n",
    "                    print(x.get_attribute('src'))\n",
    "                    UPLOAD_DATE_IN_STR = x.get_property('alt').split('May be an image')[0].strip().split(RAW_NAME)[-1].strip()#startswith(f'Photo by {RAW_NAME} on')\n",
    "                    p = re.search('\\w+ (\\w+) (\\d+), (\\d+)', UPLOAD_DATE_IN_STR)\n",
    "                    if p is None:\n",
    "                        continue\n",
    "                    mm, dd, yyyy = MONTH_STR_TO_INT[p.groups()[0]], p.groups()[1], p.groups()[2]\n",
    "                    mm, dd, yyyy = int(mm), int(dd), int(yyyy)\n",
    "                    if str(datetime.date(yyyy, mm, dd)) not in image_dict.keys(): \n",
    "                        image_dict[x.get_attribute('src')] = str(datetime.date(yyyy, mm, dd))\n",
    "            try:\n",
    "                btn_next =  driver.find_element_by_class_name('_9zm2')\n",
    "                btn_next.click()\n",
    "            except NoSuchElementException:\n",
    "                try:\n",
    "                    next_post = driver.find_element_by_class_name('_aaqg._aaqh')\n",
    "                    next_post.click()\n",
    "                except NoSuchElementException:\n",
    "                    pass\n",
    "                finally:\n",
    "                    break\n",
    "            except StaleElementReferenceException:\n",
    "                try:\n",
    "                    next_post = driver.find_element_by_class_name('_aaqg._aaqh')\n",
    "                    next_post.click()\n",
    "                except NoSuchElementException:\n",
    "                    pass\n",
    "                finally:\n",
    "                    break\n",
    "            finally:\n",
    "                time.sleep(1)\n",
    "\n",
    "        # image_list = list(set(image_dict.keys))\n",
    "\n",
    "        for source in list(image_dict.keys()):\n",
    "            upload_date = image_dict[source]\n",
    "            src = requests.get(source).content\n",
    "            time_delta = datetime.datetime.now().date() - datetime.date(yyyy, mm, dd)\n",
    "            if source not in downloaded_image_list and time_delta < datetime.timedelta(days=90):\n",
    "                image_save(src, download_directory, (yyyy, mm, dd))\n",
    "                time.sleep(0.5)\n",
    "            downloaded_image_list.append(source)\n",
    "            # downloaded_image_list = downloaded_image_list + image_list\n",
    "            time_delta = datetime.datetime.now().date() - datetime.date(yyyy, mm, dd)\n",
    "        try:\n",
    "            time_delta\n",
    "        except NameError:\n",
    "            continue\n",
    "        if time_delta > datetime.timedelta(days=90):\n",
    "            break\n",
    "    print()\n",
    "    btn_close = driver.find_element_by_class_name('x78zum5.x6s0dn4.xl56j7k.xdt5ytf')\n",
    "    btn_close.click()"
   ]
  },
  {
   "cell_type": "code",
   "execution_count": null,
   "id": "d91041fd-3c4e-449f-a779-063e8785aa2a",
   "metadata": {},
   "outputs": [],
   "source": [
    "rest = requests.get(url)\n",
    "soup = BeautifulSoup(rest.content, 'html.parser')"
   ]
  },
  {
   "cell_type": "code",
   "execution_count": null,
   "id": "399e0742-0c99-495c-aa51-4cab05f6e7c0",
   "metadata": {},
   "outputs": [],
   "source": [
    "for x in driver.find_elements_by_xpath('//div/img')[-3:]:\n",
    "    if x.get_property('alt').startswith('Photo'): \n",
    "        print(x.get_property('alt'))\n",
    "        print(x.get_attribute('src'))\n",
    "        UPLOAD_DATE_IN_STR = x.get_property('alt').split('May be')[0].strip().split(RAW_NAME)[-1].strip()#startswith(f'Photo by {RAW_NAME} on')\n",
    "        p = re.search('\\w+ (\\w+) (\\d+), (\\d+)', UPLOAD_DATE_IN_STR)\n",
    "        if p is None:\n",
    "            continue\n",
    "        mm, dd, yyyy = MONTH_STR_TO_INT[p.groups()[0]], p.groups()[1], p.groups()[2]\n",
    "        mm, dd, yyyy = int(mm), int(dd), int(yyyy)\n",
    "        print(str(datetime.date(yyyy, mm, dd)))\n",
    "        if str(datetime.date(yyyy, mm, dd)) not in image_dict.keys(): \n",
    "            image_dict[x.get_attribute('src')] = str(datetime.date(yyyy, mm, dd))"
   ]
  },
  {
   "cell_type": "code",
   "execution_count": null,
   "id": "985c2828-03a4-48bc-bf59-e76d38f41589",
   "metadata": {},
   "outputs": [],
   "source": [
    "UPLOAD_DATE_IN_STR"
   ]
  },
  {
   "cell_type": "code",
   "execution_count": null,
   "id": "6e5ce81d-d23f-48bc-8b70-976015847887",
   "metadata": {},
   "outputs": [],
   "source": [
    "list(image_dict.keys())"
   ]
  },
  {
   "cell_type": "code",
   "execution_count": null,
   "id": "486180e6-9dce-47c5-85ad-80f9ca222a54",
   "metadata": {},
   "outputs": [],
   "source": [
    "upload_date"
   ]
  },
  {
   "cell_type": "code",
   "execution_count": null,
   "id": "a4480064-a1c8-43fd-bbf9-1e7f3b1b364d",
   "metadata": {},
   "outputs": [],
   "source": [
    "p = re.search('(\\d+)-(\\d+)-(\\d+)', upload_date)\n",
    "if p:\n",
    "    yyyy, mm, dd = [int(x) for x in p.groups()]"
   ]
  },
  {
   "cell_type": "code",
   "execution_count": null,
   "id": "fffa48fd-1a94-49fd-8747-b8c05447b3f4",
   "metadata": {},
   "outputs": [],
   "source": []
  },
  {
   "cell_type": "code",
   "execution_count": null,
   "id": "eed0314c-f906-4fc8-8b7c-7dd928418027",
   "metadata": {},
   "outputs": [],
   "source": [
    "datetime.datetime.strptime(upload_date, '%Y-%m-%d').date()"
   ]
  },
  {
   "cell_type": "code",
   "execution_count": 161,
   "id": "ca3ca829-9c62-489d-9a7d-1f91ea416986",
   "metadata": {},
   "outputs": [
    {
     "name": "stdout",
     "output_type": "stream",
     "text": [
      "['https://scontent-gmp1-1.cdninstagram.com/v/t51.2885-15/306382483_799968194369269_4880640767374534227_n.jpg?stp=dst-jpg_e35&_nc_ht=scontent-gmp1-1.cdninstagram.com&_nc_cat=101&_nc_ohc=qFgg3eYe4dMAX-rYw-7&edm=ABmJApABAAAA&ccb=7-5&ig_cache_key=MjkyNDEyNzUyNjk3OTA3MDY3OQ%3D%3D.2-ccb7-5&oh=00_AfByUDKSXkSFkSh05OLGbYON2HAtDBQFIuaX981_NERiSA&oe=637ADFDD&_nc_sid=6136e7', 'https://scontent-gmp1-1.cdninstagram.com/v/t51.2885-15/314915133_637555451435380_8898475586681211251_n.jpg?stp=dst-jpg_e35&_nc_ht=scontent-gmp1-1.cdninstagram.com&_nc_cat=104&_nc_ohc=vp13XJbHyacAX8y_412&edm=ALQROFkBAAAA&ccb=7-5&ig_cache_key=Mjk2OTU5OTIzNjA1MzY1MzQ5Nw%3D%3D.2-ccb7-5&oh=00_AfApGfxY5HnsKGuVCZsvI5tcqDhsnboRs4NYdA2BIHFGAA&oe=637A3913&_nc_sid=30a2ef']\n"
     ]
    }
   ],
   "source": [
    "print(list(image_dict.keys()))\n",
    "for src in list(image_dict.keys()):\n",
    "    upload_date = image_dict[src]\n",
    "    src = requests.get(src).content\n",
    "    image_save(src, download_directory, (yyyy, mm, dd))\n",
    "    time.sleep(1)"
   ]
  },
  {
   "cell_type": "code",
   "execution_count": 131,
   "id": "a3729102-4c5c-4e6f-994d-2f794151434a",
   "metadata": {},
   "outputs": [
    {
     "data": {
      "text/plain": [
       "dict_keys([])"
      ]
     },
     "execution_count": 131,
     "metadata": {},
     "output_type": "execute_result"
    }
   ],
   "source": [
    "image_dict.keys()"
   ]
  },
  {
   "cell_type": "code",
   "execution_count": 126,
   "id": "a80eaab4-20e2-4826-97e2-ac15c033dc10",
   "metadata": {},
   "outputs": [
    {
     "data": {
      "text/plain": [
       "'2022-11-01'"
      ]
     },
     "execution_count": 126,
     "metadata": {},
     "output_type": "execute_result"
    }
   ],
   "source": [
    "str(datetime.date(yyyy, mm, dd))"
   ]
  },
  {
   "cell_type": "code",
   "execution_count": 171,
   "id": "31e66ad0-ec2a-4a15-9a1f-da8ef2cfab0a",
   "metadata": {},
   "outputs": [
    {
     "data": {
      "text/plain": [
       "'Photo by 옥주현'"
      ]
     },
     "execution_count": 171,
     "metadata": {},
     "output_type": "execute_result"
    }
   ],
   "source": [
    "f'Photo by {NAME}'"
   ]
  },
  {
   "cell_type": "code",
   "execution_count": 186,
   "id": "a09df74e-7dbe-4b36-86c0-341f279ba419",
   "metadata": {},
   "outputs": [],
   "source": [
    "RAW_NAME = driver.find_element_by_xpath('/html/body/div[1]/div/div/div/div[1]/div/div/div/div[1]/div[2]/div[2]/section/main/div/header/section/div[3]/span').text\n",
    "UPLOAD_DATE_IN_STR = x.get_property('alt').split('May be an image')[0].strip().split(RAW_NAME)[-1].strip()#startswith(f'Photo by {RAW_NAME} on')"
   ]
  },
  {
   "cell_type": "code",
   "execution_count": 187,
   "id": "89ab99ea-01a8-4ee7-8e38-3faf7b0bf270",
   "metadata": {},
   "outputs": [
    {
     "data": {
      "text/plain": [
       "'on October 25, 2022.'"
      ]
     },
     "execution_count": 187,
     "metadata": {},
     "output_type": "execute_result"
    }
   ],
   "source": [
    "UPLOAD_DATE_IN_STR"
   ]
  },
  {
   "cell_type": "code",
   "execution_count": 195,
   "id": "4fb2c50b-bb04-48b5-94a4-afbe3f5828bc",
   "metadata": {},
   "outputs": [],
   "source": [
    "MONTH_STR_TO_INT = {\n",
    "    'January' : 1,\n",
    "    'February' : 2,\n",
    "    'March' : 3,\n",
    "    'April' : 4,\n",
    "    'May' : 5,\n",
    "    'June' : 6,\n",
    "    'July' : 7,\n",
    "    'August' : 8,\n",
    "    'September' : 9,\n",
    "    'October' : 10,\n",
    "    'November' : 11,\n",
    "    'December' : 12\n",
    "    \n",
    "}"
   ]
  },
  {
   "cell_type": "code",
   "execution_count": 200,
   "id": "48414579-c198-4689-aa9b-37bf77562134",
   "metadata": {},
   "outputs": [
    {
     "data": {
      "text/plain": [
       "'October'"
      ]
     },
     "execution_count": 200,
     "metadata": {},
     "output_type": "execute_result"
    }
   ],
   "source": [
    "p.groups()[0]"
   ]
  },
  {
   "cell_type": "code",
   "execution_count": 202,
   "id": "6bb1fafc-975b-46b3-bce5-61bb105cd08f",
   "metadata": {},
   "outputs": [
    {
     "name": "stdout",
     "output_type": "stream",
     "text": [
      "('October', '25', '2022')\n",
      "10 25 2022\n"
     ]
    }
   ],
   "source": [
    "p = re.search('\\w+ (\\w+) (\\d+), (\\d+)', UPLOAD_DATE_IN_STR)\n",
    "print(p.groups())\n",
    "mm, dd, yyyy = MONTH_STR_TO_INT[p.groups()[0]], p.groups()[1], p.groups()[2]\n",
    "print(mm, dd, yyyy)"
   ]
  },
  {
   "cell_type": "code",
   "execution_count": 178,
   "id": "de9a5196-86bb-410e-b66b-e3399a538120",
   "metadata": {},
   "outputs": [
    {
     "name": "stdout",
     "output_type": "stream",
     "text": [
      "Photo by 옥주현 on September 10, 2022. May be an image of 1 person, flower and indoor.\n",
      "https://scontent-gmp1-1.cdninstagram.com/v/t51.2885-15/306382483_799968194369269_4880640767374534227_n.jpg?stp=dst-jpg_e35&_nc_ht=scontent-gmp1-1.cdninstagram.com&_nc_cat=101&_nc_ohc=qFgg3eYe4dMAX-rYw-7&edm=ABmJApABAAAA&ccb=7-5&ig_cache_key=MjkyNDEyNzUyNjk3OTA3MDY3OQ%3D%3D.2-ccb7-5&oh=00_AfByUDKSXkSFkSh05OLGbYON2HAtDBQFIuaX981_NERiSA&oe=637ADFDD&_nc_sid=6136e7\n",
      "Photo by 옥주현 on October 25, 2022. May be an image of flower and text that says '프란츠 요제프 1세의 도시 확장 정책 수도 빈은 프란츠 요제프 1세의 도시 확장 정책으로 문화와 예술의 중심지이자 유럽의 대표적인 관광 명소로 자리 잡았습니다 빈은 외부로부터 수도를 보호하기 위해 지은 성벽으로 둘러싸여 있었습니다. 1857년 황제의 명령으로 빈을 둘러 성벽이 철거되었고 그 자리에 반지 모양의 도로 링슈트라세가 들어섰습니다. 링슈트라세를 따라 이제는 도시 빈을 대표하는 명소로 자리 잡은 시청, 국회의사당, 대학, 국립극장, 오페라극장 그리고 빈미술사박물관과 빈자연사박물관이 건축되었습니다.'.\n",
      "https://scontent-gmp1-1.cdninstagram.com/v/t51.2885-15/312443553_168980799066481_861376557339861004_n.jpg?stp=dst-jpg_e35&_nc_ht=scontent-gmp1-1.cdninstagram.com&_nc_cat=101&_nc_ohc=lEk5zgQmuMsAX9TCW8S&edm=ALQROFkBAAAA&ccb=7-5&ig_cache_key=Mjk1NjkxOTM0MzE2ODI5Nzc1NA%3D%3D.2-ccb7-5&oh=00_AfDsEvzMtR_Yg0yeyJZ6prB_6abNEQFXJqywdGU0V74ceA&oe=637AE295&_nc_sid=30a2ef\n",
      "Photo by 옥주현 on October 25, 2022. May be an image of text that says '더 가까이, 오스트리아에 전한 조선의 마음 합스부르크 왕가의 600년 역사 속에 조선이 등장합니다. 지금으로부터 130년 전인 1892년, 오스트리아와 조선은 수호 통상 조약을 체결했습니다. Ev hi Jo 18 wa 당시 조선은 청나라와 일본의 간섭에서 벗어나기 위해 서구의 여러 나라와 수교를 맺었습니다. 오스트리아는 오랜 경쟁관계에 있던 러시아를 견제하고 자국 상인들이 조선의 개항장에서 법적으로 보호받으며 활동할수 있는 기반이 필요했습니다. At di at Ja to m p 이러한 양국의 이해관계가 맞물리며 오스트리아와 조선은 수교를 맺었습니다. 수교 선물로 고종이 프란츠 요제프 1세에게 보낸 조선의 갑옷과 투구는 1894년 합스부르크의 수집품으로 등록됐고, 130년 만에 다시 한국을 찾았습니다. 19세기 말, 오스트리아와 조선이 주고받았던 마음의 증표입니다.'.\n",
      "https://scontent-gmp1-1.cdninstagram.com/v/t51.2885-15/312771164_122342243961599_8060452857468904268_n.jpg?stp=dst-jpg_e35&_nc_ht=scontent-gmp1-1.cdninstagram.com&_nc_cat=111&_nc_ohc=OVf2FHeiLG4AX-O6oyA&tn=qDrYj8FmNHI_pGSi&edm=ALQROFkBAAAA&ccb=7-5&ig_cache_key=Mjk1NjkxOTM0MzE1OTc3NjM5NA%3D%3D.2-ccb7-5&oh=00_AfCRUdLIWuSXXvquXKVbxFuiXCMclu2Ui2_Y8M4khPJZ9g&oe=637C198C&_nc_sid=30a2ef\n"
     ]
    }
   ],
   "source": [
    "for x in driver.find_elements_by_xpath('//div/img')[-3:]:\n",
    "    print(x.get_property('alt'))\n",
    "    if x.get_property('alt').startswith('Photo'): \n",
    "        print(x.get_attribute('src'))\n",
    "        image_dict = x.get_attribute('src')"
   ]
  },
  {
   "cell_type": "code",
   "execution_count": 113,
   "id": "68cb79a0-b424-4f4d-8a13-e4a3601e8cf6",
   "metadata": {},
   "outputs": [
    {
     "data": {
      "text/plain": [
       "['https://scontent-gmp1-1.cdninstagram.com/v/t51.2885-15/306382483_799968194369269_4880640767374534227_n.jpg?stp=dst-jpg_e35&_nc_ht=scontent-gmp1-1.cdninstagram.com&_nc_cat=101&_nc_ohc=qFgg3eYe4dMAX-rYw-7&edm=ABmJApABAAAA&ccb=7-5&ig_cache_key=MjkyNDEyNzUyNjk3OTA3MDY3OQ%3D%3D.2-ccb7-5&oh=00_AfByUDKSXkSFkSh05OLGbYON2HAtDBQFIuaX981_NERiSA&oe=637ADFDD&_nc_sid=6136e7',\n",
       " 'https://scontent-gmp1-1.cdninstagram.com/v/t51.2885-15/312996840_1287448498465627_5859498371585224184_n.jpg?stp=dst-jpg_e35&_nc_ht=scontent-gmp1-1.cdninstagram.com&_nc_cat=107&_nc_ohc=2odZ_TXxIZoAX9-e8qv&edm=ALQROFkBAAAA&ccb=7-5&ig_cache_key=Mjk2MjAyNjc3NjIyNzY0MTQ3NA%3D%3D.2-ccb7-5&oh=00_AfDx6BU73UTuymYO9h38FakvporNcJ93kw1THv-q_GmcIQ&oe=637AB565&_nc_sid=30a2ef',\n",
       " 'https://scontent-gmp1-1.cdninstagram.com/v/t51.2885-15/313495428_570195221774472_3211005464460916054_n.jpg?stp=dst-jpg_e35&_nc_ht=scontent-gmp1-1.cdninstagram.com&_nc_cat=100&_nc_ohc=iYq2gWb39osAX_JxRhW&edm=ALQROFkBAAAA&ccb=7-5&ig_cache_key=Mjk2MjAyNjc3NjM5NTUwMjgwNw%3D%3D.2-ccb7-5&oh=00_AfD5jsvPDDcCqPkcLHqmZPTydeU_sHX2tkpqrfyDjIbx4A&oe=637B66E8&_nc_sid=30a2ef',\n",
       " 'https://scontent-gmp1-1.cdninstagram.com/v/t51.2885-15/306382483_799968194369269_4880640767374534227_n.jpg?stp=dst-jpg_e35&_nc_ht=scontent-gmp1-1.cdninstagram.com&_nc_cat=101&_nc_ohc=qFgg3eYe4dMAX-rYw-7&edm=ABmJApABAAAA&ccb=7-5&ig_cache_key=MjkyNDEyNzUyNjk3OTA3MDY3OQ%3D%3D.2-ccb7-5&oh=00_AfByUDKSXkSFkSh05OLGbYON2HAtDBQFIuaX981_NERiSA&oe=637ADFDD&_nc_sid=6136e7',\n",
       " 'https://scontent-gmp1-1.cdninstagram.com/v/t51.2885-15/312996840_1287448498465627_5859498371585224184_n.jpg?stp=dst-jpg_e35&_nc_ht=scontent-gmp1-1.cdninstagram.com&_nc_cat=107&_nc_ohc=2odZ_TXxIZoAX9-e8qv&edm=ALQROFkBAAAA&ccb=7-5&ig_cache_key=Mjk2MjAyNjc3NjIyNzY0MTQ3NA%3D%3D.2-ccb7-5&oh=00_AfDx6BU73UTuymYO9h38FakvporNcJ93kw1THv-q_GmcIQ&oe=637AB565&_nc_sid=30a2ef',\n",
       " 'https://scontent-gmp1-1.cdninstagram.com/v/t51.2885-15/313495428_570195221774472_3211005464460916054_n.jpg?stp=dst-jpg_e35&_nc_ht=scontent-gmp1-1.cdninstagram.com&_nc_cat=100&_nc_ohc=iYq2gWb39osAX_JxRhW&edm=ALQROFkBAAAA&ccb=7-5&ig_cache_key=Mjk2MjAyNjc3NjM5NTUwMjgwNw%3D%3D.2-ccb7-5&oh=00_AfD5jsvPDDcCqPkcLHqmZPTydeU_sHX2tkpqrfyDjIbx4A&oe=637B66E8&_nc_sid=30a2ef']"
      ]
     },
     "execution_count": 113,
     "metadata": {},
     "output_type": "execute_result"
    }
   ],
   "source": [
    "image_list"
   ]
  },
  {
   "cell_type": "code",
   "execution_count": 99,
   "id": "f9a13459-2433-4562-8805-5af6af5f2af7",
   "metadata": {},
   "outputs": [
    {
     "name": "stdout",
     "output_type": "stream",
     "text": [
      "https://scontent-gmp1-1.cdninstagram.com/v/t51.2885-15/306382483_799968194369269_4880640767374534227_n.jpg?stp=dst-jpg_e35&_nc_ht=scontent-gmp1-1.cdninstagram.com&_nc_cat=101&_nc_ohc=qFgg3eYe4dMAX-rYw-7&edm=ABmJApABAAAA&ccb=7-5&ig_cache_key=MjkyNDEyNzUyNjk3OTA3MDY3OQ%3D%3D.2-ccb7-5&oh=00_AfByUDKSXkSFkSh05OLGbYON2HAtDBQFIuaX981_NERiSA&oe=637ADFDD&_nc_sid=6136e7\n",
      "https://scontent-gmp1-1.cdninstagram.com/v/t51.2885-15/313689192_5565705930165340_7470918217344741727_n.jpg?stp=dst-jpg_e35&_nc_ht=scontent-gmp1-1.cdninstagram.com&_nc_cat=104&_nc_ohc=JDH60kAM2HwAX_AkYSa&edm=ALQROFkBAAAA&ccb=7-5&ig_cache_key=Mjk2MzIyNTEyMTY1NDY3NzE3OQ%3D%3D.2-ccb7-5&oh=00_AfBEjHtafk38XqN7OIPTHqz93CGqKfFK6LpXT7M3zsADcQ&oe=637A5503&_nc_sid=30a2ef\n",
      "https://scontent-gmp1-1.cdninstagram.com/v/t51.2885-15/313944671_101378119442903_7828911811475646877_n.jpg?stp=dst-jpg_e35&_nc_ht=scontent-gmp1-1.cdninstagram.com&_nc_cat=111&_nc_ohc=3sx439CKvScAX-p6JwX&edm=ALQROFkBAAAA&ccb=7-5&ig_cache_key=Mjk2MzIyNTEyMTY1NDY1MjM4Mg%3D%3D.2-ccb7-5&oh=00_AfDEdRSlFhXX4wwE_96c3-L0Ywjf3Nm6c9gDURhLCwGZHQ&oe=637A507F&_nc_sid=30a2ef\n"
     ]
    }
   ],
   "source": [
    "for x in driver.find_elements_by_xpath('//div/img')[-3:]:\n",
    "    if x.get_property('alt').startswith('Photo'): \n",
    "        print(x.get_attribute('src'))\n",
    "        image_list.append(x.get_attribute('src'))"
   ]
  },
  {
   "cell_type": "code",
   "execution_count": 111,
   "id": "da96e120-5598-4bae-ae82-84646f11ab65",
   "metadata": {},
   "outputs": [
    {
     "name": "stdout",
     "output_type": "stream",
     "text": [
      "https://scontent-gmp1-1.cdninstagram.com/v/t51.2885-15/306382483_799968194369269_4880640767374534227_n.jpg?stp=dst-jpg_e35&_nc_ht=scontent-gmp1-1.cdninstagram.com&_nc_cat=101&_nc_ohc=qFgg3eYe4dMAX-rYw-7&edm=ABmJApABAAAA&ccb=7-5&ig_cache_key=MjkyNDEyNzUyNjk3OTA3MDY3OQ%3D%3D.2-ccb7-5&oh=00_AfByUDKSXkSFkSh05OLGbYON2HAtDBQFIuaX981_NERiSA&oe=637ADFDD&_nc_sid=6136e7\n",
      "https://scontent-gmp1-1.cdninstagram.com/v/t51.2885-15/306382483_799968194369269_4880640767374534227_n.jpg?stp=dst-jpg_e35&_nc_ht=scontent-gmp1-1.cdninstagram.com&_nc_cat=101&_nc_ohc=qFgg3eYe4dMAX-rYw-7&edm=ABmJApABAAAA&ccb=7-5&ig_cache_key=MjkyNDEyNzUyNjk3OTA3MDY3OQ%3D%3D.2-ccb7-5&oh=00_AfByUDKSXkSFkSh05OLGbYON2HAtDBQFIuaX981_NERiSA&oe=637ADFDD&_nc_sid=6136e7\n",
      "https://scontent-gmp1-1.cdninstagram.com/v/t51.2885-15/313689192_5565705930165340_7470918217344741727_n.jpg?stp=dst-jpg_e35&_nc_ht=scontent-gmp1-1.cdninstagram.com&_nc_cat=104&_nc_ohc=JDH60kAM2HwAX_AkYSa&edm=ALQROFkBAAAA&ccb=7-5&ig_cache_key=Mjk2MzIyNTEyMTY1NDY3NzE3OQ%3D%3D.2-ccb7-5&oh=00_AfBEjHtafk38XqN7OIPTHqz93CGqKfFK6LpXT7M3zsADcQ&oe=637A5503&_nc_sid=30a2ef\n",
      "https://scontent-gmp1-1.cdninstagram.com/v/t51.2885-15/313944671_101378119442903_7828911811475646877_n.jpg?stp=dst-jpg_e35&_nc_ht=scontent-gmp1-1.cdninstagram.com&_nc_cat=111&_nc_ohc=3sx439CKvScAX-p6JwX&edm=ALQROFkBAAAA&ccb=7-5&ig_cache_key=Mjk2MzIyNTEyMTY1NDY1MjM4Mg%3D%3D.2-ccb7-5&oh=00_AfDEdRSlFhXX4wwE_96c3-L0Ywjf3Nm6c9gDURhLCwGZHQ&oe=637A507F&_nc_sid=30a2ef\n"
     ]
    }
   ],
   "source": [
    "for src in image_list:\n",
    "    print(src)\n",
    "    if type(src) == str:\n",
    "        src = requests.get(src).content\n",
    "    \n",
    "    # if src not in downloaded_image_list:\n",
    "    image_save(src, download_directory, upload_date)\n",
    "    time.sleep(0.5)\n",
    "    downloaded_image_list = downloaded_image_list + image_list\n",
    "    time_delta = datetime.datetime.now().date() - datetime.date(yyyy, mm, dd)"
   ]
  },
  {
   "cell_type": "code",
   "execution_count": 96,
   "id": "b91564e1-a84f-4b91-a83e-a22e92ce1952",
   "metadata": {},
   "outputs": [
    {
     "data": {
      "text/plain": [
       "2"
      ]
     },
     "execution_count": 96,
     "metadata": {},
     "output_type": "execute_result"
    }
   ],
   "source": [
    "len(downloaded_image_list)"
   ]
  },
  {
   "cell_type": "code",
   "execution_count": 94,
   "id": "63efa07e-4f6b-4022-9aa3-6eaf6514094d",
   "metadata": {},
   "outputs": [
    {
     "data": {
      "text/plain": [
       "['https://scontent-gmp1-1.cdninstagram.com/v/t51.2885-15/306382483_799968194369269_4880640767374534227_n.jpg?stp=dst-jpg_e35&_nc_ht=scontent-gmp1-1.cdninstagram.com&_nc_cat=101&_nc_ohc=qFgg3eYe4dMAX-rYw-7&edm=ABmJApABAAAA&ccb=7-5&ig_cache_key=MjkyNDEyNzUyNjk3OTA3MDY3OQ%3D%3D.2-ccb7-5&oh=00_AfByUDKSXkSFkSh05OLGbYON2HAtDBQFIuaX981_NERiSA&oe=637ADFDD&_nc_sid=6136e7']"
      ]
     },
     "execution_count": 94,
     "metadata": {},
     "output_type": "execute_result"
    }
   ],
   "source": [
    "image_list"
   ]
  },
  {
   "cell_type": "code",
   "execution_count": null,
   "id": "616ec944-5753-4bc4-8927-98c09e92a9c7",
   "metadata": {},
   "outputs": [],
   "source": [
    "yyyy"
   ]
  },
  {
   "cell_type": "raw",
   "id": "6818ca68-27ed-4a4f-8397-d434269464d4",
   "metadata": {
    "tags": []
   },
   "source": [
    "global_stack = 0\n",
    "while True:\n",
    "    image_list = []\n",
    "    exists = os.listdir(download_directory)\n",
    "    while True:\n",
    "        yyyy, mm, dd = upload_date_check()\n",
    "        upload_date = (yyyy, mm, dd)\n",
    "        time_delta = datetime.datetime.now().date() - datetime.date(yyyy, mm, dd)\n",
    "\n",
    "        if time_delta > datetime.timedelta(days=90):\n",
    "            break\n",
    "\n",
    "        for x in driver.find_elements_by_xpath('//div/img')][-3::\n",
    "            if x.get_property('alt').startswith('Photo'): \n",
    "                image_list.append(x.get_attribute('src'))\n",
    "        try:\n",
    "            btn_next =  driver.find_element_by_class_name('_9zm2')\n",
    "            btn_next.click()\n",
    "        except NoSuchElementException:\n",
    "            next_post = driver.find_element_by_class_name('_aaqg._aaqh')\n",
    "            next_post.click()\n",
    "            break\n",
    "        except StaleElementReferenceException:\n",
    "            next_post = driver.find_element_by_class_name('_aaqg._aaqh')\n",
    "            next_post.click()\n",
    "            break\n",
    "        finally:\n",
    "            time.sleep(1)\n",
    "\n",
    "    image_list = list(set(image_list))\n",
    "    try:\n",
    "        image_list = [requests.get(src).content for src in image_list]\n",
    "    except ConnectionError:\n",
    "        body.send_keys(Keys.ARROW_RIGHT)\n",
    "        time.sleep(5)\n",
    "        continue\n",
    "    for src in image_list:\n",
    "        if src not in downloaded_image_list:\n",
    "            image_save(src, download_directory, upload_date)\n",
    "\n",
    "    downloaded_image_list = downloaded_image_list + image_list\n",
    "\n",
    "    \"\"\"if len(os.listdir(download_directory)) == len(exists):\n",
    "        global_stack += 1\n",
    "        print('\\n', global_stack)\n",
    "        if global_stack > 10:\n",
    "            break\"\"\"\n",
    "\n",
    "    yyyy, mm, dd = upload_date_check()\n",
    "    upload_date = (yyyy, mm, dd)\n",
    "    time_delta = datetime.datetime.now().date() - datetime.date(yyyy, mm, dd)\n",
    "\n",
    "    if time_delta > datetime.timedelta(days=90):\n",
    "        break"
   ]
  },
  {
   "cell_type": "code",
   "execution_count": 23,
   "id": "3572cc33-d84d-43b1-a447-57aaca96140a",
   "metadata": {},
   "outputs": [],
   "source": [
    "download_directory = os.path.join('./img', plusUrl)"
   ]
  },
  {
   "cell_type": "code",
   "execution_count": 24,
   "id": "f6a8f70c-52ae-4893-a9d9-11dfccc5c416",
   "metadata": {},
   "outputs": [
    {
     "data": {
      "text/plain": [
       "'./img\\\\nayoungkeem'"
      ]
     },
     "execution_count": 24,
     "metadata": {},
     "output_type": "execute_result"
    }
   ],
   "source": [
    "download_directory"
   ]
  },
  {
   "cell_type": "code",
   "execution_count": 45,
   "id": "36f6c98e-e629-455f-ba4d-4daa703a0219",
   "metadata": {},
   "outputs": [],
   "source": [
    "influencers = pd.read_csv('new_influencer.csv', index_col=0)\n",
    "exists_df = influencers.index.isin(os.listdir('./img'))\n",
    "influencers = influencers[~exists_df]    \n",
    "plusUrl = 'o._.julia'# influencers.index[0] # 'happpy_yein'\n",
    "url = baseUrl + quote_plus(plusUrl)\n",
    "try:\n",
    "    driver.get(url)\n",
    "except CannotSendRequest:\n",
    "    # continue\n",
    "    pass\n",
    "time.sleep(3)"
   ]
  },
  {
   "cell_type": "code",
   "execution_count": 47,
   "id": "32b4eb1a-f148-4825-9e02-cc39754a173e",
   "metadata": {},
   "outputs": [],
   "source": [
    "rest = requests.get(url)\n",
    "soup = BeautifulSoup(rest.content, 'html.parser')\n",
    "\n",
    "if soup.find('meta', {'name': 'description'}) == None:\n",
    "    print(\"\\nSOUP NO FOUND\")\n",
    "    influencers = influencers.drop(influencers.index[0])\n",
    "    influencers.to_csv('new_influencer.csv')\n",
    "    pass"
   ]
  },
  {
   "cell_type": "code",
   "execution_count": 49,
   "id": "9886fa00-794a-47c3-a22d-f8d11973362e",
   "metadata": {},
   "outputs": [],
   "source": [
    "# 이름 확인\n",
    "try:\n",
    "    NAME = driver.find_element_by_xpath('/html/body/div[1]/div/div/div/div[1]/div/div/div/div[1]/div[2]/div[2]/section/main/div/header/section/div[3]/span').text\n",
    "    NAME = unicodedata.normalize('NFC', NAME)\n",
    "except NoSuchElementException:\n",
    "    print(f\"\\nNO NAME {len(influencers)}\")\n",
    "    influencers = influencers.drop(influencers.index[0])\n",
    "    influencers.to_csv('new_influencer.csv')\n",
    "    pass"
   ]
  },
  {
   "cell_type": "code",
   "execution_count": 51,
   "id": "129de166-31f4-4e02-a445-d54e21e78968",
   "metadata": {},
   "outputs": [],
   "source": [
    "if isKorean(NAME):\n",
    "    pass\n",
    "else:\n",
    "    print(f\"\\nNO KOREAN {len(influencers)}\")\n",
    "    influencers = influencers.drop(influencers.index[0])\n",
    "    influencers.to_csv('new_influencer.csv')\n",
    "    pass"
   ]
  },
  {
   "cell_type": "code",
   "execution_count": 52,
   "id": "fd5a8f2a-7782-4fdd-b6b2-6f2f89cb9139",
   "metadata": {},
   "outputs": [],
   "source": [
    "summary_content = soup.find('meta', {'name': 'description'})['content']\n",
    "follower_count = summary_content.split(' ')[0]\n",
    "# print(\"팔로워 수: \"+str(follower_count))\n",
    "following_count = summary_content.split(' ')[2]\n",
    "# print(\"팔로잉 수: \"+str(following_count))\n",
    "post_count = summary_content.split(' ')[4]\n",
    "# print(\"게시물 수: \"+str(post_count))"
   ]
  },
  {
   "cell_type": "code",
   "execution_count": 53,
   "id": "f7de3e33-9d38-40f9-ac24-46a20ae14d3b",
   "metadata": {},
   "outputs": [],
   "source": [
    "time.sleep(1)\n",
    "try:\n",
    "    influencer_following, follower_count = crawl_influencers()\n",
    "    insta_link = ['https://www.instagram.com/'+x+'/' for x in influencer_following]\n",
    "    df = pd.DataFrame([influencer_following, insta_link], index=['influencer', 'instagram']).T\n",
    "    df_inf = pd.read_csv('new_influencer.csv')\n",
    "    new_df = pd.concat([df_inf, df]).reset_index(drop=True)\n",
    "    new_df.to_csv(\"new_influencer.csv\", index=False)\n",
    "except NoSuchElementException:\n",
    "    print(f\"\\nNO FOLLOWING {len(influencers)}\")"
   ]
  },
  {
   "cell_type": "code",
   "execution_count": 54,
   "id": "b069e861-b6f9-44a6-b2d8-7c7516c57c8c",
   "metadata": {},
   "outputs": [],
   "source": [
    "body = driver.find_element_by_css_selector('body')\n",
    "download_directory = os.path.join('./img', plusUrl)\n",
    "\n",
    "html = driver.page_source\n",
    "soup = BeautifulSoup(html)"
   ]
  },
  {
   "cell_type": "code",
   "execution_count": 56,
   "id": "2df1f216-acb1-4210-91b6-e02d93519e97",
   "metadata": {},
   "outputs": [
    {
     "name": "stdout",
     "output_type": "stream",
     "text": [
      "o._.julia Directory Exists\n"
     ]
    }
   ],
   "source": [
    "if not os.path.isdir('./img'):\n",
    "    os.mkdir('./img')\n",
    "\n",
    "if os.path.isdir(os.path.join('./img', plusUrl)):\n",
    "    print(f\"{plusUrl} Directory Exists\")\n",
    "    if len(os.listdir(os.path.join('./img', plusUrl))) != 0:\n",
    "        pass\n",
    "else:\n",
    "    os.mkdir(os.path.join('./img', plusUrl))\n",
    "    print(f\"{plusUrl} Make Directory\")"
   ]
  },
  {
   "cell_type": "code",
   "execution_count": 57,
   "id": "42341cd5-575e-41f1-a238-ecf04526c41e",
   "metadata": {},
   "outputs": [],
   "source": [
    "# 첫번째 이미지 클릭\n",
    "btn_images = driver.find_elements_by_class_name('_aabd._aa8k._aanf')\n",
    "\n",
    "btn = btn_images[0]\n",
    "btn.click()\n",
    "time.sleep(2)"
   ]
  },
  {
   "cell_type": "code",
   "execution_count": 89,
   "id": "a7072823-e1a7-4d97-bec6-5dd63e762752",
   "metadata": {},
   "outputs": [
    {
     "name": "stdout",
     "output_type": "stream",
     "text": [
      "https://scontent-gmp1-1.cdninstagram.com/v/t51.2885-15/306382483_799968194369269_4880640767374534227_n.jpg?stp=dst-jpg_e35&_nc_ht=scontent-gmp1-1.cdninstagram.com&_nc_cat=101&_nc_ohc=qFgg3eYe4dMAX-rYw-7&edm=ABmJApABAAAA&ccb=7-5&ig_cache_key=MjkyNDEyNzUyNjk3OTA3MDY3OQ%3D%3D.2-ccb7-5&oh=00_AfByUDKSXkSFkSh05OLGbYON2HAtDBQFIuaX981_NERiSA&oe=637ADFDD&_nc_sid=6136e7\n",
      "https://scontent-gmp1-1.cdninstagram.com/v/t51.2885-15/312412312_118497357699051_696758424604402565_n.jpg?stp=dst-jpg_e35&_nc_ht=scontent-gmp1-1.cdninstagram.com&_nc_cat=103&_nc_ohc=MuA5wNldTtYAX_b5Fqu&edm=ALQROFkBAAAA&ccb=7-5&ig_cache_key=Mjk1NTQ1OTY3OTUwNzQwODY5MQ%3D%3D.2-ccb7-5&oh=00_AfCfTEabfY710boNpsyzV97riiDqVWnPk_p1hxZcGFZTGA&oe=637B96B8&_nc_sid=30a2ef\n",
      "https://scontent-gmp1-1.cdninstagram.com/v/t51.2885-15/306382483_799968194369269_4880640767374534227_n.jpg?stp=dst-jpg_e35&_nc_ht=scontent-gmp1-1.cdninstagram.com&_nc_cat=101&_nc_ohc=qFgg3eYe4dMAX-rYw-7&edm=ABmJApABAAAA&ccb=7-5&ig_cache_key=MjkyNDEyNzUyNjk3OTA3MDY3OQ%3D%3D.2-ccb7-5&oh=00_AfByUDKSXkSFkSh05OLGbYON2HAtDBQFIuaX981_NERiSA&oe=637ADFDD&_nc_sid=6136e7\n",
      "https://scontent-gmp1-1.cdninstagram.com/v/t51.2885-15/312412312_118497357699051_696758424604402565_n.jpg?stp=dst-jpg_e35&_nc_ht=scontent-gmp1-1.cdninstagram.com&_nc_cat=103&_nc_ohc=MuA5wNldTtYAX_b5Fqu&edm=ALQROFkBAAAA&ccb=7-5&ig_cache_key=Mjk1NTQ1OTY3OTUwNzQwODY5MQ%3D%3D.2-ccb7-5&oh=00_AfCfTEabfY710boNpsyzV97riiDqVWnPk_p1hxZcGFZTGA&oe=637B96B8&_nc_sid=30a2ef\n",
      "https://scontent-gmp1-1.cdninstagram.com/v/t51.2885-15/306682756_791285215449483_8171761681419507451_n.jpg?stp=dst-jpg_e35&_nc_ht=scontent-gmp1-1.cdninstagram.com&_nc_cat=103&_nc_ohc=mCO456WS7zgAX_o4ENd&edm=ABmJApABAAAA&ccb=7-5&ig_cache_key=MjkzMDA0MjgxMzMwOTk3ODM3NQ%3D%3D.2-ccb7-5&oh=00_AfB-ygtMIjPL7ZsDvfvb5jGrph8s65dKhjbkjK47wUCgrw&oe=637A5887&_nc_sid=6136e7\n",
      "https://scontent-gmp1-1.cdninstagram.com/v/t51.2885-15/306382483_799968194369269_4880640767374534227_n.jpg?stp=dst-jpg_e35&_nc_ht=scontent-gmp1-1.cdninstagram.com&_nc_cat=101&_nc_ohc=qFgg3eYe4dMAX-rYw-7&edm=ABmJApABAAAA&ccb=7-5&ig_cache_key=MjkyNDEyNzUyNjk3OTA3MDY3OQ%3D%3D.2-ccb7-5&oh=00_AfByUDKSXkSFkSh05OLGbYON2HAtDBQFIuaX981_NERiSA&oe=637ADFDD&_nc_sid=6136e7\n"
     ]
    },
    {
     "ename": "KeyboardInterrupt",
     "evalue": "",
     "output_type": "error",
     "traceback": [
      "\u001b[1;31m---------------------------------------------------------------------------\u001b[0m",
      "\u001b[1;31mKeyboardInterrupt\u001b[0m                         Traceback (most recent call last)",
      "\u001b[1;32mC:\\Users\\Public\\Documents\\ESTsoft\\CreatorTemp\\ipykernel_27040\\4045380878.py\u001b[0m in \u001b[0;36m<module>\u001b[1;34m\u001b[0m\n\u001b[0;32m     30\u001b[0m                 \u001b[0mimage_list\u001b[0m\u001b[1;33m.\u001b[0m\u001b[0mappend\u001b[0m\u001b[1;33m(\u001b[0m\u001b[0mx\u001b[0m\u001b[1;33m.\u001b[0m\u001b[0mget_attribute\u001b[0m\u001b[1;33m(\u001b[0m\u001b[1;34m'src'\u001b[0m\u001b[1;33m)\u001b[0m\u001b[1;33m)\u001b[0m\u001b[1;33m\u001b[0m\u001b[1;33m\u001b[0m\u001b[0m\n\u001b[0;32m     31\u001b[0m         \u001b[1;32mtry\u001b[0m\u001b[1;33m:\u001b[0m\u001b[1;33m\u001b[0m\u001b[1;33m\u001b[0m\u001b[0m\n\u001b[1;32m---> 32\u001b[1;33m             \u001b[0mbtn_next\u001b[0m \u001b[1;33m=\u001b[0m  \u001b[0mdriver\u001b[0m\u001b[1;33m.\u001b[0m\u001b[0mfind_element_by_class_name\u001b[0m\u001b[1;33m(\u001b[0m\u001b[1;34m'_9zm2'\u001b[0m\u001b[1;33m)\u001b[0m\u001b[1;33m\u001b[0m\u001b[1;33m\u001b[0m\u001b[0m\n\u001b[0m\u001b[0;32m     33\u001b[0m             \u001b[0mbtn_next\u001b[0m\u001b[1;33m.\u001b[0m\u001b[0mclick\u001b[0m\u001b[1;33m(\u001b[0m\u001b[1;33m)\u001b[0m\u001b[1;33m\u001b[0m\u001b[1;33m\u001b[0m\u001b[0m\n\u001b[0;32m     34\u001b[0m         \u001b[1;32mexcept\u001b[0m \u001b[0mNoSuchElementException\u001b[0m\u001b[1;33m:\u001b[0m\u001b[1;33m\u001b[0m\u001b[1;33m\u001b[0m\u001b[0m\n",
      "\u001b[1;32m~\\Anaconda3\\envs\\fashion\\lib\\site-packages\\selenium\\webdriver\\remote\\webdriver.py\u001b[0m in \u001b[0;36mfind_element_by_class_name\u001b[1;34m(self, name)\u001b[0m\n\u001b[0;32m    553\u001b[0m             \u001b[0melement\u001b[0m \u001b[1;33m=\u001b[0m \u001b[0mdriver\u001b[0m\u001b[1;33m.\u001b[0m\u001b[0mfind_element_by_class_name\u001b[0m\u001b[1;33m(\u001b[0m\u001b[1;34m'foo'\u001b[0m\u001b[1;33m)\u001b[0m\u001b[1;33m\u001b[0m\u001b[1;33m\u001b[0m\u001b[0m\n\u001b[0;32m    554\u001b[0m         \"\"\"\n\u001b[1;32m--> 555\u001b[1;33m         \u001b[1;32mreturn\u001b[0m \u001b[0mself\u001b[0m\u001b[1;33m.\u001b[0m\u001b[0mfind_element\u001b[0m\u001b[1;33m(\u001b[0m\u001b[0mby\u001b[0m\u001b[1;33m=\u001b[0m\u001b[0mBy\u001b[0m\u001b[1;33m.\u001b[0m\u001b[0mCLASS_NAME\u001b[0m\u001b[1;33m,\u001b[0m \u001b[0mvalue\u001b[0m\u001b[1;33m=\u001b[0m\u001b[0mname\u001b[0m\u001b[1;33m)\u001b[0m\u001b[1;33m\u001b[0m\u001b[1;33m\u001b[0m\u001b[0m\n\u001b[0m\u001b[0;32m    556\u001b[0m \u001b[1;33m\u001b[0m\u001b[0m\n\u001b[0;32m    557\u001b[0m     \u001b[1;32mdef\u001b[0m \u001b[0mfind_elements_by_class_name\u001b[0m\u001b[1;33m(\u001b[0m\u001b[0mself\u001b[0m\u001b[1;33m,\u001b[0m \u001b[0mname\u001b[0m\u001b[1;33m)\u001b[0m\u001b[1;33m:\u001b[0m\u001b[1;33m\u001b[0m\u001b[1;33m\u001b[0m\u001b[0m\n",
      "\u001b[1;32m~\\Anaconda3\\envs\\fashion\\lib\\site-packages\\selenium\\webdriver\\remote\\webdriver.py\u001b[0m in \u001b[0;36mfind_element\u001b[1;34m(self, by, value)\u001b[0m\n\u001b[0;32m    953\u001b[0m         return self.execute(Command.FIND_ELEMENT, {\n\u001b[0;32m    954\u001b[0m             \u001b[1;34m'using'\u001b[0m\u001b[1;33m:\u001b[0m \u001b[0mby\u001b[0m\u001b[1;33m,\u001b[0m\u001b[1;33m\u001b[0m\u001b[1;33m\u001b[0m\u001b[0m\n\u001b[1;32m--> 955\u001b[1;33m             'value': value})['value']\n\u001b[0m\u001b[0;32m    956\u001b[0m \u001b[1;33m\u001b[0m\u001b[0m\n\u001b[0;32m    957\u001b[0m     \u001b[1;32mdef\u001b[0m \u001b[0mfind_elements\u001b[0m\u001b[1;33m(\u001b[0m\u001b[0mself\u001b[0m\u001b[1;33m,\u001b[0m \u001b[0mby\u001b[0m\u001b[1;33m=\u001b[0m\u001b[0mBy\u001b[0m\u001b[1;33m.\u001b[0m\u001b[0mID\u001b[0m\u001b[1;33m,\u001b[0m \u001b[0mvalue\u001b[0m\u001b[1;33m=\u001b[0m\u001b[1;32mNone\u001b[0m\u001b[1;33m)\u001b[0m\u001b[1;33m:\u001b[0m\u001b[1;33m\u001b[0m\u001b[1;33m\u001b[0m\u001b[0m\n",
      "\u001b[1;32m~\\Anaconda3\\envs\\fashion\\lib\\site-packages\\selenium\\webdriver\\remote\\webdriver.py\u001b[0m in \u001b[0;36mexecute\u001b[1;34m(self, driver_command, params)\u001b[0m\n\u001b[0;32m    308\u001b[0m \u001b[1;33m\u001b[0m\u001b[0m\n\u001b[0;32m    309\u001b[0m         \u001b[0mparams\u001b[0m \u001b[1;33m=\u001b[0m \u001b[0mself\u001b[0m\u001b[1;33m.\u001b[0m\u001b[0m_wrap_value\u001b[0m\u001b[1;33m(\u001b[0m\u001b[0mparams\u001b[0m\u001b[1;33m)\u001b[0m\u001b[1;33m\u001b[0m\u001b[1;33m\u001b[0m\u001b[0m\n\u001b[1;32m--> 310\u001b[1;33m         \u001b[0mresponse\u001b[0m \u001b[1;33m=\u001b[0m \u001b[0mself\u001b[0m\u001b[1;33m.\u001b[0m\u001b[0mcommand_executor\u001b[0m\u001b[1;33m.\u001b[0m\u001b[0mexecute\u001b[0m\u001b[1;33m(\u001b[0m\u001b[0mdriver_command\u001b[0m\u001b[1;33m,\u001b[0m \u001b[0mparams\u001b[0m\u001b[1;33m)\u001b[0m\u001b[1;33m\u001b[0m\u001b[1;33m\u001b[0m\u001b[0m\n\u001b[0m\u001b[0;32m    311\u001b[0m         \u001b[1;32mif\u001b[0m \u001b[0mresponse\u001b[0m\u001b[1;33m:\u001b[0m\u001b[1;33m\u001b[0m\u001b[1;33m\u001b[0m\u001b[0m\n\u001b[0;32m    312\u001b[0m             \u001b[0mself\u001b[0m\u001b[1;33m.\u001b[0m\u001b[0merror_handler\u001b[0m\u001b[1;33m.\u001b[0m\u001b[0mcheck_response\u001b[0m\u001b[1;33m(\u001b[0m\u001b[0mresponse\u001b[0m\u001b[1;33m)\u001b[0m\u001b[1;33m\u001b[0m\u001b[1;33m\u001b[0m\u001b[0m\n",
      "\u001b[1;32m~\\Anaconda3\\envs\\fashion\\lib\\site-packages\\selenium\\webdriver\\remote\\remote_connection.py\u001b[0m in \u001b[0;36mexecute\u001b[1;34m(self, command, params)\u001b[0m\n\u001b[0;32m    464\u001b[0m         \u001b[0mdata\u001b[0m \u001b[1;33m=\u001b[0m \u001b[0mutils\u001b[0m\u001b[1;33m.\u001b[0m\u001b[0mdump_json\u001b[0m\u001b[1;33m(\u001b[0m\u001b[0mparams\u001b[0m\u001b[1;33m)\u001b[0m\u001b[1;33m\u001b[0m\u001b[1;33m\u001b[0m\u001b[0m\n\u001b[0;32m    465\u001b[0m         \u001b[0murl\u001b[0m \u001b[1;33m=\u001b[0m \u001b[1;34m'%s%s'\u001b[0m \u001b[1;33m%\u001b[0m \u001b[1;33m(\u001b[0m\u001b[0mself\u001b[0m\u001b[1;33m.\u001b[0m\u001b[0m_url\u001b[0m\u001b[1;33m,\u001b[0m \u001b[0mpath\u001b[0m\u001b[1;33m)\u001b[0m\u001b[1;33m\u001b[0m\u001b[1;33m\u001b[0m\u001b[0m\n\u001b[1;32m--> 466\u001b[1;33m         \u001b[1;32mreturn\u001b[0m \u001b[0mself\u001b[0m\u001b[1;33m.\u001b[0m\u001b[0m_request\u001b[0m\u001b[1;33m(\u001b[0m\u001b[0mcommand_info\u001b[0m\u001b[1;33m[\u001b[0m\u001b[1;36m0\u001b[0m\u001b[1;33m]\u001b[0m\u001b[1;33m,\u001b[0m \u001b[0murl\u001b[0m\u001b[1;33m,\u001b[0m \u001b[0mbody\u001b[0m\u001b[1;33m=\u001b[0m\u001b[0mdata\u001b[0m\u001b[1;33m)\u001b[0m\u001b[1;33m\u001b[0m\u001b[1;33m\u001b[0m\u001b[0m\n\u001b[0m\u001b[0;32m    467\u001b[0m \u001b[1;33m\u001b[0m\u001b[0m\n\u001b[0;32m    468\u001b[0m     \u001b[1;32mdef\u001b[0m \u001b[0m_request\u001b[0m\u001b[1;33m(\u001b[0m\u001b[0mself\u001b[0m\u001b[1;33m,\u001b[0m \u001b[0mmethod\u001b[0m\u001b[1;33m,\u001b[0m \u001b[0murl\u001b[0m\u001b[1;33m,\u001b[0m \u001b[0mbody\u001b[0m\u001b[1;33m=\u001b[0m\u001b[1;32mNone\u001b[0m\u001b[1;33m)\u001b[0m\u001b[1;33m:\u001b[0m\u001b[1;33m\u001b[0m\u001b[1;33m\u001b[0m\u001b[0m\n",
      "\u001b[1;32m~\\Anaconda3\\envs\\fashion\\lib\\site-packages\\selenium\\webdriver\\remote\\remote_connection.py\u001b[0m in \u001b[0;36m_request\u001b[1;34m(self, method, url, body)\u001b[0m\n\u001b[0;32m    488\u001b[0m             \u001b[1;32mtry\u001b[0m\u001b[1;33m:\u001b[0m\u001b[1;33m\u001b[0m\u001b[1;33m\u001b[0m\u001b[0m\n\u001b[0;32m    489\u001b[0m                 \u001b[0mself\u001b[0m\u001b[1;33m.\u001b[0m\u001b[0m_conn\u001b[0m\u001b[1;33m.\u001b[0m\u001b[0mrequest\u001b[0m\u001b[1;33m(\u001b[0m\u001b[0mmethod\u001b[0m\u001b[1;33m,\u001b[0m \u001b[0mparsed_url\u001b[0m\u001b[1;33m.\u001b[0m\u001b[0mpath\u001b[0m\u001b[1;33m,\u001b[0m \u001b[0mbody\u001b[0m\u001b[1;33m,\u001b[0m \u001b[0mheaders\u001b[0m\u001b[1;33m)\u001b[0m\u001b[1;33m\u001b[0m\u001b[1;33m\u001b[0m\u001b[0m\n\u001b[1;32m--> 490\u001b[1;33m                 \u001b[0mresp\u001b[0m \u001b[1;33m=\u001b[0m \u001b[0mself\u001b[0m\u001b[1;33m.\u001b[0m\u001b[0m_conn\u001b[0m\u001b[1;33m.\u001b[0m\u001b[0mgetresponse\u001b[0m\u001b[1;33m(\u001b[0m\u001b[1;33m)\u001b[0m\u001b[1;33m\u001b[0m\u001b[1;33m\u001b[0m\u001b[0m\n\u001b[0m\u001b[0;32m    491\u001b[0m             \u001b[1;32mexcept\u001b[0m \u001b[1;33m(\u001b[0m\u001b[0mhttplib\u001b[0m\u001b[1;33m.\u001b[0m\u001b[0mHTTPException\u001b[0m\u001b[1;33m,\u001b[0m \u001b[0msocket\u001b[0m\u001b[1;33m.\u001b[0m\u001b[0merror\u001b[0m\u001b[1;33m)\u001b[0m\u001b[1;33m:\u001b[0m\u001b[1;33m\u001b[0m\u001b[1;33m\u001b[0m\u001b[0m\n\u001b[0;32m    492\u001b[0m                 \u001b[0mself\u001b[0m\u001b[1;33m.\u001b[0m\u001b[0m_conn\u001b[0m\u001b[1;33m.\u001b[0m\u001b[0mclose\u001b[0m\u001b[1;33m(\u001b[0m\u001b[1;33m)\u001b[0m\u001b[1;33m\u001b[0m\u001b[1;33m\u001b[0m\u001b[0m\n",
      "\u001b[1;32m~\\Anaconda3\\envs\\fashion\\lib\\http\\client.py\u001b[0m in \u001b[0;36mgetresponse\u001b[1;34m(self)\u001b[0m\n\u001b[0;32m   1371\u001b[0m         \u001b[1;32mtry\u001b[0m\u001b[1;33m:\u001b[0m\u001b[1;33m\u001b[0m\u001b[1;33m\u001b[0m\u001b[0m\n\u001b[0;32m   1372\u001b[0m             \u001b[1;32mtry\u001b[0m\u001b[1;33m:\u001b[0m\u001b[1;33m\u001b[0m\u001b[1;33m\u001b[0m\u001b[0m\n\u001b[1;32m-> 1373\u001b[1;33m                 \u001b[0mresponse\u001b[0m\u001b[1;33m.\u001b[0m\u001b[0mbegin\u001b[0m\u001b[1;33m(\u001b[0m\u001b[1;33m)\u001b[0m\u001b[1;33m\u001b[0m\u001b[1;33m\u001b[0m\u001b[0m\n\u001b[0m\u001b[0;32m   1374\u001b[0m             \u001b[1;32mexcept\u001b[0m \u001b[0mConnectionError\u001b[0m\u001b[1;33m:\u001b[0m\u001b[1;33m\u001b[0m\u001b[1;33m\u001b[0m\u001b[0m\n\u001b[0;32m   1375\u001b[0m                 \u001b[0mself\u001b[0m\u001b[1;33m.\u001b[0m\u001b[0mclose\u001b[0m\u001b[1;33m(\u001b[0m\u001b[1;33m)\u001b[0m\u001b[1;33m\u001b[0m\u001b[1;33m\u001b[0m\u001b[0m\n",
      "\u001b[1;32m~\\Anaconda3\\envs\\fashion\\lib\\http\\client.py\u001b[0m in \u001b[0;36mbegin\u001b[1;34m(self)\u001b[0m\n\u001b[0;32m    317\u001b[0m         \u001b[1;31m# read until we get a non-100 response\u001b[0m\u001b[1;33m\u001b[0m\u001b[1;33m\u001b[0m\u001b[1;33m\u001b[0m\u001b[0m\n\u001b[0;32m    318\u001b[0m         \u001b[1;32mwhile\u001b[0m \u001b[1;32mTrue\u001b[0m\u001b[1;33m:\u001b[0m\u001b[1;33m\u001b[0m\u001b[1;33m\u001b[0m\u001b[0m\n\u001b[1;32m--> 319\u001b[1;33m             \u001b[0mversion\u001b[0m\u001b[1;33m,\u001b[0m \u001b[0mstatus\u001b[0m\u001b[1;33m,\u001b[0m \u001b[0mreason\u001b[0m \u001b[1;33m=\u001b[0m \u001b[0mself\u001b[0m\u001b[1;33m.\u001b[0m\u001b[0m_read_status\u001b[0m\u001b[1;33m(\u001b[0m\u001b[1;33m)\u001b[0m\u001b[1;33m\u001b[0m\u001b[1;33m\u001b[0m\u001b[0m\n\u001b[0m\u001b[0;32m    320\u001b[0m             \u001b[1;32mif\u001b[0m \u001b[0mstatus\u001b[0m \u001b[1;33m!=\u001b[0m \u001b[0mCONTINUE\u001b[0m\u001b[1;33m:\u001b[0m\u001b[1;33m\u001b[0m\u001b[1;33m\u001b[0m\u001b[0m\n\u001b[0;32m    321\u001b[0m                 \u001b[1;32mbreak\u001b[0m\u001b[1;33m\u001b[0m\u001b[1;33m\u001b[0m\u001b[0m\n",
      "\u001b[1;32m~\\Anaconda3\\envs\\fashion\\lib\\http\\client.py\u001b[0m in \u001b[0;36m_read_status\u001b[1;34m(self)\u001b[0m\n\u001b[0;32m    278\u001b[0m \u001b[1;33m\u001b[0m\u001b[0m\n\u001b[0;32m    279\u001b[0m     \u001b[1;32mdef\u001b[0m \u001b[0m_read_status\u001b[0m\u001b[1;33m(\u001b[0m\u001b[0mself\u001b[0m\u001b[1;33m)\u001b[0m\u001b[1;33m:\u001b[0m\u001b[1;33m\u001b[0m\u001b[1;33m\u001b[0m\u001b[0m\n\u001b[1;32m--> 280\u001b[1;33m         \u001b[0mline\u001b[0m \u001b[1;33m=\u001b[0m \u001b[0mstr\u001b[0m\u001b[1;33m(\u001b[0m\u001b[0mself\u001b[0m\u001b[1;33m.\u001b[0m\u001b[0mfp\u001b[0m\u001b[1;33m.\u001b[0m\u001b[0mreadline\u001b[0m\u001b[1;33m(\u001b[0m\u001b[0m_MAXLINE\u001b[0m \u001b[1;33m+\u001b[0m \u001b[1;36m1\u001b[0m\u001b[1;33m)\u001b[0m\u001b[1;33m,\u001b[0m \u001b[1;34m\"iso-8859-1\"\u001b[0m\u001b[1;33m)\u001b[0m\u001b[1;33m\u001b[0m\u001b[1;33m\u001b[0m\u001b[0m\n\u001b[0m\u001b[0;32m    281\u001b[0m         \u001b[1;32mif\u001b[0m \u001b[0mlen\u001b[0m\u001b[1;33m(\u001b[0m\u001b[0mline\u001b[0m\u001b[1;33m)\u001b[0m \u001b[1;33m>\u001b[0m \u001b[0m_MAXLINE\u001b[0m\u001b[1;33m:\u001b[0m\u001b[1;33m\u001b[0m\u001b[1;33m\u001b[0m\u001b[0m\n\u001b[0;32m    282\u001b[0m             \u001b[1;32mraise\u001b[0m \u001b[0mLineTooLong\u001b[0m\u001b[1;33m(\u001b[0m\u001b[1;34m\"status line\"\u001b[0m\u001b[1;33m)\u001b[0m\u001b[1;33m\u001b[0m\u001b[1;33m\u001b[0m\u001b[0m\n",
      "\u001b[1;32m~\\Anaconda3\\envs\\fashion\\lib\\socket.py\u001b[0m in \u001b[0;36mreadinto\u001b[1;34m(self, b)\u001b[0m\n\u001b[0;32m    587\u001b[0m         \u001b[1;32mwhile\u001b[0m \u001b[1;32mTrue\u001b[0m\u001b[1;33m:\u001b[0m\u001b[1;33m\u001b[0m\u001b[1;33m\u001b[0m\u001b[0m\n\u001b[0;32m    588\u001b[0m             \u001b[1;32mtry\u001b[0m\u001b[1;33m:\u001b[0m\u001b[1;33m\u001b[0m\u001b[1;33m\u001b[0m\u001b[0m\n\u001b[1;32m--> 589\u001b[1;33m                 \u001b[1;32mreturn\u001b[0m \u001b[0mself\u001b[0m\u001b[1;33m.\u001b[0m\u001b[0m_sock\u001b[0m\u001b[1;33m.\u001b[0m\u001b[0mrecv_into\u001b[0m\u001b[1;33m(\u001b[0m\u001b[0mb\u001b[0m\u001b[1;33m)\u001b[0m\u001b[1;33m\u001b[0m\u001b[1;33m\u001b[0m\u001b[0m\n\u001b[0m\u001b[0;32m    590\u001b[0m             \u001b[1;32mexcept\u001b[0m \u001b[0mtimeout\u001b[0m\u001b[1;33m:\u001b[0m\u001b[1;33m\u001b[0m\u001b[1;33m\u001b[0m\u001b[0m\n\u001b[0;32m    591\u001b[0m                 \u001b[0mself\u001b[0m\u001b[1;33m.\u001b[0m\u001b[0m_timeout_occurred\u001b[0m \u001b[1;33m=\u001b[0m \u001b[1;32mTrue\u001b[0m\u001b[1;33m\u001b[0m\u001b[1;33m\u001b[0m\u001b[0m\n",
      "\u001b[1;31mKeyboardInterrupt\u001b[0m: "
     ]
    }
   ],
   "source": [
    "downloaded_image_list = []\n",
    "global_stack = 0\n",
    "while True:\n",
    "    image_list = []\n",
    "    exists = os.listdir(download_directory)\n",
    "    while True:\n",
    "        if upload_date_check() != False:\n",
    "            yyyy, mm, dd = upload_date_check()\n",
    "            upload_date = (yyyy, mm, dd)\n",
    "            time_delta = datetime.datetime.now().date() - datetime.date(yyyy, mm, dd)\n",
    "        else:\n",
    "            try:\n",
    "                btn_next =  driver.find_element_by_class_name('_9zm2')\n",
    "                btn_next.click()\n",
    "            except NoSuchElementException:\n",
    "                try:\n",
    "                    next_post = driver.find_element_by_class_name('_aaqg._aaqh')\n",
    "                    next_post.click()\n",
    "                except NoSuchElementException:\n",
    "                    pass\n",
    "                finally:\n",
    "                    break\n",
    "\n",
    "        if time_delta > datetime.timedelta(days=90):\n",
    "            break\n",
    "\n",
    "        for x in driver.find_elements_by_xpath('//div/img')[-5:]:\n",
    "            if x.get_property('alt').startswith('Photo'): \n",
    "                print(x.get_attribute('src'))\n",
    "                image_list.append(x.get_attribute('src'))\n",
    "        try:\n",
    "            btn_next =  driver.find_element_by_class_name('_9zm2')\n",
    "            btn_next.click()\n",
    "        except NoSuchElementException:\n",
    "            try:\n",
    "                next_post = driver.find_element_by_class_name('_aaqg._aaqh')\n",
    "                next_post.click()\n",
    "            except NoSuchElementException:\n",
    "                pass\n",
    "            finally:\n",
    "                break\n",
    "        except StaleElementReferenceException:\n",
    "            try:\n",
    "                next_post = driver.find_element_by_class_name('_aaqg._aaqh')\n",
    "                next_post.click()\n",
    "            except NoSuchElementException:\n",
    "                pass\n",
    "            finally:\n",
    "                break\n",
    "        finally:\n",
    "            time.sleep(1)\n",
    "\n",
    "    image_list = list(set(image_list))\n",
    "    try:\n",
    "        images = [requests.get(src).content for src in image_list]\n",
    "    except ConnectionError:\n",
    "        body.send_keys(Keys.ARROW_RIGHT)\n",
    "        time.sleep(5)\n",
    "        continue\n",
    "    for src in image_list:\n",
    "        if src not in downloaded_image_list:\n",
    "            image = requests.get(src).content\n",
    "            image_save(image, download_directory, upload_date)\n",
    "\n",
    "            downloaded_image_list = downloaded_image_list + image_list\n",
    "            time_delta = datetime.datetime.now().date() - datetime.date(yyyy, mm, dd)\n",
    "    try:\n",
    "        time_delta\n",
    "    except NameError:\n",
    "        continue\n",
    "    if time_delta > datetime.timedelta(days=90):\n",
    "        break\n",
    "print()"
   ]
  },
  {
   "cell_type": "code",
   "execution_count": null,
   "id": "c69189c3-8f48-4400-b212-6ff4fad0c2f3",
   "metadata": {},
   "outputs": [],
   "source": []
  }
 ],
 "metadata": {
  "kernelspec": {
   "display_name": "Python 3 (ipykernel)",
   "language": "python",
   "name": "python3"
  },
  "language_info": {
   "codemirror_mode": {
    "name": "ipython",
    "version": 3
   },
   "file_extension": ".py",
   "mimetype": "text/x-python",
   "name": "python",
   "nbconvert_exporter": "python",
   "pygments_lexer": "ipython3",
   "version": "3.7.13"
  },
  "vscode": {
   "interpreter": {
    "hash": "f7b27d126cadf569cfd18551a6e37f23bf0d611eb9f4689380b3001adb8c760b"
   }
  }
 },
 "nbformat": 4,
 "nbformat_minor": 5
}
